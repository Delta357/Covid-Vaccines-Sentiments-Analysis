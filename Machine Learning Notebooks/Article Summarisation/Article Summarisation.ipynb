{
 "cells": [
  {
   "cell_type": "markdown",
   "metadata": {},
   "source": [
    "# Article Summarisation"
   ]
  },
  {
   "cell_type": "markdown",
   "metadata": {},
   "source": [
    "### Hugging Face Library \n",
    "Build, train and deploy state of the art models powered by the reference open source in natural language processing."
   ]
  },
  {
   "cell_type": "code",
   "execution_count": 1,
   "metadata": {},
   "outputs": [],
   "source": [
    "from transformers import pipeline"
   ]
  },
  {
   "cell_type": "markdown",
   "metadata": {},
   "source": [
    "**Transformers** (formerly known as pytorch-transformers and pytorch-pretrained-bert) provides general-purpose architectures (BERT, GPT-2, RoBERTa, XLM, DistilBert, XLNet…) for Natural Language Understanding (NLU) and Natural Language Generation (NLG) with over 32+ pretrained models in 100+ languages and deep interoperability between TensorFlow 2.0 and PyTorch"
   ]
  },
  {
   "cell_type": "code",
   "execution_count": 2,
   "metadata": {},
   "outputs": [
    {
     "name": "stderr",
     "output_type": "stream",
     "text": [
      "All model checkpoint layers were used when initializing TFT5ForConditionalGeneration.\n",
      "\n",
      "All the layers of TFT5ForConditionalGeneration were initialized from the model checkpoint at t5-small.\n",
      "If your task is similar to the task the model of the checkpoint was trained on, you can already use TFT5ForConditionalGeneration for predictions without further training.\n"
     ]
    }
   ],
   "source": [
    "#Creating a summarization Object\n",
    "\n",
    "summarizer = pipeline('summarization')"
   ]
  },
  {
   "cell_type": "code",
   "execution_count": 3,
   "metadata": {},
   "outputs": [],
   "source": [
    "#Article to summarise\n",
    "\n",
    "article = \"\"\" Haffkine Biopharma Corporation, Mumbai, has received permission from the Union government to manufacture Covaxin,\n",
    "an anti-coronavirus vaccine of Bharat Biotech, on technology transfer basis.Chief Minister Uddhav Thackeray thanked \n",
    "Prime Minister Narendra Modi for this late on Thursday evening.The State government had sent the proposal to the Centre in the\n",
    "last week of February saying the infrastructure of Haffkine, which is known for vaccine production, could be used for \n",
    "corona vaccine production in the country. Mr. Thackeray had even raised the issue in his video-conference with Mr. Modi, \n",
    "last month.State Chief Secretary Sitaram Kunte received a letter from Renu Swarup, Secretary of Science and Technology Ministry,\n",
    "Government of India, granting permission, for one year, based on the recommendation of the technical committee of scientists.\n",
    "The letter said experienced and trained technicians should be appointed at the earliest to ensure production of the vaccine.\n",
    "Mr. Thackeray has directed Mr. Kunte to appoint a senior official to monitor the project and ensure timely delivery of the\n",
    "vaccine.\n",
    "\"\"\""
   ]
  },
  {
   "cell_type": "code",
   "execution_count": 8,
   "metadata": {},
   "outputs": [],
   "source": [
    "#Returns a summarized article\n",
    "\n",
    "#max_length--maximum no. of words in summarization\n",
    "#min_length--minimum no. of words in summarization\n",
    "summarized_article = summarizer(article,max_length=130, min_length=50,do_sample=False)"
   ]
  },
  {
   "cell_type": "code",
   "execution_count": 9,
   "metadata": {},
   "outputs": [
    {
     "data": {
      "text/plain": [
       "'state government had sent proposal to the Centre in last week of february . it said infrastructure of Haffkine could be used for corona vaccine production . state chief secretary sitaram Kunte received a letter granting permission for one year .'"
      ]
     },
     "execution_count": 9,
     "metadata": {},
     "output_type": "execute_result"
    }
   ],
   "source": [
    "#Summarized article\n",
    "\n",
    "summarized_article[0]['summary_text']"
   ]
  }
 ],
 "metadata": {
  "kernelspec": {
   "display_name": "Python 3",
   "language": "python",
   "name": "python3"
  },
  "language_info": {
   "codemirror_mode": {
    "name": "ipython",
    "version": 3
   },
   "file_extension": ".py",
   "mimetype": "text/x-python",
   "name": "python",
   "nbconvert_exporter": "python",
   "pygments_lexer": "ipython3",
   "version": "3.8.5"
  }
 },
 "nbformat": 4,
 "nbformat_minor": 4
}
