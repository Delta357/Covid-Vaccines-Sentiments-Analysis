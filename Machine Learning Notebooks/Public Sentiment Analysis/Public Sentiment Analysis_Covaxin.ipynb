{
 "cells": [
  {
   "cell_type": "code",
   "execution_count": 1,
   "metadata": {},
   "outputs": [],
   "source": [
    "#Importing libraries\n",
    "\n",
    "#Importing pandas\n",
    "import pandas as pd\n",
    "#Natural Language Processing\n",
    "import nltk"
   ]
  },
  {
   "cell_type": "markdown",
   "metadata": {},
   "source": [
    "## Covaxin"
   ]
  },
  {
   "cell_type": "code",
   "execution_count": 2,
   "metadata": {},
   "outputs": [],
   "source": [
    "covaxin_january=pd.read_csv('Covaxin_tweets_January_cleaned.csv')\n",
    "covaxin_february=pd.read_csv('Covaxin_tweets_February_cleaned.csv')\n",
    "covaxin_march=pd.read_csv('Covaxin_tweets_March_cleaned.csv')\n",
    "covaxin_april=pd.read_csv('Covaxin_tweets_April_cleaned.csv')\n",
    "covaxin_may=pd.read_csv('Covaxin_tweets_May_cleaned.csv')\n",
    "covaxin_june=pd.read_csv('Covaxin_tweets_June_cleaned.csv')\n",
    "covaxin_july=pd.read_csv('Covaxin_tweets_July_cleaned.csv')\n",
    "covaxin_august=pd.read_csv('Covaxin_tweets_August_cleaned.csv')\n",
    "covaxin_september=pd.read_csv('Covaxin_tweets_September_cleaned.csv')"
   ]
  },
  {
   "cell_type": "code",
   "execution_count": 3,
   "metadata": {},
   "outputs": [
    {
     "data": {
      "text/html": [
       "<div>\n",
       "<style scoped>\n",
       "    .dataframe tbody tr th:only-of-type {\n",
       "        vertical-align: middle;\n",
       "    }\n",
       "\n",
       "    .dataframe tbody tr th {\n",
       "        vertical-align: top;\n",
       "    }\n",
       "\n",
       "    .dataframe thead th {\n",
       "        text-align: right;\n",
       "    }\n",
       "</style>\n",
       "<table border=\"1\" class=\"dataframe\">\n",
       "  <thead>\n",
       "    <tr style=\"text-align: right;\">\n",
       "      <th></th>\n",
       "      <th>Created_At</th>\n",
       "      <th>Tweet</th>\n",
       "      <th>Tweet_clean</th>\n",
       "    </tr>\n",
       "  </thead>\n",
       "  <tbody>\n",
       "    <tr>\n",
       "      <th>0</th>\n",
       "      <td>2021-01-16 00:01:06+00:00</td>\n",
       "      <td>$OCGN Covishield &amp;amp; Covaxin virtually the s...</td>\n",
       "      <td>OCGN Covishield  amp  Covaxin virtually the s...</td>\n",
       "    </tr>\n",
       "    <tr>\n",
       "      <th>1</th>\n",
       "      <td>2021-01-16 00:12:29+00:00</td>\n",
       "      <td>@narendramodi @INCIndia @BJP4India  PM is a tr...</td>\n",
       "      <td>PM is a true nationalist by giving green s...</td>\n",
       "    </tr>\n",
       "    <tr>\n",
       "      <th>2</th>\n",
       "      <td>2021-01-16 00:13:59+00:00</td>\n",
       "      <td>@mangeshn Joe biden has already taken the vacc...</td>\n",
       "      <td>Joe biden has already taken the vaccine to en...</td>\n",
       "    </tr>\n",
       "    <tr>\n",
       "      <th>3</th>\n",
       "      <td>2021-01-16 00:22:53+00:00</td>\n",
       "      <td>Vaccine dilemma: to take or not to take Covaxi...</td>\n",
       "      <td>Vaccine dilemma  to take or not to take Covaxin</td>\n",
       "    </tr>\n",
       "    <tr>\n",
       "      <th>4</th>\n",
       "      <td>2021-01-16 00:35:21+00:00</td>\n",
       "      <td>@JoeBiden You say part of the plan is getting ...</td>\n",
       "      <td>You say part of the plan is getting kids back...</td>\n",
       "    </tr>\n",
       "  </tbody>\n",
       "</table>\n",
       "</div>"
      ],
      "text/plain": [
       "                  Created_At  \\\n",
       "0  2021-01-16 00:01:06+00:00   \n",
       "1  2021-01-16 00:12:29+00:00   \n",
       "2  2021-01-16 00:13:59+00:00   \n",
       "3  2021-01-16 00:22:53+00:00   \n",
       "4  2021-01-16 00:35:21+00:00   \n",
       "\n",
       "                                               Tweet  \\\n",
       "0  $OCGN Covishield &amp; Covaxin virtually the s...   \n",
       "1  @narendramodi @INCIndia @BJP4India  PM is a tr...   \n",
       "2  @mangeshn Joe biden has already taken the vacc...   \n",
       "3  Vaccine dilemma: to take or not to take Covaxi...   \n",
       "4  @JoeBiden You say part of the plan is getting ...   \n",
       "\n",
       "                                         Tweet_clean  \n",
       "0   OCGN Covishield  amp  Covaxin virtually the s...  \n",
       "1      PM is a true nationalist by giving green s...  \n",
       "2   Joe biden has already taken the vaccine to en...  \n",
       "3   Vaccine dilemma  to take or not to take Covaxin   \n",
       "4   You say part of the plan is getting kids back...  "
      ]
     },
     "execution_count": 3,
     "metadata": {},
     "output_type": "execute_result"
    }
   ],
   "source": [
    "#Head of dataframe\n",
    "covaxin_january.head()"
   ]
  },
  {
   "cell_type": "markdown",
   "metadata": {},
   "source": [
    "### Sentiment Analysis"
   ]
  },
  {
   "cell_type": "markdown",
   "metadata": {},
   "source": [
    "**VADER ( Valence Aware Dictionary for Sentiment Reasoning)** is a model used for text sentiment analysis that is sensitive to both polarity (positive/negative) and intensity (strength) of emotion. It is available in the NLTK package and can be applied directly to unlabeled text data."
   ]
  },
  {
   "cell_type": "code",
   "execution_count": 4,
   "metadata": {},
   "outputs": [],
   "source": [
    "# Sentiment Analysis (VADER)\n",
    "from nltk.sentiment.vader import SentimentIntensityAnalyzer"
   ]
  },
  {
   "cell_type": "code",
   "execution_count": 5,
   "metadata": {},
   "outputs": [],
   "source": [
    "# Creating Object of Sentiment Intensity Analyser\n",
    "\n",
    "sid = SentimentIntensityAnalyzer()"
   ]
  },
  {
   "cell_type": "code",
   "execution_count": 6,
   "metadata": {},
   "outputs": [
    {
     "data": {
      "text/plain": [
       "{'neg': 0.0, 'neu': 0.907, 'pos': 0.093, 'compound': 0.3818}"
      ]
     },
     "execution_count": 6,
     "metadata": {},
     "output_type": "execute_result"
    }
   ],
   "source": [
    "#Finding Polarity scores on tweet\n",
    "\n",
    "sid.polarity_scores(covaxin_january['Tweet_clean'][1])\n",
    "#The compound scores of 0-1 is positive, 0 is for neutral, -0 to -1 for negative."
   ]
  },
  {
   "cell_type": "code",
   "execution_count": 6,
   "metadata": {},
   "outputs": [],
   "source": [
    "#Creating Scores column to record polarity scores of tweet_clean column by lambda function.\n",
    "\n",
    "covaxin_january['scores']=covaxin_january['Tweet_clean'].apply(lambda tweet_clean:sid.polarity_scores(tweet_clean))\n",
    "covaxin_february['scores']=covaxin_february['Tweet_clean'].apply(lambda tweet_clean:sid.polarity_scores(tweet_clean))\n",
    "covaxin_march['scores']=covaxin_march['Tweet_clean'].apply(lambda tweet_clean:sid.polarity_scores(tweet_clean))\n",
    "covaxin_april['scores']=covaxin_april['Tweet_clean'].apply(lambda tweet_clean:sid.polarity_scores(tweet_clean))\n",
    "covaxin_may['scores']=covaxin_may['Tweet_clean'].apply(lambda tweet_clean:sid.polarity_scores(tweet_clean))\n",
    "covaxin_june['scores']=covaxin_june['Tweet_clean'].apply(lambda tweet_clean:sid.polarity_scores(tweet_clean))\n",
    "covaxin_july['scores']=covaxin_july['Tweet_clean'].apply(lambda tweet_clean:sid.polarity_scores(tweet_clean))\n",
    "covaxin_august['scores']=covaxin_august['Tweet_clean'].apply(lambda tweet_clean:sid.polarity_scores(tweet_clean))\n",
    "covaxin_september['scores']=covaxin_september['Tweet_clean'].apply(lambda tweet_clean:sid.polarity_scores(tweet_clean))"
   ]
  },
  {
   "cell_type": "markdown",
   "metadata": {},
   "source": [
    "**Polarity Score** provides Positive, Negative, Neutral and Compound score of the sentences provided to it "
   ]
  },
  {
   "cell_type": "code",
   "execution_count": 7,
   "metadata": {},
   "outputs": [
    {
     "data": {
      "text/html": [
       "<div>\n",
       "<style scoped>\n",
       "    .dataframe tbody tr th:only-of-type {\n",
       "        vertical-align: middle;\n",
       "    }\n",
       "\n",
       "    .dataframe tbody tr th {\n",
       "        vertical-align: top;\n",
       "    }\n",
       "\n",
       "    .dataframe thead th {\n",
       "        text-align: right;\n",
       "    }\n",
       "</style>\n",
       "<table border=\"1\" class=\"dataframe\">\n",
       "  <thead>\n",
       "    <tr style=\"text-align: right;\">\n",
       "      <th></th>\n",
       "      <th>Created_At</th>\n",
       "      <th>Tweet</th>\n",
       "      <th>Tweet_clean</th>\n",
       "      <th>scores</th>\n",
       "    </tr>\n",
       "  </thead>\n",
       "  <tbody>\n",
       "    <tr>\n",
       "      <th>0</th>\n",
       "      <td>2021-01-16 00:01:06+00:00</td>\n",
       "      <td>$OCGN Covishield &amp;amp; Covaxin virtually the s...</td>\n",
       "      <td>OCGN Covishield  amp  Covaxin virtually the s...</td>\n",
       "      <td>{'neg': 0.0, 'neu': 0.763, 'pos': 0.237, 'comp...</td>\n",
       "    </tr>\n",
       "    <tr>\n",
       "      <th>1</th>\n",
       "      <td>2021-01-16 00:12:29+00:00</td>\n",
       "      <td>@narendramodi @INCIndia @BJP4India  PM is a tr...</td>\n",
       "      <td>PM is a true nationalist by giving green s...</td>\n",
       "      <td>{'neg': 0.0, 'neu': 0.907, 'pos': 0.093, 'comp...</td>\n",
       "    </tr>\n",
       "    <tr>\n",
       "      <th>2</th>\n",
       "      <td>2021-01-16 00:13:59+00:00</td>\n",
       "      <td>@mangeshn Joe biden has already taken the vacc...</td>\n",
       "      <td>Joe biden has already taken the vaccine to en...</td>\n",
       "      <td>{'neg': 0.05, 'neu': 0.846, 'pos': 0.103, 'com...</td>\n",
       "    </tr>\n",
       "    <tr>\n",
       "      <th>3</th>\n",
       "      <td>2021-01-16 00:22:53+00:00</td>\n",
       "      <td>Vaccine dilemma: to take or not to take Covaxi...</td>\n",
       "      <td>Vaccine dilemma  to take or not to take Covaxin</td>\n",
       "      <td>{'neg': 0.175, 'neu': 0.825, 'pos': 0.0, 'comp...</td>\n",
       "    </tr>\n",
       "    <tr>\n",
       "      <th>4</th>\n",
       "      <td>2021-01-16 00:35:21+00:00</td>\n",
       "      <td>@JoeBiden You say part of the plan is getting ...</td>\n",
       "      <td>You say part of the plan is getting kids back...</td>\n",
       "      <td>{'neg': 0.033, 'neu': 0.9, 'pos': 0.067, 'comp...</td>\n",
       "    </tr>\n",
       "  </tbody>\n",
       "</table>\n",
       "</div>"
      ],
      "text/plain": [
       "                  Created_At  \\\n",
       "0  2021-01-16 00:01:06+00:00   \n",
       "1  2021-01-16 00:12:29+00:00   \n",
       "2  2021-01-16 00:13:59+00:00   \n",
       "3  2021-01-16 00:22:53+00:00   \n",
       "4  2021-01-16 00:35:21+00:00   \n",
       "\n",
       "                                               Tweet  \\\n",
       "0  $OCGN Covishield &amp; Covaxin virtually the s...   \n",
       "1  @narendramodi @INCIndia @BJP4India  PM is a tr...   \n",
       "2  @mangeshn Joe biden has already taken the vacc...   \n",
       "3  Vaccine dilemma: to take or not to take Covaxi...   \n",
       "4  @JoeBiden You say part of the plan is getting ...   \n",
       "\n",
       "                                         Tweet_clean  \\\n",
       "0   OCGN Covishield  amp  Covaxin virtually the s...   \n",
       "1      PM is a true nationalist by giving green s...   \n",
       "2   Joe biden has already taken the vaccine to en...   \n",
       "3   Vaccine dilemma  to take or not to take Covaxin    \n",
       "4   You say part of the plan is getting kids back...   \n",
       "\n",
       "                                              scores  \n",
       "0  {'neg': 0.0, 'neu': 0.763, 'pos': 0.237, 'comp...  \n",
       "1  {'neg': 0.0, 'neu': 0.907, 'pos': 0.093, 'comp...  \n",
       "2  {'neg': 0.05, 'neu': 0.846, 'pos': 0.103, 'com...  \n",
       "3  {'neg': 0.175, 'neu': 0.825, 'pos': 0.0, 'comp...  \n",
       "4  {'neg': 0.033, 'neu': 0.9, 'pos': 0.067, 'comp...  "
      ]
     },
     "execution_count": 7,
     "metadata": {},
     "output_type": "execute_result"
    }
   ],
   "source": [
    "#Head of Dataframe after scores column\n",
    "covaxin_january.head()"
   ]
  },
  {
   "cell_type": "code",
   "execution_count": 8,
   "metadata": {},
   "outputs": [],
   "source": [
    "#Creating Compound column by retrieving compound from dictionary of scores.\n",
    "\n",
    "covaxin_january['compound']=covaxin_january['scores'].apply(lambda d:d['compound'])\n",
    "covaxin_february['compound']=covaxin_february['scores'].apply(lambda d:d['compound'])\n",
    "covaxin_march['compound']=covaxin_march['scores'].apply(lambda d:d['compound'])\n",
    "covaxin_april['compound']=covaxin_april['scores'].apply(lambda d:d['compound'])\n",
    "covaxin_may['compound']=covaxin_may['scores'].apply(lambda d:d['compound'])\n",
    "covaxin_june['compound']=covaxin_june['scores'].apply(lambda d:d['compound'])\n",
    "covaxin_july['compound']=covaxin_july['scores'].apply(lambda d:d['compound'])\n",
    "covaxin_august['compound']=covaxin_august['scores'].apply(lambda d:d['compound'])\n",
    "covaxin_september['compound']=covaxin_september['scores'].apply(lambda d:d['compound'])"
   ]
  },
  {
   "cell_type": "code",
   "execution_count": 9,
   "metadata": {},
   "outputs": [
    {
     "data": {
      "text/html": [
       "<div>\n",
       "<style scoped>\n",
       "    .dataframe tbody tr th:only-of-type {\n",
       "        vertical-align: middle;\n",
       "    }\n",
       "\n",
       "    .dataframe tbody tr th {\n",
       "        vertical-align: top;\n",
       "    }\n",
       "\n",
       "    .dataframe thead th {\n",
       "        text-align: right;\n",
       "    }\n",
       "</style>\n",
       "<table border=\"1\" class=\"dataframe\">\n",
       "  <thead>\n",
       "    <tr style=\"text-align: right;\">\n",
       "      <th></th>\n",
       "      <th>Created_At</th>\n",
       "      <th>Tweet</th>\n",
       "      <th>Tweet_clean</th>\n",
       "      <th>scores</th>\n",
       "      <th>compound</th>\n",
       "    </tr>\n",
       "  </thead>\n",
       "  <tbody>\n",
       "    <tr>\n",
       "      <th>0</th>\n",
       "      <td>2021-01-16 00:01:06+00:00</td>\n",
       "      <td>$OCGN Covishield &amp;amp; Covaxin virtually the s...</td>\n",
       "      <td>OCGN Covishield  amp  Covaxin virtually the s...</td>\n",
       "      <td>{'neg': 0.0, 'neu': 0.763, 'pos': 0.237, 'comp...</td>\n",
       "      <td>0.4767</td>\n",
       "    </tr>\n",
       "    <tr>\n",
       "      <th>1</th>\n",
       "      <td>2021-01-16 00:12:29+00:00</td>\n",
       "      <td>@narendramodi @INCIndia @BJP4India  PM is a tr...</td>\n",
       "      <td>PM is a true nationalist by giving green s...</td>\n",
       "      <td>{'neg': 0.0, 'neu': 0.907, 'pos': 0.093, 'comp...</td>\n",
       "      <td>0.3818</td>\n",
       "    </tr>\n",
       "    <tr>\n",
       "      <th>2</th>\n",
       "      <td>2021-01-16 00:13:59+00:00</td>\n",
       "      <td>@mangeshn Joe biden has already taken the vacc...</td>\n",
       "      <td>Joe biden has already taken the vaccine to en...</td>\n",
       "      <td>{'neg': 0.05, 'neu': 0.846, 'pos': 0.103, 'com...</td>\n",
       "      <td>0.4019</td>\n",
       "    </tr>\n",
       "    <tr>\n",
       "      <th>3</th>\n",
       "      <td>2021-01-16 00:22:53+00:00</td>\n",
       "      <td>Vaccine dilemma: to take or not to take Covaxi...</td>\n",
       "      <td>Vaccine dilemma  to take or not to take Covaxin</td>\n",
       "      <td>{'neg': 0.175, 'neu': 0.825, 'pos': 0.0, 'comp...</td>\n",
       "      <td>-0.1779</td>\n",
       "    </tr>\n",
       "    <tr>\n",
       "      <th>4</th>\n",
       "      <td>2021-01-16 00:35:21+00:00</td>\n",
       "      <td>@JoeBiden You say part of the plan is getting ...</td>\n",
       "      <td>You say part of the plan is getting kids back...</td>\n",
       "      <td>{'neg': 0.033, 'neu': 0.9, 'pos': 0.067, 'comp...</td>\n",
       "      <td>0.1531</td>\n",
       "    </tr>\n",
       "  </tbody>\n",
       "</table>\n",
       "</div>"
      ],
      "text/plain": [
       "                  Created_At  \\\n",
       "0  2021-01-16 00:01:06+00:00   \n",
       "1  2021-01-16 00:12:29+00:00   \n",
       "2  2021-01-16 00:13:59+00:00   \n",
       "3  2021-01-16 00:22:53+00:00   \n",
       "4  2021-01-16 00:35:21+00:00   \n",
       "\n",
       "                                               Tweet  \\\n",
       "0  $OCGN Covishield &amp; Covaxin virtually the s...   \n",
       "1  @narendramodi @INCIndia @BJP4India  PM is a tr...   \n",
       "2  @mangeshn Joe biden has already taken the vacc...   \n",
       "3  Vaccine dilemma: to take or not to take Covaxi...   \n",
       "4  @JoeBiden You say part of the plan is getting ...   \n",
       "\n",
       "                                         Tweet_clean  \\\n",
       "0   OCGN Covishield  amp  Covaxin virtually the s...   \n",
       "1      PM is a true nationalist by giving green s...   \n",
       "2   Joe biden has already taken the vaccine to en...   \n",
       "3   Vaccine dilemma  to take or not to take Covaxin    \n",
       "4   You say part of the plan is getting kids back...   \n",
       "\n",
       "                                              scores  compound  \n",
       "0  {'neg': 0.0, 'neu': 0.763, 'pos': 0.237, 'comp...    0.4767  \n",
       "1  {'neg': 0.0, 'neu': 0.907, 'pos': 0.093, 'comp...    0.3818  \n",
       "2  {'neg': 0.05, 'neu': 0.846, 'pos': 0.103, 'com...    0.4019  \n",
       "3  {'neg': 0.175, 'neu': 0.825, 'pos': 0.0, 'comp...   -0.1779  \n",
       "4  {'neg': 0.033, 'neu': 0.9, 'pos': 0.067, 'comp...    0.1531  "
      ]
     },
     "execution_count": 9,
     "metadata": {},
     "output_type": "execute_result"
    }
   ],
   "source": [
    "#Head of Dataframe after getting Compount Score\n",
    "covaxin_january.head()"
   ]
  },
  {
   "cell_type": "code",
   "execution_count": 10,
   "metadata": {
    "scrolled": true
   },
   "outputs": [
    {
     "name": "stderr",
     "output_type": "stream",
     "text": [
      "<ipython-input-10-3b60b4502d58>:7: SettingWithCopyWarning: \n",
      "A value is trying to be set on a copy of a slice from a DataFrame\n",
      "\n",
      "See the caveats in the documentation: https://pandas.pydata.org/pandas-docs/stable/user_guide/indexing.html#returning-a-view-versus-a-copy\n",
      "  covaxin_january['sentiment'][i] = 'Weak Positive'\n",
      "<ipython-input-10-3b60b4502d58>:13: SettingWithCopyWarning: \n",
      "A value is trying to be set on a copy of a slice from a DataFrame\n",
      "\n",
      "See the caveats in the documentation: https://pandas.pydata.org/pandas-docs/stable/user_guide/indexing.html#returning-a-view-versus-a-copy\n",
      "  covaxin_january['sentiment'][i] = 'Weak Negative'\n",
      "<ipython-input-10-3b60b4502d58>:19: SettingWithCopyWarning: \n",
      "A value is trying to be set on a copy of a slice from a DataFrame\n",
      "\n",
      "See the caveats in the documentation: https://pandas.pydata.org/pandas-docs/stable/user_guide/indexing.html#returning-a-view-versus-a-copy\n",
      "  covaxin_january['sentiment'][i] = 'Neutral'\n",
      "<ipython-input-10-3b60b4502d58>:10: SettingWithCopyWarning: \n",
      "A value is trying to be set on a copy of a slice from a DataFrame\n",
      "\n",
      "See the caveats in the documentation: https://pandas.pydata.org/pandas-docs/stable/user_guide/indexing.html#returning-a-view-versus-a-copy\n",
      "  covaxin_january['sentiment'][i] = 'Strong Positive'\n",
      "<ipython-input-10-3b60b4502d58>:16: SettingWithCopyWarning: \n",
      "A value is trying to be set on a copy of a slice from a DataFrame\n",
      "\n",
      "See the caveats in the documentation: https://pandas.pydata.org/pandas-docs/stable/user_guide/indexing.html#returning-a-view-versus-a-copy\n",
      "  covaxin_january['sentiment'][i] = 'Strong Negative'\n"
     ]
    }
   ],
   "source": [
    "#Creating Sentiments Subdivision Category from the Compound score\n",
    "\n",
    "covaxin_january['sentiment'] = 'Nan'\n",
    "for i in range(len(covaxin_january)):\n",
    "    # Weak Positive Category\n",
    "    if(covaxin_january['compound'][i] > 0 and covaxin_january['compound'][i] < 0.8):\n",
    "        covaxin_january['sentiment'][i] = 'Weak Positive'\n",
    "    # Strong Positive Category\n",
    "    elif(covaxin_january['compound'][i]) >= 0.8 and covaxin_january['compound'][i] <= 1:\n",
    "        covaxin_january['sentiment'][i] = 'Strong Positive'\n",
    "    # Weak Negative Category\n",
    "    elif(covaxin_january['compound'][i] < 0 and covaxin_january['compound'][i] > -0.8):\n",
    "        covaxin_january['sentiment'][i] = 'Weak Negative'\n",
    "    # Strong Negative Category\n",
    "    elif(covaxin_january['compound'][i]) <= -0.8 and covaxin_january['compound'][i] >= -1:\n",
    "        covaxin_january['sentiment'][i] = 'Strong Negative'\n",
    "    # Neutral Category\n",
    "    else:\n",
    "        covaxin_january['sentiment'][i] = 'Neutral'"
   ]
  },
  {
   "cell_type": "code",
   "execution_count": 11,
   "metadata": {},
   "outputs": [
    {
     "data": {
      "text/html": [
       "<div>\n",
       "<style scoped>\n",
       "    .dataframe tbody tr th:only-of-type {\n",
       "        vertical-align: middle;\n",
       "    }\n",
       "\n",
       "    .dataframe tbody tr th {\n",
       "        vertical-align: top;\n",
       "    }\n",
       "\n",
       "    .dataframe thead th {\n",
       "        text-align: right;\n",
       "    }\n",
       "</style>\n",
       "<table border=\"1\" class=\"dataframe\">\n",
       "  <thead>\n",
       "    <tr style=\"text-align: right;\">\n",
       "      <th></th>\n",
       "      <th>Created_At</th>\n",
       "      <th>Tweet</th>\n",
       "      <th>Tweet_clean</th>\n",
       "      <th>scores</th>\n",
       "      <th>compound</th>\n",
       "      <th>sentiment</th>\n",
       "    </tr>\n",
       "  </thead>\n",
       "  <tbody>\n",
       "    <tr>\n",
       "      <th>0</th>\n",
       "      <td>2021-01-16 00:01:06+00:00</td>\n",
       "      <td>$OCGN Covishield &amp;amp; Covaxin virtually the s...</td>\n",
       "      <td>OCGN Covishield  amp  Covaxin virtually the s...</td>\n",
       "      <td>{'neg': 0.0, 'neu': 0.763, 'pos': 0.237, 'comp...</td>\n",
       "      <td>0.4767</td>\n",
       "      <td>Weak Positive</td>\n",
       "    </tr>\n",
       "    <tr>\n",
       "      <th>1</th>\n",
       "      <td>2021-01-16 00:12:29+00:00</td>\n",
       "      <td>@narendramodi @INCIndia @BJP4India  PM is a tr...</td>\n",
       "      <td>PM is a true nationalist by giving green s...</td>\n",
       "      <td>{'neg': 0.0, 'neu': 0.907, 'pos': 0.093, 'comp...</td>\n",
       "      <td>0.3818</td>\n",
       "      <td>Weak Positive</td>\n",
       "    </tr>\n",
       "    <tr>\n",
       "      <th>2</th>\n",
       "      <td>2021-01-16 00:13:59+00:00</td>\n",
       "      <td>@mangeshn Joe biden has already taken the vacc...</td>\n",
       "      <td>Joe biden has already taken the vaccine to en...</td>\n",
       "      <td>{'neg': 0.05, 'neu': 0.846, 'pos': 0.103, 'com...</td>\n",
       "      <td>0.4019</td>\n",
       "      <td>Weak Positive</td>\n",
       "    </tr>\n",
       "    <tr>\n",
       "      <th>3</th>\n",
       "      <td>2021-01-16 00:22:53+00:00</td>\n",
       "      <td>Vaccine dilemma: to take or not to take Covaxi...</td>\n",
       "      <td>Vaccine dilemma  to take or not to take Covaxin</td>\n",
       "      <td>{'neg': 0.175, 'neu': 0.825, 'pos': 0.0, 'comp...</td>\n",
       "      <td>-0.1779</td>\n",
       "      <td>Weak Negative</td>\n",
       "    </tr>\n",
       "    <tr>\n",
       "      <th>4</th>\n",
       "      <td>2021-01-16 00:35:21+00:00</td>\n",
       "      <td>@JoeBiden You say part of the plan is getting ...</td>\n",
       "      <td>You say part of the plan is getting kids back...</td>\n",
       "      <td>{'neg': 0.033, 'neu': 0.9, 'pos': 0.067, 'comp...</td>\n",
       "      <td>0.1531</td>\n",
       "      <td>Weak Positive</td>\n",
       "    </tr>\n",
       "  </tbody>\n",
       "</table>\n",
       "</div>"
      ],
      "text/plain": [
       "                  Created_At  \\\n",
       "0  2021-01-16 00:01:06+00:00   \n",
       "1  2021-01-16 00:12:29+00:00   \n",
       "2  2021-01-16 00:13:59+00:00   \n",
       "3  2021-01-16 00:22:53+00:00   \n",
       "4  2021-01-16 00:35:21+00:00   \n",
       "\n",
       "                                               Tweet  \\\n",
       "0  $OCGN Covishield &amp; Covaxin virtually the s...   \n",
       "1  @narendramodi @INCIndia @BJP4India  PM is a tr...   \n",
       "2  @mangeshn Joe biden has already taken the vacc...   \n",
       "3  Vaccine dilemma: to take or not to take Covaxi...   \n",
       "4  @JoeBiden You say part of the plan is getting ...   \n",
       "\n",
       "                                         Tweet_clean  \\\n",
       "0   OCGN Covishield  amp  Covaxin virtually the s...   \n",
       "1      PM is a true nationalist by giving green s...   \n",
       "2   Joe biden has already taken the vaccine to en...   \n",
       "3   Vaccine dilemma  to take or not to take Covaxin    \n",
       "4   You say part of the plan is getting kids back...   \n",
       "\n",
       "                                              scores  compound      sentiment  \n",
       "0  {'neg': 0.0, 'neu': 0.763, 'pos': 0.237, 'comp...    0.4767  Weak Positive  \n",
       "1  {'neg': 0.0, 'neu': 0.907, 'pos': 0.093, 'comp...    0.3818  Weak Positive  \n",
       "2  {'neg': 0.05, 'neu': 0.846, 'pos': 0.103, 'com...    0.4019  Weak Positive  \n",
       "3  {'neg': 0.175, 'neu': 0.825, 'pos': 0.0, 'comp...   -0.1779  Weak Negative  \n",
       "4  {'neg': 0.033, 'neu': 0.9, 'pos': 0.067, 'comp...    0.1531  Weak Positive  "
      ]
     },
     "execution_count": 11,
     "metadata": {},
     "output_type": "execute_result"
    }
   ],
   "source": [
    "#Head of dataframe after 'sentiment' column\n",
    "covaxin_january.head()"
   ]
  },
  {
   "cell_type": "code",
   "execution_count": 12,
   "metadata": {},
   "outputs": [
    {
     "data": {
      "text/plain": [
       "Weak Positive      5602\n",
       "Neutral            3886\n",
       "Weak Negative      3248\n",
       "Strong Positive     714\n",
       "Strong Negative     190\n",
       "Name: sentiment, dtype: int64"
      ]
     },
     "execution_count": 12,
     "metadata": {},
     "output_type": "execute_result"
    }
   ],
   "source": [
    "# Different sentiments category \n",
    "covaxin_january['sentiment'].value_counts()"
   ]
  },
  {
   "cell_type": "code",
   "execution_count": 13,
   "metadata": {},
   "outputs": [
    {
     "name": "stdout",
     "output_type": "stream",
     "text": [
      "Weak Positive 41.07 % rounded to 41 %\n",
      "Neutral 28.49 % rounded to 28 %\n",
      "Weak Negative 23.81 % rounded to 24 %\n",
      "Strong Positive 5.23 % rounded to 5 %\n",
      "Strong Negative 1.39 % rounded to 1 %\n"
     ]
    }
   ],
   "source": [
    "# Percentage of Above Different Sentiments Category for Visualisation\n",
    "\n",
    "for i in range(len(covaxin_january['sentiment'].value_counts())):\n",
    "    percentage = covaxin_january['sentiment'].value_counts()[i] / len(covaxin_january)\n",
    "    print(covaxin_january['sentiment'].value_counts().index[i], round(percentage*100,2),\"%\", \"rounded to\",round(percentage*100),\"%\")"
   ]
  },
  {
   "cell_type": "code",
   "execution_count": 58,
   "metadata": {},
   "outputs": [],
   "source": [
    "covaxin_january.to_csv('Covaxin_tweets_January_sentiment.csv',index=False)"
   ]
  },
  {
   "cell_type": "markdown",
   "metadata": {},
   "source": [
    "The above process can be applied to other months tweets as well"
   ]
  }
 ],
 "metadata": {
  "kernelspec": {
   "display_name": "Python 3",
   "language": "python",
   "name": "python3"
  },
  "language_info": {
   "codemirror_mode": {
    "name": "ipython",
    "version": 3
   },
   "file_extension": ".py",
   "mimetype": "text/x-python",
   "name": "python",
   "nbconvert_exporter": "python",
   "pygments_lexer": "ipython3",
   "version": "3.8.8"
  }
 },
 "nbformat": 4,
 "nbformat_minor": 4
}
