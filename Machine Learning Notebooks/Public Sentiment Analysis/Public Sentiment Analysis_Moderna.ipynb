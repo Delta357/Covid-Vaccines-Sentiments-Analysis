{
 "cells": [
  {
   "cell_type": "code",
   "execution_count": 1,
   "metadata": {},
   "outputs": [],
   "source": [
    "#Importing libraries\n",
    "\n",
    "#Importing pandas\n",
    "import pandas as pd\n",
    "#Natural Language Processing\n",
    "import nltk"
   ]
  },
  {
   "cell_type": "markdown",
   "metadata": {},
   "source": [
    "## Moderna"
   ]
  },
  {
   "cell_type": "code",
   "execution_count": 2,
   "metadata": {},
   "outputs": [],
   "source": [
    "moderna_january=pd.read_csv('Moderna_tweets_January_cleaned.csv')\n",
    "moderna_february=pd.read_csv('Moderna_tweets_February_cleaned.csv')\n",
    "moderna_march=pd.read_csv('Moderna_tweets_March_cleaned.csv')\n",
    "moderna_april=pd.read_csv('Moderna_tweets_April_cleaned.csv')\n",
    "moderna_may=pd.read_csv('Moderna_tweets_May_cleaned.csv')\n",
    "moderna_june=pd.read_csv('Moderna_tweets_June_cleaned.csv')\n",
    "moderna_july=pd.read_csv('Moderna_tweets_July_cleaned.csv')\n",
    "moderna_august=pd.read_csv('Moderna_tweets_August_cleaned.csv')\n",
    "moderna_september=pd.read_csv('Moderna_tweets_September_cleaned.csv')"
   ]
  },
  {
   "cell_type": "code",
   "execution_count": 3,
   "metadata": {},
   "outputs": [
    {
     "data": {
      "text/html": [
       "<div>\n",
       "<style scoped>\n",
       "    .dataframe tbody tr th:only-of-type {\n",
       "        vertical-align: middle;\n",
       "    }\n",
       "\n",
       "    .dataframe tbody tr th {\n",
       "        vertical-align: top;\n",
       "    }\n",
       "\n",
       "    .dataframe thead th {\n",
       "        text-align: right;\n",
       "    }\n",
       "</style>\n",
       "<table border=\"1\" class=\"dataframe\">\n",
       "  <thead>\n",
       "    <tr style=\"text-align: right;\">\n",
       "      <th></th>\n",
       "      <th>Created_At</th>\n",
       "      <th>Tweet</th>\n",
       "      <th>Tweet_clean</th>\n",
       "    </tr>\n",
       "  </thead>\n",
       "  <tbody>\n",
       "    <tr>\n",
       "      <th>0</th>\n",
       "      <td>2021-01-16 00:00:08+00:00</td>\n",
       "      <td>@joemartin66 Got first dose at 7am this mornin...</td>\n",
       "      <td>Got first dose at 7am this morning   Moderna</td>\n",
       "    </tr>\n",
       "    <tr>\n",
       "      <th>1</th>\n",
       "      <td>2021-01-16 00:00:13+00:00</td>\n",
       "      <td>@CTV_PowerPlay Let’s see at Christmas, Trudeau...</td>\n",
       "      <td>Let s see at Christmas Trudeau Hajdu etc  Can...</td>\n",
       "    </tr>\n",
       "    <tr>\n",
       "      <th>2</th>\n",
       "      <td>2021-01-16 00:00:35+00:00</td>\n",
       "      <td>@ianrobo1 @randomscouser85 @Mancman10 I think ...</td>\n",
       "      <td>I think so I also think this scares them  g...</td>\n",
       "    </tr>\n",
       "    <tr>\n",
       "      <th>3</th>\n",
       "      <td>2021-01-16 00:00:55+00:00</td>\n",
       "      <td>@artayyeb Hooray. We can compare notes. I have...</td>\n",
       "      <td>Hooray  We can compare notes  I have to admit...</td>\n",
       "    </tr>\n",
       "    <tr>\n",
       "      <th>4</th>\n",
       "      <td>2021-01-16 00:01:01+00:00</td>\n",
       "      <td>“Moderna Needs More Kids for COVID Vaccine Tri...</td>\n",
       "      <td>Moderna Needs More Kids for COVID Vaccine Tri...</td>\n",
       "    </tr>\n",
       "  </tbody>\n",
       "</table>\n",
       "</div>"
      ],
      "text/plain": [
       "                  Created_At  \\\n",
       "0  2021-01-16 00:00:08+00:00   \n",
       "1  2021-01-16 00:00:13+00:00   \n",
       "2  2021-01-16 00:00:35+00:00   \n",
       "3  2021-01-16 00:00:55+00:00   \n",
       "4  2021-01-16 00:01:01+00:00   \n",
       "\n",
       "                                               Tweet  \\\n",
       "0  @joemartin66 Got first dose at 7am this mornin...   \n",
       "1  @CTV_PowerPlay Let’s see at Christmas, Trudeau...   \n",
       "2  @ianrobo1 @randomscouser85 @Mancman10 I think ...   \n",
       "3  @artayyeb Hooray. We can compare notes. I have...   \n",
       "4  “Moderna Needs More Kids for COVID Vaccine Tri...   \n",
       "\n",
       "                                         Tweet_clean  \n",
       "0       Got first dose at 7am this morning   Moderna  \n",
       "1   Let s see at Christmas Trudeau Hajdu etc  Can...  \n",
       "2     I think so I also think this scares them  g...  \n",
       "3   Hooray  We can compare notes  I have to admit...  \n",
       "4   Moderna Needs More Kids for COVID Vaccine Tri...  "
      ]
     },
     "execution_count": 3,
     "metadata": {},
     "output_type": "execute_result"
    }
   ],
   "source": [
    "#Head of dataframe\n",
    "moderna_january.head()"
   ]
  },
  {
   "cell_type": "markdown",
   "metadata": {},
   "source": [
    "### Sentiment Analysis"
   ]
  },
  {
   "cell_type": "code",
   "execution_count": 4,
   "metadata": {},
   "outputs": [],
   "source": [
    "# Sentiment Analysis (VADER)\n",
    "from nltk.sentiment.vader import SentimentIntensityAnalyzer"
   ]
  },
  {
   "cell_type": "markdown",
   "metadata": {},
   "source": [
    "**VADER ( Valence Aware Dictionary for Sentiment Reasoning)** is a model used for text sentiment analysis that is sensitive to both polarity (positive/negative) and intensity (strength) of emotion. It is available in the NLTK package and can be applied directly to unlabeled text data."
   ]
  },
  {
   "cell_type": "code",
   "execution_count": 5,
   "metadata": {},
   "outputs": [],
   "source": [
    "# Creating Object of Sentiment Intensity Analyser\n",
    "\n",
    "sid = SentimentIntensityAnalyzer()"
   ]
  },
  {
   "cell_type": "code",
   "execution_count": 6,
   "metadata": {},
   "outputs": [
    {
     "data": {
      "text/plain": [
       "{'neg': 0.055, 'neu': 0.945, 'pos': 0.0, 'compound': -0.296}"
      ]
     },
     "execution_count": 6,
     "metadata": {},
     "output_type": "execute_result"
    }
   ],
   "source": [
    "#Finding Polarity scores on tweet\n",
    "\n",
    "sid.polarity_scores(moderna_january['Tweet_clean'][1])\n",
    "#The compound scores of 0-1 is positive, 0 is for neutral, -0 to -1 for negative."
   ]
  },
  {
   "cell_type": "code",
   "execution_count": 77,
   "metadata": {},
   "outputs": [],
   "source": [
    "#Creating Scores column to record polarity scores of tweet_clean column by lambda function.\n",
    "\n",
    "moderna_january['scores']=moderna_january['Tweet_clean'].apply(lambda tweet_clean:sid.polarity_scores(tweet_clean))\n",
    "moderna_february['scores']=moderna_february['Tweet_clean'].apply(lambda tweet_clean:sid.polarity_scores(tweet_clean))\n",
    "moderna_march['scores']=moderna_march['Tweet_clean'].apply(lambda tweet_clean:sid.polarity_scores(tweet_clean))\n",
    "moderna_april['scores']=moderna_april['Tweet_clean'].apply(lambda tweet_clean:sid.polarity_scores(tweet_clean))\n",
    "moderna_may['scores']=moderna_may['Tweet_clean'].apply(lambda tweet_clean:sid.polarity_scores(tweet_clean))\n",
    "moderna_june['scores']=moderna_june['Tweet_clean'].apply(lambda tweet_clean:sid.polarity_scores(tweet_clean))\n",
    "moderna_july['scores']=moderna_july['Tweet_clean'].apply(lambda tweet_clean:sid.polarity_scores(tweet_clean))\n",
    "moderna_august['scores']=moderna_august['Tweet_clean'].apply(lambda tweet_clean:sid.polarity_scores(tweet_clean))\n",
    "moderna_september['scores']=moderna_september['Tweet_clean'].apply(lambda tweet_clean:sid.polarity_scores(tweet_clean))\n"
   ]
  },
  {
   "cell_type": "markdown",
   "metadata": {},
   "source": [
    "**Polarity Score** provides Positive, Negative, Neutral and Compound score of the sentences provided to it "
   ]
  },
  {
   "cell_type": "code",
   "execution_count": 78,
   "metadata": {},
   "outputs": [
    {
     "data": {
      "text/html": [
       "<div>\n",
       "<style scoped>\n",
       "    .dataframe tbody tr th:only-of-type {\n",
       "        vertical-align: middle;\n",
       "    }\n",
       "\n",
       "    .dataframe tbody tr th {\n",
       "        vertical-align: top;\n",
       "    }\n",
       "\n",
       "    .dataframe thead th {\n",
       "        text-align: right;\n",
       "    }\n",
       "</style>\n",
       "<table border=\"1\" class=\"dataframe\">\n",
       "  <thead>\n",
       "    <tr style=\"text-align: right;\">\n",
       "      <th></th>\n",
       "      <th>Created_At</th>\n",
       "      <th>Tweet</th>\n",
       "      <th>Tweet_clean</th>\n",
       "      <th>scores</th>\n",
       "    </tr>\n",
       "  </thead>\n",
       "  <tbody>\n",
       "    <tr>\n",
       "      <th>0</th>\n",
       "      <td>2021-02-01 00:00:18+00:00</td>\n",
       "      <td>Cardiothoracic Surgeon Warns FDA, Pfizer on Im...</td>\n",
       "      <td>Cardiothoracic Surgeon Warns FDA Pfizer on Imm...</td>\n",
       "      <td>{'neg': 0.199, 'neu': 0.801, 'pos': 0.0, 'comp...</td>\n",
       "    </tr>\n",
       "    <tr>\n",
       "      <th>1</th>\n",
       "      <td>2021-02-01 00:00:52+00:00</td>\n",
       "      <td>@JimWhiteGNV I hope you’re right about this! M...</td>\n",
       "      <td>I hope you re right about this  My body seize...</td>\n",
       "      <td>{'neg': 0.132, 'neu': 0.749, 'pos': 0.119, 'co...</td>\n",
       "    </tr>\n",
       "    <tr>\n",
       "      <th>2</th>\n",
       "      <td>2021-02-01 00:00:59+00:00</td>\n",
       "      <td>Im sorry for Dutch tweets today.Our government...</td>\n",
       "      <td>Im sorry for Dutch tweets today Our government...</td>\n",
       "      <td>{'neg': 0.028, 'neu': 0.897, 'pos': 0.075, 'co...</td>\n",
       "    </tr>\n",
       "    <tr>\n",
       "      <th>3</th>\n",
       "      <td>2021-02-01 00:01:00+00:00</td>\n",
       "      <td>for the same reason: Pfizer/ Moderna has a hig...</td>\n",
       "      <td>for the same reason  Pfizer  Moderna has a hig...</td>\n",
       "      <td>{'neg': 0.122, 'neu': 0.833, 'pos': 0.045, 'co...</td>\n",
       "    </tr>\n",
       "    <tr>\n",
       "      <th>4</th>\n",
       "      <td>2021-02-01 00:02:14+00:00</td>\n",
       "      <td>So Moderna won’t be hitting this target milest...</td>\n",
       "      <td>So Moderna won t be hitting this target milest...</td>\n",
       "      <td>{'neg': 0.0, 'neu': 0.668, 'pos': 0.332, 'comp...</td>\n",
       "    </tr>\n",
       "  </tbody>\n",
       "</table>\n",
       "</div>"
      ],
      "text/plain": [
       "                  Created_At  \\\n",
       "0  2021-02-01 00:00:18+00:00   \n",
       "1  2021-02-01 00:00:52+00:00   \n",
       "2  2021-02-01 00:00:59+00:00   \n",
       "3  2021-02-01 00:01:00+00:00   \n",
       "4  2021-02-01 00:02:14+00:00   \n",
       "\n",
       "                                               Tweet  \\\n",
       "0  Cardiothoracic Surgeon Warns FDA, Pfizer on Im...   \n",
       "1  @JimWhiteGNV I hope you’re right about this! M...   \n",
       "2  Im sorry for Dutch tweets today.Our government...   \n",
       "3  for the same reason: Pfizer/ Moderna has a hig...   \n",
       "4  So Moderna won’t be hitting this target milest...   \n",
       "\n",
       "                                         Tweet_clean  \\\n",
       "0  Cardiothoracic Surgeon Warns FDA Pfizer on Imm...   \n",
       "1   I hope you re right about this  My body seize...   \n",
       "2  Im sorry for Dutch tweets today Our government...   \n",
       "3  for the same reason  Pfizer  Moderna has a hig...   \n",
       "4  So Moderna won t be hitting this target milest...   \n",
       "\n",
       "                                              scores  \n",
       "0  {'neg': 0.199, 'neu': 0.801, 'pos': 0.0, 'comp...  \n",
       "1  {'neg': 0.132, 'neu': 0.749, 'pos': 0.119, 'co...  \n",
       "2  {'neg': 0.028, 'neu': 0.897, 'pos': 0.075, 'co...  \n",
       "3  {'neg': 0.122, 'neu': 0.833, 'pos': 0.045, 'co...  \n",
       "4  {'neg': 0.0, 'neu': 0.668, 'pos': 0.332, 'comp...  "
      ]
     },
     "execution_count": 78,
     "metadata": {},
     "output_type": "execute_result"
    }
   ],
   "source": [
    "#Head of Dataframe after scores column\n",
    "moderna_february.head()"
   ]
  },
  {
   "cell_type": "code",
   "execution_count": 79,
   "metadata": {},
   "outputs": [],
   "source": [
    "#Creating Compound column by retrieving compound from dictionary of scores.\n",
    "\n",
    "moderna_january['compound']=moderna_january['scores'].apply(lambda d:d['compound'])\n",
    "moderna_february['compound']=moderna_february['scores'].apply(lambda d:d['compound'])\n",
    "moderna_march['compound']=moderna_march['scores'].apply(lambda d:d['compound'])\n",
    "moderna_april['compound']=moderna_april['scores'].apply(lambda d:d['compound'])\n",
    "moderna_may['compound']=moderna_may['scores'].apply(lambda d:d['compound'])\n",
    "moderna_june['compound']=moderna_june['scores'].apply(lambda d:d['compound'])\n",
    "moderna_july['compound']=moderna_july['scores'].apply(lambda d:d['compound'])\n",
    "moderna_august['compound']=moderna_august['scores'].apply(lambda d:d['compound'])\n",
    "moderna_september['compound']=moderna_september['scores'].apply(lambda d:d['compound'])\n"
   ]
  },
  {
   "cell_type": "code",
   "execution_count": 80,
   "metadata": {},
   "outputs": [
    {
     "data": {
      "text/html": [
       "<div>\n",
       "<style scoped>\n",
       "    .dataframe tbody tr th:only-of-type {\n",
       "        vertical-align: middle;\n",
       "    }\n",
       "\n",
       "    .dataframe tbody tr th {\n",
       "        vertical-align: top;\n",
       "    }\n",
       "\n",
       "    .dataframe thead th {\n",
       "        text-align: right;\n",
       "    }\n",
       "</style>\n",
       "<table border=\"1\" class=\"dataframe\">\n",
       "  <thead>\n",
       "    <tr style=\"text-align: right;\">\n",
       "      <th></th>\n",
       "      <th>Created_At</th>\n",
       "      <th>Tweet</th>\n",
       "      <th>Tweet_clean</th>\n",
       "      <th>scores</th>\n",
       "      <th>compound</th>\n",
       "    </tr>\n",
       "  </thead>\n",
       "  <tbody>\n",
       "    <tr>\n",
       "      <th>0</th>\n",
       "      <td>2021-02-01 00:00:18+00:00</td>\n",
       "      <td>Cardiothoracic Surgeon Warns FDA, Pfizer on Im...</td>\n",
       "      <td>Cardiothoracic Surgeon Warns FDA Pfizer on Imm...</td>\n",
       "      <td>{'neg': 0.199, 'neu': 0.801, 'pos': 0.0, 'comp...</td>\n",
       "      <td>-0.8020</td>\n",
       "    </tr>\n",
       "    <tr>\n",
       "      <th>1</th>\n",
       "      <td>2021-02-01 00:00:52+00:00</td>\n",
       "      <td>@JimWhiteGNV I hope you’re right about this! M...</td>\n",
       "      <td>I hope you re right about this  My body seize...</td>\n",
       "      <td>{'neg': 0.132, 'neu': 0.749, 'pos': 0.119, 'co...</td>\n",
       "      <td>-0.1531</td>\n",
       "    </tr>\n",
       "    <tr>\n",
       "      <th>2</th>\n",
       "      <td>2021-02-01 00:00:59+00:00</td>\n",
       "      <td>Im sorry for Dutch tweets today.Our government...</td>\n",
       "      <td>Im sorry for Dutch tweets today Our government...</td>\n",
       "      <td>{'neg': 0.028, 'neu': 0.897, 'pos': 0.075, 'co...</td>\n",
       "      <td>0.2960</td>\n",
       "    </tr>\n",
       "    <tr>\n",
       "      <th>3</th>\n",
       "      <td>2021-02-01 00:01:00+00:00</td>\n",
       "      <td>for the same reason: Pfizer/ Moderna has a hig...</td>\n",
       "      <td>for the same reason  Pfizer  Moderna has a hig...</td>\n",
       "      <td>{'neg': 0.122, 'neu': 0.833, 'pos': 0.045, 'co...</td>\n",
       "      <td>-0.5859</td>\n",
       "    </tr>\n",
       "    <tr>\n",
       "      <th>4</th>\n",
       "      <td>2021-02-01 00:02:14+00:00</td>\n",
       "      <td>So Moderna won’t be hitting this target milest...</td>\n",
       "      <td>So Moderna won t be hitting this target milest...</td>\n",
       "      <td>{'neg': 0.0, 'neu': 0.668, 'pos': 0.332, 'comp...</td>\n",
       "      <td>0.6096</td>\n",
       "    </tr>\n",
       "  </tbody>\n",
       "</table>\n",
       "</div>"
      ],
      "text/plain": [
       "                  Created_At  \\\n",
       "0  2021-02-01 00:00:18+00:00   \n",
       "1  2021-02-01 00:00:52+00:00   \n",
       "2  2021-02-01 00:00:59+00:00   \n",
       "3  2021-02-01 00:01:00+00:00   \n",
       "4  2021-02-01 00:02:14+00:00   \n",
       "\n",
       "                                               Tweet  \\\n",
       "0  Cardiothoracic Surgeon Warns FDA, Pfizer on Im...   \n",
       "1  @JimWhiteGNV I hope you’re right about this! M...   \n",
       "2  Im sorry for Dutch tweets today.Our government...   \n",
       "3  for the same reason: Pfizer/ Moderna has a hig...   \n",
       "4  So Moderna won’t be hitting this target milest...   \n",
       "\n",
       "                                         Tweet_clean  \\\n",
       "0  Cardiothoracic Surgeon Warns FDA Pfizer on Imm...   \n",
       "1   I hope you re right about this  My body seize...   \n",
       "2  Im sorry for Dutch tweets today Our government...   \n",
       "3  for the same reason  Pfizer  Moderna has a hig...   \n",
       "4  So Moderna won t be hitting this target milest...   \n",
       "\n",
       "                                              scores  compound  \n",
       "0  {'neg': 0.199, 'neu': 0.801, 'pos': 0.0, 'comp...   -0.8020  \n",
       "1  {'neg': 0.132, 'neu': 0.749, 'pos': 0.119, 'co...   -0.1531  \n",
       "2  {'neg': 0.028, 'neu': 0.897, 'pos': 0.075, 'co...    0.2960  \n",
       "3  {'neg': 0.122, 'neu': 0.833, 'pos': 0.045, 'co...   -0.5859  \n",
       "4  {'neg': 0.0, 'neu': 0.668, 'pos': 0.332, 'comp...    0.6096  "
      ]
     },
     "execution_count": 80,
     "metadata": {},
     "output_type": "execute_result"
    }
   ],
   "source": [
    "#Head of Dataframe after getting Compount Score\n",
    "moderna_february.head()"
   ]
  },
  {
   "cell_type": "code",
   "execution_count": 81,
   "metadata": {
    "scrolled": true
   },
   "outputs": [
    {
     "name": "stderr",
     "output_type": "stream",
     "text": [
      "<ipython-input-81-6ef6e167d36d>:16: SettingWithCopyWarning: \n",
      "A value is trying to be set on a copy of a slice from a DataFrame\n",
      "\n",
      "See the caveats in the documentation: https://pandas.pydata.org/pandas-docs/stable/user_guide/indexing.html#returning-a-view-versus-a-copy\n",
      "  moderna_february['sentiment'][i] = 'Strong Negative'\n",
      "<ipython-input-81-6ef6e167d36d>:13: SettingWithCopyWarning: \n",
      "A value is trying to be set on a copy of a slice from a DataFrame\n",
      "\n",
      "See the caveats in the documentation: https://pandas.pydata.org/pandas-docs/stable/user_guide/indexing.html#returning-a-view-versus-a-copy\n",
      "  moderna_february['sentiment'][i] = 'Weak Negative'\n",
      "<ipython-input-81-6ef6e167d36d>:7: SettingWithCopyWarning: \n",
      "A value is trying to be set on a copy of a slice from a DataFrame\n",
      "\n",
      "See the caveats in the documentation: https://pandas.pydata.org/pandas-docs/stable/user_guide/indexing.html#returning-a-view-versus-a-copy\n",
      "  moderna_february['sentiment'][i] = 'Weak Positive'\n",
      "<ipython-input-81-6ef6e167d36d>:19: SettingWithCopyWarning: \n",
      "A value is trying to be set on a copy of a slice from a DataFrame\n",
      "\n",
      "See the caveats in the documentation: https://pandas.pydata.org/pandas-docs/stable/user_guide/indexing.html#returning-a-view-versus-a-copy\n",
      "  moderna_february['sentiment'][i] = 'Neutral'\n",
      "<ipython-input-81-6ef6e167d36d>:10: SettingWithCopyWarning: \n",
      "A value is trying to be set on a copy of a slice from a DataFrame\n",
      "\n",
      "See the caveats in the documentation: https://pandas.pydata.org/pandas-docs/stable/user_guide/indexing.html#returning-a-view-versus-a-copy\n",
      "  moderna_february['sentiment'][i] = 'Strong Positive'\n"
     ]
    }
   ],
   "source": [
    "#Creating Sentiments Subdivision Category from the Compound score\n",
    "\n",
    "moderna_february['sentiment'] = 'Nan'\n",
    "for i in range(len(moderna_february)):\n",
    "    # Weak Positive Category\n",
    "    if(moderna_february['compound'][i] > 0 and moderna_february['compound'][i] < 0.8):\n",
    "        moderna_february['sentiment'][i] = 'Weak Positive'\n",
    "    # Strong Positive Category\n",
    "    elif(moderna_february['compound'][i]) >= 0.8 and moderna_february['compound'][i] <= 1:\n",
    "        moderna_february['sentiment'][i] = 'Strong Positive'\n",
    "    # Weak Negative Category\n",
    "    elif(moderna_february['compound'][i] < 0 and moderna_february['compound'][i] > -0.8):\n",
    "        moderna_february['sentiment'][i] = 'Weak Negative'\n",
    "    # Strong Negative Category\n",
    "    elif(moderna_february['compound'][i]) <= -0.8 and moderna_february['compound'][i] >= -1:\n",
    "        moderna_february['sentiment'][i] = 'Strong Negative'\n",
    "    # Neutral Category\n",
    "    else:\n",
    "        moderna_february['sentiment'][i] = 'Neutral'"
   ]
  },
  {
   "cell_type": "code",
   "execution_count": 82,
   "metadata": {},
   "outputs": [
    {
     "data": {
      "text/html": [
       "<div>\n",
       "<style scoped>\n",
       "    .dataframe tbody tr th:only-of-type {\n",
       "        vertical-align: middle;\n",
       "    }\n",
       "\n",
       "    .dataframe tbody tr th {\n",
       "        vertical-align: top;\n",
       "    }\n",
       "\n",
       "    .dataframe thead th {\n",
       "        text-align: right;\n",
       "    }\n",
       "</style>\n",
       "<table border=\"1\" class=\"dataframe\">\n",
       "  <thead>\n",
       "    <tr style=\"text-align: right;\">\n",
       "      <th></th>\n",
       "      <th>Created_At</th>\n",
       "      <th>Tweet</th>\n",
       "      <th>Tweet_clean</th>\n",
       "      <th>scores</th>\n",
       "      <th>compound</th>\n",
       "      <th>sentiment</th>\n",
       "    </tr>\n",
       "  </thead>\n",
       "  <tbody>\n",
       "    <tr>\n",
       "      <th>0</th>\n",
       "      <td>2021-02-01 00:00:18+00:00</td>\n",
       "      <td>Cardiothoracic Surgeon Warns FDA, Pfizer on Im...</td>\n",
       "      <td>Cardiothoracic Surgeon Warns FDA Pfizer on Imm...</td>\n",
       "      <td>{'neg': 0.199, 'neu': 0.801, 'pos': 0.0, 'comp...</td>\n",
       "      <td>-0.8020</td>\n",
       "      <td>Strong Negative</td>\n",
       "    </tr>\n",
       "    <tr>\n",
       "      <th>1</th>\n",
       "      <td>2021-02-01 00:00:52+00:00</td>\n",
       "      <td>@JimWhiteGNV I hope you’re right about this! M...</td>\n",
       "      <td>I hope you re right about this  My body seize...</td>\n",
       "      <td>{'neg': 0.132, 'neu': 0.749, 'pos': 0.119, 'co...</td>\n",
       "      <td>-0.1531</td>\n",
       "      <td>Weak Negative</td>\n",
       "    </tr>\n",
       "    <tr>\n",
       "      <th>2</th>\n",
       "      <td>2021-02-01 00:00:59+00:00</td>\n",
       "      <td>Im sorry for Dutch tweets today.Our government...</td>\n",
       "      <td>Im sorry for Dutch tweets today Our government...</td>\n",
       "      <td>{'neg': 0.028, 'neu': 0.897, 'pos': 0.075, 'co...</td>\n",
       "      <td>0.2960</td>\n",
       "      <td>Weak Positive</td>\n",
       "    </tr>\n",
       "    <tr>\n",
       "      <th>3</th>\n",
       "      <td>2021-02-01 00:01:00+00:00</td>\n",
       "      <td>for the same reason: Pfizer/ Moderna has a hig...</td>\n",
       "      <td>for the same reason  Pfizer  Moderna has a hig...</td>\n",
       "      <td>{'neg': 0.122, 'neu': 0.833, 'pos': 0.045, 'co...</td>\n",
       "      <td>-0.5859</td>\n",
       "      <td>Weak Negative</td>\n",
       "    </tr>\n",
       "    <tr>\n",
       "      <th>4</th>\n",
       "      <td>2021-02-01 00:02:14+00:00</td>\n",
       "      <td>So Moderna won’t be hitting this target milest...</td>\n",
       "      <td>So Moderna won t be hitting this target milest...</td>\n",
       "      <td>{'neg': 0.0, 'neu': 0.668, 'pos': 0.332, 'comp...</td>\n",
       "      <td>0.6096</td>\n",
       "      <td>Weak Positive</td>\n",
       "    </tr>\n",
       "  </tbody>\n",
       "</table>\n",
       "</div>"
      ],
      "text/plain": [
       "                  Created_At  \\\n",
       "0  2021-02-01 00:00:18+00:00   \n",
       "1  2021-02-01 00:00:52+00:00   \n",
       "2  2021-02-01 00:00:59+00:00   \n",
       "3  2021-02-01 00:01:00+00:00   \n",
       "4  2021-02-01 00:02:14+00:00   \n",
       "\n",
       "                                               Tweet  \\\n",
       "0  Cardiothoracic Surgeon Warns FDA, Pfizer on Im...   \n",
       "1  @JimWhiteGNV I hope you’re right about this! M...   \n",
       "2  Im sorry for Dutch tweets today.Our government...   \n",
       "3  for the same reason: Pfizer/ Moderna has a hig...   \n",
       "4  So Moderna won’t be hitting this target milest...   \n",
       "\n",
       "                                         Tweet_clean  \\\n",
       "0  Cardiothoracic Surgeon Warns FDA Pfizer on Imm...   \n",
       "1   I hope you re right about this  My body seize...   \n",
       "2  Im sorry for Dutch tweets today Our government...   \n",
       "3  for the same reason  Pfizer  Moderna has a hig...   \n",
       "4  So Moderna won t be hitting this target milest...   \n",
       "\n",
       "                                              scores  compound  \\\n",
       "0  {'neg': 0.199, 'neu': 0.801, 'pos': 0.0, 'comp...   -0.8020   \n",
       "1  {'neg': 0.132, 'neu': 0.749, 'pos': 0.119, 'co...   -0.1531   \n",
       "2  {'neg': 0.028, 'neu': 0.897, 'pos': 0.075, 'co...    0.2960   \n",
       "3  {'neg': 0.122, 'neu': 0.833, 'pos': 0.045, 'co...   -0.5859   \n",
       "4  {'neg': 0.0, 'neu': 0.668, 'pos': 0.332, 'comp...    0.6096   \n",
       "\n",
       "         sentiment  \n",
       "0  Strong Negative  \n",
       "1    Weak Negative  \n",
       "2    Weak Positive  \n",
       "3    Weak Negative  \n",
       "4    Weak Positive  "
      ]
     },
     "execution_count": 82,
     "metadata": {},
     "output_type": "execute_result"
    }
   ],
   "source": [
    "#Head of dataframe after 'sentiment' column\n",
    "moderna_february.head()"
   ]
  },
  {
   "cell_type": "code",
   "execution_count": 66,
   "metadata": {},
   "outputs": [
    {
     "data": {
      "text/plain": [
       "Weak Positive      55034\n",
       "Neutral            41057\n",
       "Weak Negative      38545\n",
       "Strong Positive     6635\n",
       "Strong Negative     3854\n",
       "Name: sentiment, dtype: int64"
      ]
     },
     "execution_count": 66,
     "metadata": {},
     "output_type": "execute_result"
    }
   ],
   "source": [
    "# Different sentiments category \n",
    "moderna_february['sentiment'].value_counts()"
   ]
  },
  {
   "cell_type": "code",
   "execution_count": 83,
   "metadata": {},
   "outputs": [
    {
     "name": "stdout",
     "output_type": "stream",
     "text": [
      "Weak Positive 40.88 % rounded to 41 %\n",
      "Neutral 26.69 % rounded to 27 %\n",
      "Weak Negative 24.55 % rounded to 25 %\n",
      "Strong Positive 5.69 % rounded to 6 %\n",
      "Strong Negative 2.19 % rounded to 2 %\n"
     ]
    }
   ],
   "source": [
    "# Percentage of Above Different Sentiments Category for Visualisation\n",
    "\n",
    "for i in range(len(moderna_february['sentiment'].value_counts())):\n",
    "    percentage = moderna_february['sentiment'].value_counts()[i] / len(moderna_february)\n",
    "    print(moderna_february['sentiment'].value_counts().index[i], round(percentage*100,2),\"%\", \"rounded to\",round(percentage*100),\"%\")"
   ]
  },
  {
   "cell_type": "code",
   "execution_count": 84,
   "metadata": {},
   "outputs": [],
   "source": [
    "moderna_february.to_csv('Moderna_tweets_February_sentiment.csv',index=False)"
   ]
  },
  {
   "cell_type": "markdown",
   "metadata": {},
   "source": [
    "The above process can be applied to other months as well"
   ]
  }
 ],
 "metadata": {
  "kernelspec": {
   "display_name": "Python 3",
   "language": "python",
   "name": "python3"
  },
  "language_info": {
   "codemirror_mode": {
    "name": "ipython",
    "version": 3
   },
   "file_extension": ".py",
   "mimetype": "text/x-python",
   "name": "python",
   "nbconvert_exporter": "python",
   "pygments_lexer": "ipython3",
   "version": "3.8.8"
  }
 },
 "nbformat": 4,
 "nbformat_minor": 4
}
