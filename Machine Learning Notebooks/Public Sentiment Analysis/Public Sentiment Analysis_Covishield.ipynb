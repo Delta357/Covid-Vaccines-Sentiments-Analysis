{
 "cells": [
  {
   "cell_type": "code",
   "execution_count": 1,
   "metadata": {},
   "outputs": [],
   "source": [
    "#Importing libraries\n",
    "\n",
    "#Importing pandas\n",
    "import pandas as pd\n",
    "#Natural Language Processing\n",
    "import nltk"
   ]
  },
  {
   "cell_type": "markdown",
   "metadata": {},
   "source": [
    "## Covishield"
   ]
  },
  {
   "cell_type": "code",
   "execution_count": 2,
   "metadata": {},
   "outputs": [],
   "source": [
    "covishield_january=pd.read_csv('Covishield_tweets_January_cleaned.csv')\n",
    "covishield_february=pd.read_csv('Covishield_tweets_February_cleaned.csv')\n",
    "covishield_march=pd.read_csv('Covishield_tweets_March_cleaned.csv')\n",
    "covishield_april=pd.read_csv('Covishield_tweets_April_cleaned.csv')\n",
    "covishield_may=pd.read_csv('Covishield_tweets_May_cleaned.csv')\n",
    "covishield_june=pd.read_csv('Covishield_tweets_June_cleaned.csv')\n",
    "covishield_july=pd.read_csv('Covishield_tweets_July_cleaned.csv')\n",
    "covishield_august=pd.read_csv('Covishield_tweets_August_cleaned.csv')\n",
    "covishield_september=pd.read_csv('Covishield_tweets_September_cleaned.csv')"
   ]
  },
  {
   "cell_type": "code",
   "execution_count": 3,
   "metadata": {},
   "outputs": [
    {
     "data": {
      "text/html": [
       "<div>\n",
       "<style scoped>\n",
       "    .dataframe tbody tr th:only-of-type {\n",
       "        vertical-align: middle;\n",
       "    }\n",
       "\n",
       "    .dataframe tbody tr th {\n",
       "        vertical-align: top;\n",
       "    }\n",
       "\n",
       "    .dataframe thead th {\n",
       "        text-align: right;\n",
       "    }\n",
       "</style>\n",
       "<table border=\"1\" class=\"dataframe\">\n",
       "  <thead>\n",
       "    <tr style=\"text-align: right;\">\n",
       "      <th></th>\n",
       "      <th>Created_At</th>\n",
       "      <th>Tweet</th>\n",
       "      <th>Tweet_clean</th>\n",
       "    </tr>\n",
       "  </thead>\n",
       "  <tbody>\n",
       "    <tr>\n",
       "      <th>0</th>\n",
       "      <td>2021-01-16 00:01:06+00:00</td>\n",
       "      <td>$OCGN Covishield &amp;amp; Covaxin virtually the s...</td>\n",
       "      <td>OCGN Covishield  amp  Covaxin virtually the s...</td>\n",
       "    </tr>\n",
       "    <tr>\n",
       "      <th>1</th>\n",
       "      <td>2021-01-16 00:14:58+00:00</td>\n",
       "      <td>1st Covishield vax export to Brazil in 2 weeks...</td>\n",
       "      <td>1st Covishield vax export to Brazil in 2 weeks...</td>\n",
       "    </tr>\n",
       "    <tr>\n",
       "      <th>2</th>\n",
       "      <td>2021-01-16 00:37:38+00:00</td>\n",
       "      <td>\"India's drug regulator has given the green li...</td>\n",
       "      <td>India s drug regulator has given the green li...</td>\n",
       "    </tr>\n",
       "    <tr>\n",
       "      <th>3</th>\n",
       "      <td>2021-01-16 00:44:09+00:00</td>\n",
       "      <td>India, which has 2nd highest No of #COVID19 in...</td>\n",
       "      <td>India which has 2nd highest No of  COVID19 inf...</td>\n",
       "    </tr>\n",
       "    <tr>\n",
       "      <th>4</th>\n",
       "      <td>2021-01-16 01:01:00+00:00</td>\n",
       "      <td>Comparative factsheet on COVID19 vaccines Covi...</td>\n",
       "      <td>Comparative factsheet on COVID19 vaccines Covi...</td>\n",
       "    </tr>\n",
       "  </tbody>\n",
       "</table>\n",
       "</div>"
      ],
      "text/plain": [
       "                  Created_At  \\\n",
       "0  2021-01-16 00:01:06+00:00   \n",
       "1  2021-01-16 00:14:58+00:00   \n",
       "2  2021-01-16 00:37:38+00:00   \n",
       "3  2021-01-16 00:44:09+00:00   \n",
       "4  2021-01-16 01:01:00+00:00   \n",
       "\n",
       "                                               Tweet  \\\n",
       "0  $OCGN Covishield &amp; Covaxin virtually the s...   \n",
       "1  1st Covishield vax export to Brazil in 2 weeks...   \n",
       "2  \"India's drug regulator has given the green li...   \n",
       "3  India, which has 2nd highest No of #COVID19 in...   \n",
       "4  Comparative factsheet on COVID19 vaccines Covi...   \n",
       "\n",
       "                                         Tweet_clean  \n",
       "0   OCGN Covishield  amp  Covaxin virtually the s...  \n",
       "1  1st Covishield vax export to Brazil in 2 weeks...  \n",
       "2   India s drug regulator has given the green li...  \n",
       "3  India which has 2nd highest No of  COVID19 inf...  \n",
       "4  Comparative factsheet on COVID19 vaccines Covi...  "
      ]
     },
     "execution_count": 3,
     "metadata": {},
     "output_type": "execute_result"
    }
   ],
   "source": [
    "#Head of dataframe\n",
    "covishield_january.head()"
   ]
  },
  {
   "cell_type": "markdown",
   "metadata": {},
   "source": [
    "### Sentiment Analysis"
   ]
  },
  {
   "cell_type": "code",
   "execution_count": 4,
   "metadata": {},
   "outputs": [],
   "source": [
    "# Sentiment Analysis (VADER)\n",
    "from nltk.sentiment.vader import SentimentIntensityAnalyzer"
   ]
  },
  {
   "cell_type": "markdown",
   "metadata": {},
   "source": [
    "**VADER ( Valence Aware Dictionary for Sentiment Reasoning)** is a model used for text sentiment analysis that is sensitive to both polarity (positive/negative) and intensity (strength) of emotion. It is available in the NLTK package and can be applied directly to unlabeled text data."
   ]
  },
  {
   "cell_type": "code",
   "execution_count": 5,
   "metadata": {},
   "outputs": [],
   "source": [
    "# Creating Object of Sentiment Intensity Analyser\n",
    "\n",
    "sid = SentimentIntensityAnalyzer()"
   ]
  },
  {
   "cell_type": "code",
   "execution_count": 6,
   "metadata": {},
   "outputs": [
    {
     "data": {
      "text/plain": [
       "{'neg': 0.0, 'neu': 1.0, 'pos': 0.0, 'compound': 0.0}"
      ]
     },
     "execution_count": 6,
     "metadata": {},
     "output_type": "execute_result"
    }
   ],
   "source": [
    "#Finding Polarity scores on tweet\n",
    "\n",
    "sid.polarity_scores(covishield_january['Tweet_clean'][1])\n",
    "#The compound scores of 0-1 is positive, 0 is for neutral, -0 to -1 for negative."
   ]
  },
  {
   "cell_type": "code",
   "execution_count": 7,
   "metadata": {},
   "outputs": [],
   "source": [
    "#Creating Scores column to record polarity scores of tweet_clean column by lambda function.\n",
    "\n",
    "covishield_january['scores']=covishield_january['Tweet_clean'].apply(lambda tweet_clean:sid.polarity_scores(tweet_clean))\n",
    "covishield_february['scores']=covishield_february['Tweet_clean'].apply(lambda tweet_clean:sid.polarity_scores(tweet_clean))\n",
    "covishield_march['scores']=covishield_march['Tweet_clean'].apply(lambda tweet_clean:sid.polarity_scores(tweet_clean))\n",
    "covishield_april['scores']=covishield_april['Tweet_clean'].apply(lambda tweet_clean:sid.polarity_scores(tweet_clean))\n",
    "covishield_may['scores']=covishield_may['Tweet_clean'].apply(lambda tweet_clean:sid.polarity_scores(tweet_clean))\n",
    "covishield_june['scores']=covishield_june['Tweet_clean'].apply(lambda tweet_clean:sid.polarity_scores(tweet_clean))\n",
    "covishield_july['scores']=covishield_july['Tweet_clean'].apply(lambda tweet_clean:sid.polarity_scores(tweet_clean))\n",
    "covishield_august['scores']=covishield_august['Tweet_clean'].apply(lambda tweet_clean:sid.polarity_scores(tweet_clean))\n",
    "covishield_september['scores']=covishield_september['Tweet_clean'].apply(lambda tweet_clean:sid.polarity_scores(tweet_clean))\n"
   ]
  },
  {
   "cell_type": "markdown",
   "metadata": {},
   "source": [
    "**Polarity Score** provides Positive, Negative, Neutral and Compound score of the sentences provided to it "
   ]
  },
  {
   "cell_type": "code",
   "execution_count": 32,
   "metadata": {},
   "outputs": [
    {
     "data": {
      "text/html": [
       "<div>\n",
       "<style scoped>\n",
       "    .dataframe tbody tr th:only-of-type {\n",
       "        vertical-align: middle;\n",
       "    }\n",
       "\n",
       "    .dataframe tbody tr th {\n",
       "        vertical-align: top;\n",
       "    }\n",
       "\n",
       "    .dataframe thead th {\n",
       "        text-align: right;\n",
       "    }\n",
       "</style>\n",
       "<table border=\"1\" class=\"dataframe\">\n",
       "  <thead>\n",
       "    <tr style=\"text-align: right;\">\n",
       "      <th></th>\n",
       "      <th>Created_At</th>\n",
       "      <th>Tweet</th>\n",
       "      <th>Tweet_clean</th>\n",
       "      <th>scores</th>\n",
       "    </tr>\n",
       "  </thead>\n",
       "  <tbody>\n",
       "    <tr>\n",
       "      <th>0</th>\n",
       "      <td>2021-09-01 00:00:03+00:00</td>\n",
       "      <td>Central Delhi has at least 42539 new slots ava...</td>\n",
       "      <td>Central Delhi has at least 42539 new slots ava...</td>\n",
       "      <td>{'neg': 0.0, 'neu': 1.0, 'pos': 0.0, 'compound...</td>\n",
       "    </tr>\n",
       "    <tr>\n",
       "      <th>1</th>\n",
       "      <td>2021-09-01 00:00:06+00:00</td>\n",
       "      <td>West delhi has at least 26823 new slots availa...</td>\n",
       "      <td>West delhi has at least 26823 new slots availa...</td>\n",
       "      <td>{'neg': 0.0, 'neu': 1.0, 'pos': 0.0, 'compound...</td>\n",
       "    </tr>\n",
       "    <tr>\n",
       "      <th>2</th>\n",
       "      <td>2021-09-01 00:00:10+00:00</td>\n",
       "      <td>Age = 18 || Block 1 Zion Hospital, 560043, COV...</td>\n",
       "      <td>Age   18    Block 1 Zion Hospital 560043 COVIS...</td>\n",
       "      <td>{'neg': 0.182, 'neu': 0.818, 'pos': 0.0, 'comp...</td>\n",
       "    </tr>\n",
       "    <tr>\n",
       "      <th>3</th>\n",
       "      <td>2021-09-01 00:00:13+00:00</td>\n",
       "      <td>Age = 18 || SHANTHI HOSPITAL AND RESEARCH, 560...</td>\n",
       "      <td>Age   18    SHANTHI HOSPITAL AND RESEARCH 5600...</td>\n",
       "      <td>{'neg': 0.0, 'neu': 1.0, 'pos': 0.0, 'compound...</td>\n",
       "    </tr>\n",
       "    <tr>\n",
       "      <th>4</th>\n",
       "      <td>2021-09-01 00:00:19+00:00</td>\n",
       "      <td>Age = 18 || Apollo Clinic Sarjapur P3, 560035,...</td>\n",
       "      <td>Age   18    Apollo Clinic Sarjapur P3 560035 C...</td>\n",
       "      <td>{'neg': 0.0, 'neu': 1.0, 'pos': 0.0, 'compound...</td>\n",
       "    </tr>\n",
       "  </tbody>\n",
       "</table>\n",
       "</div>"
      ],
      "text/plain": [
       "                  Created_At  \\\n",
       "0  2021-09-01 00:00:03+00:00   \n",
       "1  2021-09-01 00:00:06+00:00   \n",
       "2  2021-09-01 00:00:10+00:00   \n",
       "3  2021-09-01 00:00:13+00:00   \n",
       "4  2021-09-01 00:00:19+00:00   \n",
       "\n",
       "                                               Tweet  \\\n",
       "0  Central Delhi has at least 42539 new slots ava...   \n",
       "1  West delhi has at least 26823 new slots availa...   \n",
       "2  Age = 18 || Block 1 Zion Hospital, 560043, COV...   \n",
       "3  Age = 18 || SHANTHI HOSPITAL AND RESEARCH, 560...   \n",
       "4  Age = 18 || Apollo Clinic Sarjapur P3, 560035,...   \n",
       "\n",
       "                                         Tweet_clean  \\\n",
       "0  Central Delhi has at least 42539 new slots ava...   \n",
       "1  West delhi has at least 26823 new slots availa...   \n",
       "2  Age   18    Block 1 Zion Hospital 560043 COVIS...   \n",
       "3  Age   18    SHANTHI HOSPITAL AND RESEARCH 5600...   \n",
       "4  Age   18    Apollo Clinic Sarjapur P3 560035 C...   \n",
       "\n",
       "                                              scores  \n",
       "0  {'neg': 0.0, 'neu': 1.0, 'pos': 0.0, 'compound...  \n",
       "1  {'neg': 0.0, 'neu': 1.0, 'pos': 0.0, 'compound...  \n",
       "2  {'neg': 0.182, 'neu': 0.818, 'pos': 0.0, 'comp...  \n",
       "3  {'neg': 0.0, 'neu': 1.0, 'pos': 0.0, 'compound...  \n",
       "4  {'neg': 0.0, 'neu': 1.0, 'pos': 0.0, 'compound...  "
      ]
     },
     "execution_count": 32,
     "metadata": {},
     "output_type": "execute_result"
    }
   ],
   "source": [
    "#Head of Dataframe after scores column\n",
    "covishield_september.head()"
   ]
  },
  {
   "cell_type": "code",
   "execution_count": 33,
   "metadata": {},
   "outputs": [],
   "source": [
    "#Creating Compound column by retrieving compound from dictionary of scores.\n",
    "\n",
    "covishield_january['compound']=covishield_january['scores'].apply(lambda d:d['compound'])\n",
    "covishield_february['compound']=covishield_february['scores'].apply(lambda d:d['compound'])\n",
    "covishield_march['compound']=covishield_march['scores'].apply(lambda d:d['compound'])\n",
    "covishield_april['compound']=covishield_april['scores'].apply(lambda d:d['compound'])\n",
    "covishield_may['compound']=covishield_may['scores'].apply(lambda d:d['compound'])\n",
    "covishield_june['compound']=covishield_june['scores'].apply(lambda d:d['compound'])\n",
    "covishield_july['compound']=covishield_july['scores'].apply(lambda d:d['compound'])\n",
    "covishield_august['compound']=covishield_august['scores'].apply(lambda d:d['compound'])\n",
    "covishield_september['compound']=covishield_september['scores'].apply(lambda d:d['compound'])\n"
   ]
  },
  {
   "cell_type": "code",
   "execution_count": 34,
   "metadata": {},
   "outputs": [
    {
     "data": {
      "text/html": [
       "<div>\n",
       "<style scoped>\n",
       "    .dataframe tbody tr th:only-of-type {\n",
       "        vertical-align: middle;\n",
       "    }\n",
       "\n",
       "    .dataframe tbody tr th {\n",
       "        vertical-align: top;\n",
       "    }\n",
       "\n",
       "    .dataframe thead th {\n",
       "        text-align: right;\n",
       "    }\n",
       "</style>\n",
       "<table border=\"1\" class=\"dataframe\">\n",
       "  <thead>\n",
       "    <tr style=\"text-align: right;\">\n",
       "      <th></th>\n",
       "      <th>Created_At</th>\n",
       "      <th>Tweet</th>\n",
       "      <th>Tweet_clean</th>\n",
       "      <th>scores</th>\n",
       "      <th>compound</th>\n",
       "    </tr>\n",
       "  </thead>\n",
       "  <tbody>\n",
       "    <tr>\n",
       "      <th>0</th>\n",
       "      <td>2021-09-01 00:00:03+00:00</td>\n",
       "      <td>Central Delhi has at least 42539 new slots ava...</td>\n",
       "      <td>Central Delhi has at least 42539 new slots ava...</td>\n",
       "      <td>{'neg': 0.0, 'neu': 1.0, 'pos': 0.0, 'compound...</td>\n",
       "      <td>0.0000</td>\n",
       "    </tr>\n",
       "    <tr>\n",
       "      <th>1</th>\n",
       "      <td>2021-09-01 00:00:06+00:00</td>\n",
       "      <td>West delhi has at least 26823 new slots availa...</td>\n",
       "      <td>West delhi has at least 26823 new slots availa...</td>\n",
       "      <td>{'neg': 0.0, 'neu': 1.0, 'pos': 0.0, 'compound...</td>\n",
       "      <td>0.0000</td>\n",
       "    </tr>\n",
       "    <tr>\n",
       "      <th>2</th>\n",
       "      <td>2021-09-01 00:00:10+00:00</td>\n",
       "      <td>Age = 18 || Block 1 Zion Hospital, 560043, COV...</td>\n",
       "      <td>Age   18    Block 1 Zion Hospital 560043 COVIS...</td>\n",
       "      <td>{'neg': 0.182, 'neu': 0.818, 'pos': 0.0, 'comp...</td>\n",
       "      <td>-0.4404</td>\n",
       "    </tr>\n",
       "    <tr>\n",
       "      <th>3</th>\n",
       "      <td>2021-09-01 00:00:13+00:00</td>\n",
       "      <td>Age = 18 || SHANTHI HOSPITAL AND RESEARCH, 560...</td>\n",
       "      <td>Age   18    SHANTHI HOSPITAL AND RESEARCH 5600...</td>\n",
       "      <td>{'neg': 0.0, 'neu': 1.0, 'pos': 0.0, 'compound...</td>\n",
       "      <td>0.0000</td>\n",
       "    </tr>\n",
       "    <tr>\n",
       "      <th>4</th>\n",
       "      <td>2021-09-01 00:00:19+00:00</td>\n",
       "      <td>Age = 18 || Apollo Clinic Sarjapur P3, 560035,...</td>\n",
       "      <td>Age   18    Apollo Clinic Sarjapur P3 560035 C...</td>\n",
       "      <td>{'neg': 0.0, 'neu': 1.0, 'pos': 0.0, 'compound...</td>\n",
       "      <td>0.0000</td>\n",
       "    </tr>\n",
       "  </tbody>\n",
       "</table>\n",
       "</div>"
      ],
      "text/plain": [
       "                  Created_At  \\\n",
       "0  2021-09-01 00:00:03+00:00   \n",
       "1  2021-09-01 00:00:06+00:00   \n",
       "2  2021-09-01 00:00:10+00:00   \n",
       "3  2021-09-01 00:00:13+00:00   \n",
       "4  2021-09-01 00:00:19+00:00   \n",
       "\n",
       "                                               Tweet  \\\n",
       "0  Central Delhi has at least 42539 new slots ava...   \n",
       "1  West delhi has at least 26823 new slots availa...   \n",
       "2  Age = 18 || Block 1 Zion Hospital, 560043, COV...   \n",
       "3  Age = 18 || SHANTHI HOSPITAL AND RESEARCH, 560...   \n",
       "4  Age = 18 || Apollo Clinic Sarjapur P3, 560035,...   \n",
       "\n",
       "                                         Tweet_clean  \\\n",
       "0  Central Delhi has at least 42539 new slots ava...   \n",
       "1  West delhi has at least 26823 new slots availa...   \n",
       "2  Age   18    Block 1 Zion Hospital 560043 COVIS...   \n",
       "3  Age   18    SHANTHI HOSPITAL AND RESEARCH 5600...   \n",
       "4  Age   18    Apollo Clinic Sarjapur P3 560035 C...   \n",
       "\n",
       "                                              scores  compound  \n",
       "0  {'neg': 0.0, 'neu': 1.0, 'pos': 0.0, 'compound...    0.0000  \n",
       "1  {'neg': 0.0, 'neu': 1.0, 'pos': 0.0, 'compound...    0.0000  \n",
       "2  {'neg': 0.182, 'neu': 0.818, 'pos': 0.0, 'comp...   -0.4404  \n",
       "3  {'neg': 0.0, 'neu': 1.0, 'pos': 0.0, 'compound...    0.0000  \n",
       "4  {'neg': 0.0, 'neu': 1.0, 'pos': 0.0, 'compound...    0.0000  "
      ]
     },
     "execution_count": 34,
     "metadata": {},
     "output_type": "execute_result"
    }
   ],
   "source": [
    "#Head of Dataframe after getting Compount Score\n",
    "covishield_september.head()"
   ]
  },
  {
   "cell_type": "code",
   "execution_count": 35,
   "metadata": {
    "scrolled": true
   },
   "outputs": [
    {
     "name": "stderr",
     "output_type": "stream",
     "text": [
      "<ipython-input-35-097ffa67350b>:19: SettingWithCopyWarning: \n",
      "A value is trying to be set on a copy of a slice from a DataFrame\n",
      "\n",
      "See the caveats in the documentation: https://pandas.pydata.org/pandas-docs/stable/user_guide/indexing.html#returning-a-view-versus-a-copy\n",
      "  covishield_september['sentiment'][i] = 'Neutral'\n",
      "<ipython-input-35-097ffa67350b>:13: SettingWithCopyWarning: \n",
      "A value is trying to be set on a copy of a slice from a DataFrame\n",
      "\n",
      "See the caveats in the documentation: https://pandas.pydata.org/pandas-docs/stable/user_guide/indexing.html#returning-a-view-versus-a-copy\n",
      "  covishield_september['sentiment'][i] = 'Weak Negative'\n",
      "<ipython-input-35-097ffa67350b>:7: SettingWithCopyWarning: \n",
      "A value is trying to be set on a copy of a slice from a DataFrame\n",
      "\n",
      "See the caveats in the documentation: https://pandas.pydata.org/pandas-docs/stable/user_guide/indexing.html#returning-a-view-versus-a-copy\n",
      "  covishield_september['sentiment'][i] = 'Weak Positive'\n",
      "<ipython-input-35-097ffa67350b>:10: SettingWithCopyWarning: \n",
      "A value is trying to be set on a copy of a slice from a DataFrame\n",
      "\n",
      "See the caveats in the documentation: https://pandas.pydata.org/pandas-docs/stable/user_guide/indexing.html#returning-a-view-versus-a-copy\n",
      "  covishield_september['sentiment'][i] = 'Strong Positive'\n",
      "<ipython-input-35-097ffa67350b>:16: SettingWithCopyWarning: \n",
      "A value is trying to be set on a copy of a slice from a DataFrame\n",
      "\n",
      "See the caveats in the documentation: https://pandas.pydata.org/pandas-docs/stable/user_guide/indexing.html#returning-a-view-versus-a-copy\n",
      "  covishield_september['sentiment'][i] = 'Strong Negative'\n"
     ]
    }
   ],
   "source": [
    "#Creating Sentiments Subdivision Category from the Compound score\n",
    "\n",
    "covishield_september['sentiment'] = 'Nan'\n",
    "for i in range(len(covishield_september)):\n",
    "    # Weak Positive Category\n",
    "    if(covishield_september['compound'][i] > 0 and covishield_september['compound'][i] < 0.8):\n",
    "        covishield_september['sentiment'][i] = 'Weak Positive'\n",
    "    # Strong Positive Category\n",
    "    elif(covishield_september['compound'][i]) >= 0.8 and covishield_september['compound'][i] <= 1:\n",
    "        covishield_september['sentiment'][i] = 'Strong Positive'\n",
    "    # Weak Negative Category\n",
    "    elif(covishield_september['compound'][i] < 0 and covishield_september['compound'][i] > -0.8):\n",
    "        covishield_september['sentiment'][i] = 'Weak Negative'\n",
    "    # Strong Negative Category\n",
    "    elif(covishield_september['compound'][i]) <= -0.8 and covishield_september['compound'][i] >= -1:\n",
    "        covishield_september['sentiment'][i] = 'Strong Negative'\n",
    "    # Neutral Category\n",
    "    else:\n",
    "        covishield_september['sentiment'][i] = 'Neutral'"
   ]
  },
  {
   "cell_type": "code",
   "execution_count": 36,
   "metadata": {},
   "outputs": [
    {
     "data": {
      "text/html": [
       "<div>\n",
       "<style scoped>\n",
       "    .dataframe tbody tr th:only-of-type {\n",
       "        vertical-align: middle;\n",
       "    }\n",
       "\n",
       "    .dataframe tbody tr th {\n",
       "        vertical-align: top;\n",
       "    }\n",
       "\n",
       "    .dataframe thead th {\n",
       "        text-align: right;\n",
       "    }\n",
       "</style>\n",
       "<table border=\"1\" class=\"dataframe\">\n",
       "  <thead>\n",
       "    <tr style=\"text-align: right;\">\n",
       "      <th></th>\n",
       "      <th>Created_At</th>\n",
       "      <th>Tweet</th>\n",
       "      <th>Tweet_clean</th>\n",
       "      <th>scores</th>\n",
       "      <th>compound</th>\n",
       "      <th>sentiment</th>\n",
       "    </tr>\n",
       "  </thead>\n",
       "  <tbody>\n",
       "    <tr>\n",
       "      <th>0</th>\n",
       "      <td>2021-09-01 00:00:03+00:00</td>\n",
       "      <td>Central Delhi has at least 42539 new slots ava...</td>\n",
       "      <td>Central Delhi has at least 42539 new slots ava...</td>\n",
       "      <td>{'neg': 0.0, 'neu': 1.0, 'pos': 0.0, 'compound...</td>\n",
       "      <td>0.0000</td>\n",
       "      <td>Neutral</td>\n",
       "    </tr>\n",
       "    <tr>\n",
       "      <th>1</th>\n",
       "      <td>2021-09-01 00:00:06+00:00</td>\n",
       "      <td>West delhi has at least 26823 new slots availa...</td>\n",
       "      <td>West delhi has at least 26823 new slots availa...</td>\n",
       "      <td>{'neg': 0.0, 'neu': 1.0, 'pos': 0.0, 'compound...</td>\n",
       "      <td>0.0000</td>\n",
       "      <td>Neutral</td>\n",
       "    </tr>\n",
       "    <tr>\n",
       "      <th>2</th>\n",
       "      <td>2021-09-01 00:00:10+00:00</td>\n",
       "      <td>Age = 18 || Block 1 Zion Hospital, 560043, COV...</td>\n",
       "      <td>Age   18    Block 1 Zion Hospital 560043 COVIS...</td>\n",
       "      <td>{'neg': 0.182, 'neu': 0.818, 'pos': 0.0, 'comp...</td>\n",
       "      <td>-0.4404</td>\n",
       "      <td>Weak Negative</td>\n",
       "    </tr>\n",
       "    <tr>\n",
       "      <th>3</th>\n",
       "      <td>2021-09-01 00:00:13+00:00</td>\n",
       "      <td>Age = 18 || SHANTHI HOSPITAL AND RESEARCH, 560...</td>\n",
       "      <td>Age   18    SHANTHI HOSPITAL AND RESEARCH 5600...</td>\n",
       "      <td>{'neg': 0.0, 'neu': 1.0, 'pos': 0.0, 'compound...</td>\n",
       "      <td>0.0000</td>\n",
       "      <td>Neutral</td>\n",
       "    </tr>\n",
       "    <tr>\n",
       "      <th>4</th>\n",
       "      <td>2021-09-01 00:00:19+00:00</td>\n",
       "      <td>Age = 18 || Apollo Clinic Sarjapur P3, 560035,...</td>\n",
       "      <td>Age   18    Apollo Clinic Sarjapur P3 560035 C...</td>\n",
       "      <td>{'neg': 0.0, 'neu': 1.0, 'pos': 0.0, 'compound...</td>\n",
       "      <td>0.0000</td>\n",
       "      <td>Neutral</td>\n",
       "    </tr>\n",
       "  </tbody>\n",
       "</table>\n",
       "</div>"
      ],
      "text/plain": [
       "                  Created_At  \\\n",
       "0  2021-09-01 00:00:03+00:00   \n",
       "1  2021-09-01 00:00:06+00:00   \n",
       "2  2021-09-01 00:00:10+00:00   \n",
       "3  2021-09-01 00:00:13+00:00   \n",
       "4  2021-09-01 00:00:19+00:00   \n",
       "\n",
       "                                               Tweet  \\\n",
       "0  Central Delhi has at least 42539 new slots ava...   \n",
       "1  West delhi has at least 26823 new slots availa...   \n",
       "2  Age = 18 || Block 1 Zion Hospital, 560043, COV...   \n",
       "3  Age = 18 || SHANTHI HOSPITAL AND RESEARCH, 560...   \n",
       "4  Age = 18 || Apollo Clinic Sarjapur P3, 560035,...   \n",
       "\n",
       "                                         Tweet_clean  \\\n",
       "0  Central Delhi has at least 42539 new slots ava...   \n",
       "1  West delhi has at least 26823 new slots availa...   \n",
       "2  Age   18    Block 1 Zion Hospital 560043 COVIS...   \n",
       "3  Age   18    SHANTHI HOSPITAL AND RESEARCH 5600...   \n",
       "4  Age   18    Apollo Clinic Sarjapur P3 560035 C...   \n",
       "\n",
       "                                              scores  compound      sentiment  \n",
       "0  {'neg': 0.0, 'neu': 1.0, 'pos': 0.0, 'compound...    0.0000        Neutral  \n",
       "1  {'neg': 0.0, 'neu': 1.0, 'pos': 0.0, 'compound...    0.0000        Neutral  \n",
       "2  {'neg': 0.182, 'neu': 0.818, 'pos': 0.0, 'comp...   -0.4404  Weak Negative  \n",
       "3  {'neg': 0.0, 'neu': 1.0, 'pos': 0.0, 'compound...    0.0000        Neutral  \n",
       "4  {'neg': 0.0, 'neu': 1.0, 'pos': 0.0, 'compound...    0.0000        Neutral  "
      ]
     },
     "execution_count": 36,
     "metadata": {},
     "output_type": "execute_result"
    }
   ],
   "source": [
    "#Head of dataframe after 'sentiment' column\n",
    "covishield_september.head()"
   ]
  },
  {
   "cell_type": "code",
   "execution_count": 37,
   "metadata": {},
   "outputs": [
    {
     "data": {
      "text/plain": [
       "Neutral            12057\n",
       "Weak Positive       8523\n",
       "Weak Negative       3755\n",
       "Strong Positive      542\n",
       "Strong Negative      253\n",
       "Name: sentiment, dtype: int64"
      ]
     },
     "execution_count": 37,
     "metadata": {},
     "output_type": "execute_result"
    }
   ],
   "source": [
    "# Different sentiments category \n",
    "covishield_september['sentiment'].value_counts()"
   ]
  },
  {
   "cell_type": "code",
   "execution_count": 38,
   "metadata": {},
   "outputs": [
    {
     "name": "stdout",
     "output_type": "stream",
     "text": [
      "Neutral 47.98 % rounded to 48 %\n",
      "Weak Positive 33.92 % rounded to 34 %\n",
      "Weak Negative 14.94 % rounded to 15 %\n",
      "Strong Positive 2.16 % rounded to 2 %\n",
      "Strong Negative 1.01 % rounded to 1 %\n"
     ]
    }
   ],
   "source": [
    "# Percentage of Above Different Sentiments Category for Visualisation\n",
    "\n",
    "for i in range(len(covishield_september['sentiment'].value_counts())):\n",
    "    percentage = covishield_september['sentiment'].value_counts()[i] / len(covishield_september)\n",
    "    print(covishield_september['sentiment'].value_counts().index[i], round(percentage*100,2),\"%\", \"rounded to\",round(percentage*100),\"%\")"
   ]
  },
  {
   "cell_type": "markdown",
   "metadata": {},
   "source": [
    "The above process can be applied to other months as well"
   ]
  }
 ],
 "metadata": {
  "kernelspec": {
   "display_name": "Python 3",
   "language": "python",
   "name": "python3"
  },
  "language_info": {
   "codemirror_mode": {
    "name": "ipython",
    "version": 3
   },
   "file_extension": ".py",
   "mimetype": "text/x-python",
   "name": "python",
   "nbconvert_exporter": "python",
   "pygments_lexer": "ipython3",
   "version": "3.8.8"
  }
 },
 "nbformat": 4,
 "nbformat_minor": 4
}
