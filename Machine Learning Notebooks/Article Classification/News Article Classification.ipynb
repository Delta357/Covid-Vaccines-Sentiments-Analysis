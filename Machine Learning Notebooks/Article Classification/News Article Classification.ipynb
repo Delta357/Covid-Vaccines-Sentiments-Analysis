{
 "cells": [
  {
   "cell_type": "markdown",
   "metadata": {},
   "source": [
    "# News Article Classification Using Machine Learning\n",
    "\n",
    "In this project, we will be classifying the vaccines news article and classify them into any of the 5 vaccines\n",
    "* Covishield\n",
    "* Covaxin\n",
    "* Moderna\n",
    "* Pfizer\n",
    "* Sputnik V"
   ]
  },
  {
   "cell_type": "code",
   "execution_count": 97,
   "metadata": {},
   "outputs": [],
   "source": [
    "#Loading the libraries\n",
    "import pandas as pd"
   ]
  },
  {
   "cell_type": "markdown",
   "metadata": {},
   "source": [
    "## Reading Each Vaccine Article"
   ]
  },
  {
   "cell_type": "markdown",
   "metadata": {},
   "source": [
    "### 1. Covaxin"
   ]
  },
  {
   "cell_type": "code",
   "execution_count": 98,
   "metadata": {},
   "outputs": [],
   "source": [
    "#Reading csv files\n",
    "covaxin = pd.read_csv('Covaxin Clean Articles.csv')"
   ]
  },
  {
   "cell_type": "code",
   "execution_count": 99,
   "metadata": {},
   "outputs": [
    {
     "data": {
      "text/html": [
       "<div>\n",
       "<style scoped>\n",
       "    .dataframe tbody tr th:only-of-type {\n",
       "        vertical-align: middle;\n",
       "    }\n",
       "\n",
       "    .dataframe tbody tr th {\n",
       "        vertical-align: top;\n",
       "    }\n",
       "\n",
       "    .dataframe thead th {\n",
       "        text-align: right;\n",
       "    }\n",
       "</style>\n",
       "<table border=\"1\" class=\"dataframe\">\n",
       "  <thead>\n",
       "    <tr style=\"text-align: right;\">\n",
       "      <th></th>\n",
       "      <th>DOC</th>\n",
       "      <th>NEWSPAPER</th>\n",
       "      <th>Label</th>\n",
       "      <th>Clean_Article</th>\n",
       "    </tr>\n",
       "  </thead>\n",
       "  <tbody>\n",
       "    <tr>\n",
       "      <th>0</th>\n",
       "      <td>RAIPUR: Covaxin has breached the final frontie...</td>\n",
       "      <td>TOI</td>\n",
       "      <td>Covaxin</td>\n",
       "      <td>raipur covaxin breached final frontier chhatti...</td>\n",
       "    </tr>\n",
       "    <tr>\n",
       "      <th>1</th>\n",
       "      <td>NEW DELHI: Close on the heels of Brazil sealin...</td>\n",
       "      <td>TOI</td>\n",
       "      <td>Covaxin</td>\n",
       "      <td>new delhi close heel brazil sealing deal secur...</td>\n",
       "    </tr>\n",
       "    <tr>\n",
       "      <th>2</th>\n",
       "      <td>NEW DELHI: The government said regular emergen...</td>\n",
       "      <td>TOI</td>\n",
       "      <td>Covaxin</td>\n",
       "      <td>new delhi government said regular emergency us...</td>\n",
       "    </tr>\n",
       "    <tr>\n",
       "      <th>3</th>\n",
       "      <td>HYDERABAD: India’s first indigenous Covid-19 v...</td>\n",
       "      <td>TOI</td>\n",
       "      <td>Covaxin</td>\n",
       "      <td>hyderabad india first indigenous covid vaccine...</td>\n",
       "    </tr>\n",
       "    <tr>\n",
       "      <th>4</th>\n",
       "      <td>MUMBAI: The Maharashtra government on Wednesda...</td>\n",
       "      <td>TOI</td>\n",
       "      <td>Covaxin</td>\n",
       "      <td>mumbai maharashtra government wednesday raised...</td>\n",
       "    </tr>\n",
       "  </tbody>\n",
       "</table>\n",
       "</div>"
      ],
      "text/plain": [
       "                                                 DOC NEWSPAPER    Label  \\\n",
       "0  RAIPUR: Covaxin has breached the final frontie...       TOI  Covaxin   \n",
       "1  NEW DELHI: Close on the heels of Brazil sealin...       TOI  Covaxin   \n",
       "2  NEW DELHI: The government said regular emergen...       TOI  Covaxin   \n",
       "3  HYDERABAD: India’s first indigenous Covid-19 v...       TOI  Covaxin   \n",
       "4  MUMBAI: The Maharashtra government on Wednesda...       TOI  Covaxin   \n",
       "\n",
       "                                       Clean_Article  \n",
       "0  raipur covaxin breached final frontier chhatti...  \n",
       "1  new delhi close heel brazil sealing deal secur...  \n",
       "2  new delhi government said regular emergency us...  \n",
       "3  hyderabad india first indigenous covid vaccine...  \n",
       "4  mumbai maharashtra government wednesday raised...  "
      ]
     },
     "execution_count": 99,
     "metadata": {},
     "output_type": "execute_result"
    }
   ],
   "source": [
    "covaxin.head()"
   ]
  },
  {
   "cell_type": "markdown",
   "metadata": {},
   "source": [
    "### 2. Covishield"
   ]
  },
  {
   "cell_type": "code",
   "execution_count": 100,
   "metadata": {},
   "outputs": [],
   "source": [
    "covishield = pd.read_csv('Covishield Clean Articles.csv')"
   ]
  },
  {
   "cell_type": "code",
   "execution_count": 101,
   "metadata": {},
   "outputs": [
    {
     "data": {
      "text/html": [
       "<div>\n",
       "<style scoped>\n",
       "    .dataframe tbody tr th:only-of-type {\n",
       "        vertical-align: middle;\n",
       "    }\n",
       "\n",
       "    .dataframe tbody tr th {\n",
       "        vertical-align: top;\n",
       "    }\n",
       "\n",
       "    .dataframe thead th {\n",
       "        text-align: right;\n",
       "    }\n",
       "</style>\n",
       "<table border=\"1\" class=\"dataframe\">\n",
       "  <thead>\n",
       "    <tr style=\"text-align: right;\">\n",
       "      <th></th>\n",
       "      <th>DOC</th>\n",
       "      <th>NEWSPAPER</th>\n",
       "      <th>Label</th>\n",
       "      <th>Clean_Article</th>\n",
       "    </tr>\n",
       "  </thead>\n",
       "  <tbody>\n",
       "    <tr>\n",
       "      <th>0</th>\n",
       "      <td>CHENNAI: The Tamil Nadu government doctors ass...</td>\n",
       "      <td>TOI</td>\n",
       "      <td>Covishield</td>\n",
       "      <td>chennai tamil nadu government doctor associati...</td>\n",
       "    </tr>\n",
       "    <tr>\n",
       "      <th>1</th>\n",
       "      <td>MANGALURU: Dakshina Kannada district is fully ...</td>\n",
       "      <td>TOI</td>\n",
       "      <td>Covishield</td>\n",
       "      <td>mangaluru dakshina kannada district fully prep...</td>\n",
       "    </tr>\n",
       "    <tr>\n",
       "      <th>2</th>\n",
       "      <td>CHANDIGARH: The wait is finally over. Punjab o...</td>\n",
       "      <td>TOI</td>\n",
       "      <td>Covishield</td>\n",
       "      <td>chandigarh wait finally punjab tuesday receive...</td>\n",
       "    </tr>\n",
       "    <tr>\n",
       "      <th>3</th>\n",
       "      <td>MUMBAI: India may have decided to stick to the...</td>\n",
       "      <td>TOI</td>\n",
       "      <td>Covishield</td>\n",
       "      <td>mumbai india may decided stick day gap two sho...</td>\n",
       "    </tr>\n",
       "    <tr>\n",
       "      <th>4</th>\n",
       "      <td>PUNE: Ahead of the vaccination drive against c...</td>\n",
       "      <td>TOI</td>\n",
       "      <td>Covishield</td>\n",
       "      <td>pune ahead vaccination drive coronavirus total...</td>\n",
       "    </tr>\n",
       "  </tbody>\n",
       "</table>\n",
       "</div>"
      ],
      "text/plain": [
       "                                                 DOC NEWSPAPER       Label  \\\n",
       "0  CHENNAI: The Tamil Nadu government doctors ass...       TOI  Covishield   \n",
       "1  MANGALURU: Dakshina Kannada district is fully ...       TOI  Covishield   \n",
       "2  CHANDIGARH: The wait is finally over. Punjab o...       TOI  Covishield   \n",
       "3  MUMBAI: India may have decided to stick to the...       TOI  Covishield   \n",
       "4  PUNE: Ahead of the vaccination drive against c...       TOI  Covishield   \n",
       "\n",
       "                                       Clean_Article  \n",
       "0  chennai tamil nadu government doctor associati...  \n",
       "1  mangaluru dakshina kannada district fully prep...  \n",
       "2  chandigarh wait finally punjab tuesday receive...  \n",
       "3  mumbai india may decided stick day gap two sho...  \n",
       "4  pune ahead vaccination drive coronavirus total...  "
      ]
     },
     "execution_count": 101,
     "metadata": {},
     "output_type": "execute_result"
    }
   ],
   "source": [
    "covishield.head()"
   ]
  },
  {
   "cell_type": "markdown",
   "metadata": {},
   "source": [
    "### 3. Moderna"
   ]
  },
  {
   "cell_type": "code",
   "execution_count": 102,
   "metadata": {},
   "outputs": [],
   "source": [
    "moderna = pd.read_csv('Moderna Clean Articles.csv')"
   ]
  },
  {
   "cell_type": "code",
   "execution_count": 103,
   "metadata": {},
   "outputs": [
    {
     "data": {
      "text/html": [
       "<div>\n",
       "<style scoped>\n",
       "    .dataframe tbody tr th:only-of-type {\n",
       "        vertical-align: middle;\n",
       "    }\n",
       "\n",
       "    .dataframe tbody tr th {\n",
       "        vertical-align: top;\n",
       "    }\n",
       "\n",
       "    .dataframe thead th {\n",
       "        text-align: right;\n",
       "    }\n",
       "</style>\n",
       "<table border=\"1\" class=\"dataframe\">\n",
       "  <thead>\n",
       "    <tr style=\"text-align: right;\">\n",
       "      <th></th>\n",
       "      <th>DOC</th>\n",
       "      <th>NEWSPAPER</th>\n",
       "      <th>Label</th>\n",
       "      <th>Clean_Article</th>\n",
       "    </tr>\n",
       "  </thead>\n",
       "  <tbody>\n",
       "    <tr>\n",
       "      <th>0</th>\n",
       "      <td>DETROIT/LOS ANGELES: Distribution of Moderna I...</td>\n",
       "      <td>TOI</td>\n",
       "      <td>Moderna</td>\n",
       "      <td>detroit los angeles distribution moderna inc c...</td>\n",
       "    </tr>\n",
       "    <tr>\n",
       "      <th>1</th>\n",
       "      <td>Moderna Inc said on Monday it was informed by ...</td>\n",
       "      <td>TOI</td>\n",
       "      <td>Moderna</td>\n",
       "      <td>moderna inc said monday informed european medi...</td>\n",
       "    </tr>\n",
       "    <tr>\n",
       "      <th>2</th>\n",
       "      <td>NEW YORK: Moderna has begun testing its COVID-...</td>\n",
       "      <td>TOI</td>\n",
       "      <td>Moderna</td>\n",
       "      <td>new york moderna begun testing covid vaccine c...</td>\n",
       "    </tr>\n",
       "    <tr>\n",
       "      <th>3</th>\n",
       "      <td>Moderna Inc on Thursday received approval from...</td>\n",
       "      <td>TOI</td>\n",
       "      <td>Moderna</td>\n",
       "      <td>moderna inc thursday received approval u food ...</td>\n",
       "    </tr>\n",
       "    <tr>\n",
       "      <th>4</th>\n",
       "      <td>WASHINGTON: US manufacturer Moderna on Tuesday...</td>\n",
       "      <td>TOI</td>\n",
       "      <td>Moderna</td>\n",
       "      <td>washington u manufacturer moderna tuesday said...</td>\n",
       "    </tr>\n",
       "  </tbody>\n",
       "</table>\n",
       "</div>"
      ],
      "text/plain": [
       "                                                 DOC NEWSPAPER    Label  \\\n",
       "0  DETROIT/LOS ANGELES: Distribution of Moderna I...       TOI  Moderna   \n",
       "1  Moderna Inc said on Monday it was informed by ...       TOI  Moderna   \n",
       "2  NEW YORK: Moderna has begun testing its COVID-...       TOI  Moderna   \n",
       "3  Moderna Inc on Thursday received approval from...       TOI  Moderna   \n",
       "4  WASHINGTON: US manufacturer Moderna on Tuesday...       TOI  Moderna   \n",
       "\n",
       "                                       Clean_Article  \n",
       "0  detroit los angeles distribution moderna inc c...  \n",
       "1  moderna inc said monday informed european medi...  \n",
       "2  new york moderna begun testing covid vaccine c...  \n",
       "3  moderna inc thursday received approval u food ...  \n",
       "4  washington u manufacturer moderna tuesday said...  "
      ]
     },
     "execution_count": 103,
     "metadata": {},
     "output_type": "execute_result"
    }
   ],
   "source": [
    "moderna.head()"
   ]
  },
  {
   "cell_type": "markdown",
   "metadata": {},
   "source": [
    "### 4. Pfizer"
   ]
  },
  {
   "cell_type": "code",
   "execution_count": 104,
   "metadata": {},
   "outputs": [],
   "source": [
    "pfizer = pd.read_csv('Pfizer Clean Articles.csv')"
   ]
  },
  {
   "cell_type": "code",
   "execution_count": 105,
   "metadata": {},
   "outputs": [
    {
     "data": {
      "text/html": [
       "<div>\n",
       "<style scoped>\n",
       "    .dataframe tbody tr th:only-of-type {\n",
       "        vertical-align: middle;\n",
       "    }\n",
       "\n",
       "    .dataframe tbody tr th {\n",
       "        vertical-align: top;\n",
       "    }\n",
       "\n",
       "    .dataframe thead th {\n",
       "        text-align: right;\n",
       "    }\n",
       "</style>\n",
       "<table border=\"1\" class=\"dataframe\">\n",
       "  <thead>\n",
       "    <tr style=\"text-align: right;\">\n",
       "      <th></th>\n",
       "      <th>DOC</th>\n",
       "      <th>NEWSPAPER</th>\n",
       "      <th>Label</th>\n",
       "      <th>Clean_Article</th>\n",
       "    </tr>\n",
       "  </thead>\n",
       "  <tbody>\n",
       "    <tr>\n",
       "      <th>0</th>\n",
       "      <td>Pfizer announced Wednesday that its Covid-19 v...</td>\n",
       "      <td>TOI</td>\n",
       "      <td>Pfizer</td>\n",
       "      <td>pfizer announced wednesday covid vaccine safe ...</td>\n",
       "    </tr>\n",
       "    <tr>\n",
       "      <th>1</th>\n",
       "      <td>Pfizer Inc and partner BioNTech SE said on Fri...</td>\n",
       "      <td>TOI</td>\n",
       "      <td>Pfizer</td>\n",
       "      <td>pfizer inc partner biontech se said friday sub...</td>\n",
       "    </tr>\n",
       "    <tr>\n",
       "      <th>2</th>\n",
       "      <td>NEW DELHI/MUMBAI: The Indian drug regulator's ...</td>\n",
       "      <td>TOI</td>\n",
       "      <td>Pfizer</td>\n",
       "      <td>new delhi mumbai indian drug regulator subject...</td>\n",
       "    </tr>\n",
       "    <tr>\n",
       "      <th>3</th>\n",
       "      <td>SEOUL: North Korean hackers tried to break int...</td>\n",
       "      <td>TOI</td>\n",
       "      <td>Pfizer</td>\n",
       "      <td>seoul north korean hacker tried break computer...</td>\n",
       "    </tr>\n",
       "    <tr>\n",
       "      <th>4</th>\n",
       "      <td>NEW DELHI: In a historic moment in the fight a...</td>\n",
       "      <td>TOI</td>\n",
       "      <td>Pfizer</td>\n",
       "      <td>new delhi historic moment fight pandemic brita...</td>\n",
       "    </tr>\n",
       "  </tbody>\n",
       "</table>\n",
       "</div>"
      ],
      "text/plain": [
       "                                                 DOC NEWSPAPER   Label  \\\n",
       "0  Pfizer announced Wednesday that its Covid-19 v...       TOI  Pfizer   \n",
       "1  Pfizer Inc and partner BioNTech SE said on Fri...       TOI  Pfizer   \n",
       "2  NEW DELHI/MUMBAI: The Indian drug regulator's ...       TOI  Pfizer   \n",
       "3  SEOUL: North Korean hackers tried to break int...       TOI  Pfizer   \n",
       "4  NEW DELHI: In a historic moment in the fight a...       TOI  Pfizer   \n",
       "\n",
       "                                       Clean_Article  \n",
       "0  pfizer announced wednesday covid vaccine safe ...  \n",
       "1  pfizer inc partner biontech se said friday sub...  \n",
       "2  new delhi mumbai indian drug regulator subject...  \n",
       "3  seoul north korean hacker tried break computer...  \n",
       "4  new delhi historic moment fight pandemic brita...  "
      ]
     },
     "execution_count": 105,
     "metadata": {},
     "output_type": "execute_result"
    }
   ],
   "source": [
    "pfizer.head()"
   ]
  },
  {
   "cell_type": "markdown",
   "metadata": {},
   "source": [
    "### 5. Sputnik"
   ]
  },
  {
   "cell_type": "code",
   "execution_count": 106,
   "metadata": {},
   "outputs": [],
   "source": [
    "sputnik = pd.read_csv('Sputnik Clean Articles.csv')"
   ]
  },
  {
   "cell_type": "code",
   "execution_count": 107,
   "metadata": {},
   "outputs": [
    {
     "data": {
      "text/html": [
       "<div>\n",
       "<style scoped>\n",
       "    .dataframe tbody tr th:only-of-type {\n",
       "        vertical-align: middle;\n",
       "    }\n",
       "\n",
       "    .dataframe tbody tr th {\n",
       "        vertical-align: top;\n",
       "    }\n",
       "\n",
       "    .dataframe thead th {\n",
       "        text-align: right;\n",
       "    }\n",
       "</style>\n",
       "<table border=\"1\" class=\"dataframe\">\n",
       "  <thead>\n",
       "    <tr style=\"text-align: right;\">\n",
       "      <th></th>\n",
       "      <th>DOC</th>\n",
       "      <th>NEWSPAPER</th>\n",
       "      <th>Label</th>\n",
       "      <th>Clean_Article</th>\n",
       "    </tr>\n",
       "  </thead>\n",
       "  <tbody>\n",
       "    <tr>\n",
       "      <th>0</th>\n",
       "      <td>HYDERABAD: Following the independent Data and ...</td>\n",
       "      <td>TOI</td>\n",
       "      <td>Sputnik</td>\n",
       "      <td>hyderabad following independent data safety mo...</td>\n",
       "    </tr>\n",
       "    <tr>\n",
       "      <th>1</th>\n",
       "      <td>Swati.Bharadwaj@timesgroup.com Covid brought n...</td>\n",
       "      <td>TOI</td>\n",
       "      <td>Sputnik</td>\n",
       "      <td>swati bharadwaj timesgroup com covid brought u...</td>\n",
       "    </tr>\n",
       "    <tr>\n",
       "      <th>2</th>\n",
       "      <td>NEW DELHI: Russian envoy in New Delhi Nikolay ...</td>\n",
       "      <td>TOI</td>\n",
       "      <td>Sputnik</td>\n",
       "      <td>new delhi russian envoy new delhi nikolay kuda...</td>\n",
       "    </tr>\n",
       "    <tr>\n",
       "      <th>3</th>\n",
       "      <td>MOSCOW: Russia's boast in August that it was t...</td>\n",
       "      <td>TOI</td>\n",
       "      <td>Sputnik</td>\n",
       "      <td>moscow russia boast august first country autho...</td>\n",
       "    </tr>\n",
       "    <tr>\n",
       "      <th>4</th>\n",
       "      <td>NEW DELHI: It may be some time before Russia’s...</td>\n",
       "      <td>TOI</td>\n",
       "      <td>Sputnik</td>\n",
       "      <td>new delhi may time russia covid vaccine sputni...</td>\n",
       "    </tr>\n",
       "  </tbody>\n",
       "</table>\n",
       "</div>"
      ],
      "text/plain": [
       "                                                 DOC NEWSPAPER    Label  \\\n",
       "0  HYDERABAD: Following the independent Data and ...       TOI  Sputnik   \n",
       "1  Swati.Bharadwaj@timesgroup.com Covid brought n...       TOI  Sputnik   \n",
       "2  NEW DELHI: Russian envoy in New Delhi Nikolay ...       TOI  Sputnik   \n",
       "3  MOSCOW: Russia's boast in August that it was t...       TOI  Sputnik   \n",
       "4  NEW DELHI: It may be some time before Russia’s...       TOI  Sputnik   \n",
       "\n",
       "                                       Clean_Article  \n",
       "0  hyderabad following independent data safety mo...  \n",
       "1  swati bharadwaj timesgroup com covid brought u...  \n",
       "2  new delhi russian envoy new delhi nikolay kuda...  \n",
       "3  moscow russia boast august first country autho...  \n",
       "4  new delhi may time russia covid vaccine sputni...  "
      ]
     },
     "execution_count": 107,
     "metadata": {},
     "output_type": "execute_result"
    }
   ],
   "source": [
    "sputnik.head()"
   ]
  },
  {
   "cell_type": "markdown",
   "metadata": {},
   "source": [
    "**Combining all in one dataframe for further modelling**"
   ]
  },
  {
   "cell_type": "code",
   "execution_count": 108,
   "metadata": {},
   "outputs": [],
   "source": [
    "#Combined df\n",
    "vaccines = pd.concat([covaxin,covishield,moderna,pfizer,sputnik])"
   ]
  },
  {
   "cell_type": "code",
   "execution_count": 109,
   "metadata": {},
   "outputs": [
    {
     "data": {
      "text/html": [
       "<div>\n",
       "<style scoped>\n",
       "    .dataframe tbody tr th:only-of-type {\n",
       "        vertical-align: middle;\n",
       "    }\n",
       "\n",
       "    .dataframe tbody tr th {\n",
       "        vertical-align: top;\n",
       "    }\n",
       "\n",
       "    .dataframe thead th {\n",
       "        text-align: right;\n",
       "    }\n",
       "</style>\n",
       "<table border=\"1\" class=\"dataframe\">\n",
       "  <thead>\n",
       "    <tr style=\"text-align: right;\">\n",
       "      <th></th>\n",
       "      <th>DOC</th>\n",
       "      <th>NEWSPAPER</th>\n",
       "      <th>Label</th>\n",
       "      <th>Clean_Article</th>\n",
       "    </tr>\n",
       "  </thead>\n",
       "  <tbody>\n",
       "    <tr>\n",
       "      <th>0</th>\n",
       "      <td>RAIPUR: Covaxin has breached the final frontie...</td>\n",
       "      <td>TOI</td>\n",
       "      <td>Covaxin</td>\n",
       "      <td>raipur covaxin breached final frontier chhatti...</td>\n",
       "    </tr>\n",
       "    <tr>\n",
       "      <th>1</th>\n",
       "      <td>NEW DELHI: Close on the heels of Brazil sealin...</td>\n",
       "      <td>TOI</td>\n",
       "      <td>Covaxin</td>\n",
       "      <td>new delhi close heel brazil sealing deal secur...</td>\n",
       "    </tr>\n",
       "    <tr>\n",
       "      <th>2</th>\n",
       "      <td>NEW DELHI: The government said regular emergen...</td>\n",
       "      <td>TOI</td>\n",
       "      <td>Covaxin</td>\n",
       "      <td>new delhi government said regular emergency us...</td>\n",
       "    </tr>\n",
       "    <tr>\n",
       "      <th>3</th>\n",
       "      <td>HYDERABAD: India’s first indigenous Covid-19 v...</td>\n",
       "      <td>TOI</td>\n",
       "      <td>Covaxin</td>\n",
       "      <td>hyderabad india first indigenous covid vaccine...</td>\n",
       "    </tr>\n",
       "    <tr>\n",
       "      <th>4</th>\n",
       "      <td>MUMBAI: The Maharashtra government on Wednesda...</td>\n",
       "      <td>TOI</td>\n",
       "      <td>Covaxin</td>\n",
       "      <td>mumbai maharashtra government wednesday raised...</td>\n",
       "    </tr>\n",
       "  </tbody>\n",
       "</table>\n",
       "</div>"
      ],
      "text/plain": [
       "                                                 DOC NEWSPAPER    Label  \\\n",
       "0  RAIPUR: Covaxin has breached the final frontie...       TOI  Covaxin   \n",
       "1  NEW DELHI: Close on the heels of Brazil sealin...       TOI  Covaxin   \n",
       "2  NEW DELHI: The government said regular emergen...       TOI  Covaxin   \n",
       "3  HYDERABAD: India’s first indigenous Covid-19 v...       TOI  Covaxin   \n",
       "4  MUMBAI: The Maharashtra government on Wednesda...       TOI  Covaxin   \n",
       "\n",
       "                                       Clean_Article  \n",
       "0  raipur covaxin breached final frontier chhatti...  \n",
       "1  new delhi close heel brazil sealing deal secur...  \n",
       "2  new delhi government said regular emergency us...  \n",
       "3  hyderabad india first indigenous covid vaccine...  \n",
       "4  mumbai maharashtra government wednesday raised...  "
      ]
     },
     "execution_count": 109,
     "metadata": {},
     "output_type": "execute_result"
    }
   ],
   "source": [
    "vaccines.head()"
   ]
  },
  {
   "cell_type": "code",
   "execution_count": 110,
   "metadata": {},
   "outputs": [
    {
     "data": {
      "text/plain": [
       "3238"
      ]
     },
     "execution_count": 110,
     "metadata": {},
     "output_type": "execute_result"
    }
   ],
   "source": [
    "len(vaccines)"
   ]
  },
  {
   "cell_type": "markdown",
   "metadata": {},
   "source": [
    "### Reordering Columns"
   ]
  },
  {
   "cell_type": "code",
   "execution_count": 111,
   "metadata": {},
   "outputs": [
    {
     "data": {
      "text/plain": [
       "Index(['DOC', 'NEWSPAPER', 'Label', 'Clean_Article'], dtype='object')"
      ]
     },
     "execution_count": 111,
     "metadata": {},
     "output_type": "execute_result"
    }
   ],
   "source": [
    "#Total columns in dataframe\n",
    "vaccines.columns"
   ]
  },
  {
   "cell_type": "code",
   "execution_count": 112,
   "metadata": {},
   "outputs": [],
   "source": [
    "columns_to_reorder = ['DOC','Clean_Article','NEWSPAPER','Label']"
   ]
  },
  {
   "cell_type": "code",
   "execution_count": 113,
   "metadata": {},
   "outputs": [],
   "source": [
    "#Reordering columns\n",
    "vaccines = vaccines[columns_to_reorder]"
   ]
  },
  {
   "cell_type": "code",
   "execution_count": 114,
   "metadata": {},
   "outputs": [
    {
     "data": {
      "text/html": [
       "<div>\n",
       "<style scoped>\n",
       "    .dataframe tbody tr th:only-of-type {\n",
       "        vertical-align: middle;\n",
       "    }\n",
       "\n",
       "    .dataframe tbody tr th {\n",
       "        vertical-align: top;\n",
       "    }\n",
       "\n",
       "    .dataframe thead th {\n",
       "        text-align: right;\n",
       "    }\n",
       "</style>\n",
       "<table border=\"1\" class=\"dataframe\">\n",
       "  <thead>\n",
       "    <tr style=\"text-align: right;\">\n",
       "      <th></th>\n",
       "      <th>DOC</th>\n",
       "      <th>Clean_Article</th>\n",
       "      <th>NEWSPAPER</th>\n",
       "      <th>Label</th>\n",
       "    </tr>\n",
       "  </thead>\n",
       "  <tbody>\n",
       "    <tr>\n",
       "      <th>0</th>\n",
       "      <td>RAIPUR: Covaxin has breached the final frontie...</td>\n",
       "      <td>raipur covaxin breached final frontier chhatti...</td>\n",
       "      <td>TOI</td>\n",
       "      <td>Covaxin</td>\n",
       "    </tr>\n",
       "    <tr>\n",
       "      <th>1</th>\n",
       "      <td>NEW DELHI: Close on the heels of Brazil sealin...</td>\n",
       "      <td>new delhi close heel brazil sealing deal secur...</td>\n",
       "      <td>TOI</td>\n",
       "      <td>Covaxin</td>\n",
       "    </tr>\n",
       "    <tr>\n",
       "      <th>2</th>\n",
       "      <td>NEW DELHI: The government said regular emergen...</td>\n",
       "      <td>new delhi government said regular emergency us...</td>\n",
       "      <td>TOI</td>\n",
       "      <td>Covaxin</td>\n",
       "    </tr>\n",
       "    <tr>\n",
       "      <th>3</th>\n",
       "      <td>HYDERABAD: India’s first indigenous Covid-19 v...</td>\n",
       "      <td>hyderabad india first indigenous covid vaccine...</td>\n",
       "      <td>TOI</td>\n",
       "      <td>Covaxin</td>\n",
       "    </tr>\n",
       "    <tr>\n",
       "      <th>4</th>\n",
       "      <td>MUMBAI: The Maharashtra government on Wednesda...</td>\n",
       "      <td>mumbai maharashtra government wednesday raised...</td>\n",
       "      <td>TOI</td>\n",
       "      <td>Covaxin</td>\n",
       "    </tr>\n",
       "  </tbody>\n",
       "</table>\n",
       "</div>"
      ],
      "text/plain": [
       "                                                 DOC  \\\n",
       "0  RAIPUR: Covaxin has breached the final frontie...   \n",
       "1  NEW DELHI: Close on the heels of Brazil sealin...   \n",
       "2  NEW DELHI: The government said regular emergen...   \n",
       "3  HYDERABAD: India’s first indigenous Covid-19 v...   \n",
       "4  MUMBAI: The Maharashtra government on Wednesda...   \n",
       "\n",
       "                                       Clean_Article NEWSPAPER    Label  \n",
       "0  raipur covaxin breached final frontier chhatti...       TOI  Covaxin  \n",
       "1  new delhi close heel brazil sealing deal secur...       TOI  Covaxin  \n",
       "2  new delhi government said regular emergency us...       TOI  Covaxin  \n",
       "3  hyderabad india first indigenous covid vaccine...       TOI  Covaxin  \n",
       "4  mumbai maharashtra government wednesday raised...       TOI  Covaxin  "
      ]
     },
     "execution_count": 114,
     "metadata": {},
     "output_type": "execute_result"
    }
   ],
   "source": [
    "vaccines.head()"
   ]
  },
  {
   "cell_type": "code",
   "execution_count": 115,
   "metadata": {},
   "outputs": [
    {
     "data": {
      "text/plain": [
       "Pfizer        957\n",
       "Covaxin       877\n",
       "Moderna       833\n",
       "Covishield    384\n",
       "Sputnik       187\n",
       "Name: Label, dtype: int64"
      ]
     },
     "execution_count": 115,
     "metadata": {},
     "output_type": "execute_result"
    }
   ],
   "source": [
    "#Label categories\n",
    "vaccines['Label'].value_counts()"
   ]
  },
  {
   "cell_type": "markdown",
   "metadata": {},
   "source": [
    "## Model Building"
   ]
  },
  {
   "cell_type": "code",
   "execution_count": 116,
   "metadata": {},
   "outputs": [],
   "source": [
    "#Converting Clean Article column to Unicode type (for TFIDF Vectorizer)\n",
    "vaccines['Clean_Article'] = vaccines['Clean_Article'].astype('str')"
   ]
  },
  {
   "cell_type": "markdown",
   "metadata": {},
   "source": [
    "### Splitting data into train and test"
   ]
  },
  {
   "cell_type": "code",
   "execution_count": 117,
   "metadata": {},
   "outputs": [],
   "source": [
    "from sklearn.model_selection import train_test_split"
   ]
  },
  {
   "cell_type": "code",
   "execution_count": 118,
   "metadata": {},
   "outputs": [],
   "source": [
    "#Creating X and y\n",
    "X = vaccines['Clean_Article']\n",
    "y = vaccines['Label']"
   ]
  },
  {
   "cell_type": "code",
   "execution_count": 119,
   "metadata": {},
   "outputs": [],
   "source": [
    "#Training size -> 80% , Testing size -> 20%\n",
    "X_train , X_test , y_train, y_test = train_test_split(X,y,test_size=0.2,random_state=42)"
   ]
  },
  {
   "cell_type": "markdown",
   "metadata": {},
   "source": [
    "### Creating a Pipeline"
   ]
  },
  {
   "cell_type": "code",
   "execution_count": 120,
   "metadata": {},
   "outputs": [],
   "source": [
    "#Pipeline\n",
    "from sklearn.pipeline import Pipeline"
   ]
  },
  {
   "cell_type": "code",
   "execution_count": 121,
   "metadata": {},
   "outputs": [],
   "source": [
    "#Tfidf Vectorizer\n",
    "from sklearn.feature_extraction.text import TfidfVectorizer"
   ]
  },
  {
   "cell_type": "markdown",
   "metadata": {},
   "source": [
    "TF-IDF are word frequency scores that try to highlight words that are more interesting, e.g. frequent in a document but not across documents. The TfidfVectorizer will tokenize documents, learn the vocabulary and inverse document frequency weightings, and allow you to encode new documents"
   ]
  },
  {
   "cell_type": "markdown",
   "metadata": {},
   "source": [
    "## ** Naive Bayes Classifier **"
   ]
  },
  {
   "cell_type": "code",
   "execution_count": 122,
   "metadata": {},
   "outputs": [],
   "source": [
    "#Naive Bayes Classifier\n",
    "from sklearn.naive_bayes import MultinomialNB"
   ]
  },
  {
   "cell_type": "code",
   "execution_count": 123,
   "metadata": {},
   "outputs": [],
   "source": [
    "# Classification Model (Naive Bayes):\n",
    "text_clf_nb = Pipeline([('tfidf', TfidfVectorizer()),\n",
    "                     ('clf', MultinomialNB()),\n",
    "])"
   ]
  },
  {
   "cell_type": "markdown",
   "metadata": {},
   "source": [
    "### Fitting the model"
   ]
  },
  {
   "cell_type": "code",
   "execution_count": 124,
   "metadata": {},
   "outputs": [
    {
     "data": {
      "text/plain": [
       "Pipeline(steps=[('tfidf', TfidfVectorizer()), ('clf', MultinomialNB())])"
      ]
     },
     "execution_count": 124,
     "metadata": {},
     "output_type": "execute_result"
    }
   ],
   "source": [
    "#Fitting the model to the data\n",
    "text_clf_nb.fit(X_train, y_train)"
   ]
  },
  {
   "cell_type": "markdown",
   "metadata": {},
   "source": [
    "### Run predictions"
   ]
  },
  {
   "cell_type": "code",
   "execution_count": 125,
   "metadata": {},
   "outputs": [],
   "source": [
    "#Predicting the set\n",
    "predictions_nb = text_clf_nb.predict(X_test)"
   ]
  },
  {
   "cell_type": "code",
   "execution_count": 126,
   "metadata": {},
   "outputs": [
    {
     "name": "stdout",
     "output_type": "stream",
     "text": [
      "[[206   0   0   0   0]\n",
      " [ 74   0   1   0   0]\n",
      " [ 36   0  76  38   0]\n",
      " [ 38   0  51  99   0]\n",
      " [ 15   0   4   3   7]]\n"
     ]
    }
   ],
   "source": [
    "# Report the confusion matrix\n",
    "from sklearn import metrics\n",
    "print(metrics.confusion_matrix(y_test,predictions_nb))"
   ]
  },
  {
   "cell_type": "code",
   "execution_count": 127,
   "metadata": {},
   "outputs": [
    {
     "name": "stdout",
     "output_type": "stream",
     "text": [
      "              precision    recall  f1-score   support\n",
      "\n",
      "     Covaxin       0.56      1.00      0.72       206\n",
      "  Covishield       0.00      0.00      0.00        75\n",
      "     Moderna       0.58      0.51      0.54       150\n",
      "      Pfizer       0.71      0.53      0.60       188\n",
      "     Sputnik       1.00      0.24      0.39        29\n",
      "\n",
      "    accuracy                           0.60       648\n",
      "   macro avg       0.57      0.45      0.45       648\n",
      "weighted avg       0.56      0.60      0.55       648\n",
      "\n"
     ]
    },
    {
     "name": "stderr",
     "output_type": "stream",
     "text": [
      "C:\\Users\\DELL\\anaconda3\\lib\\site-packages\\sklearn\\metrics\\_classification.py:1221: UndefinedMetricWarning: Precision and F-score are ill-defined and being set to 0.0 in labels with no predicted samples. Use `zero_division` parameter to control this behavior.\n",
      "  _warn_prf(average, modifier, msg_start, len(result))\n"
     ]
    }
   ],
   "source": [
    "# Print a classification report\n",
    "print(metrics.classification_report(y_test,predictions_nb))"
   ]
  },
  {
   "cell_type": "code",
   "execution_count": 128,
   "metadata": {},
   "outputs": [
    {
     "name": "stdout",
     "output_type": "stream",
     "text": [
      "0.5987654320987654\n"
     ]
    }
   ],
   "source": [
    "# Print the overall accuracy\n",
    "print(metrics.accuracy_score(y_test,predictions_nb))"
   ]
  },
  {
   "cell_type": "markdown",
   "metadata": {},
   "source": [
    "## ** Linear SVC **"
   ]
  },
  {
   "cell_type": "code",
   "execution_count": 129,
   "metadata": {},
   "outputs": [],
   "source": [
    "#Linear Support Vector Classifier\n",
    "from sklearn.svm import LinearSVC"
   ]
  },
  {
   "cell_type": "code",
   "execution_count": 130,
   "metadata": {},
   "outputs": [],
   "source": [
    "# Classification Model (Linear SVC):\n",
    "text_clf_svc = Pipeline([('tfidf', TfidfVectorizer()),\n",
    "                     ('clf', LinearSVC()),\n",
    "])"
   ]
  },
  {
   "cell_type": "markdown",
   "metadata": {},
   "source": [
    "### Fitting the model"
   ]
  },
  {
   "cell_type": "code",
   "execution_count": 131,
   "metadata": {},
   "outputs": [
    {
     "data": {
      "text/plain": [
       "Pipeline(steps=[('tfidf', TfidfVectorizer()), ('clf', LinearSVC())])"
      ]
     },
     "execution_count": 131,
     "metadata": {},
     "output_type": "execute_result"
    }
   ],
   "source": [
    "#Fitting the model to the data\n",
    "text_clf_svc.fit(X_train, y_train)"
   ]
  },
  {
   "cell_type": "markdown",
   "metadata": {},
   "source": [
    "### Run predictions"
   ]
  },
  {
   "cell_type": "code",
   "execution_count": 132,
   "metadata": {},
   "outputs": [],
   "source": [
    "#Predicting the set\n",
    "predictions_svc = text_clf_svc.predict(X_test)"
   ]
  },
  {
   "cell_type": "code",
   "execution_count": 133,
   "metadata": {},
   "outputs": [
    {
     "name": "stdout",
     "output_type": "stream",
     "text": [
      "[[163  34   2   4   3]\n",
      " [ 39  25   7   4   0]\n",
      " [  7   9  90  40   4]\n",
      " [  8   2  58 119   1]\n",
      " [  0   0   0   2  27]]\n"
     ]
    }
   ],
   "source": [
    "# Report the confusion matrix\n",
    "from sklearn import metrics\n",
    "print(metrics.confusion_matrix(y_test,predictions_svc))"
   ]
  },
  {
   "cell_type": "code",
   "execution_count": 134,
   "metadata": {},
   "outputs": [
    {
     "name": "stdout",
     "output_type": "stream",
     "text": [
      "              precision    recall  f1-score   support\n",
      "\n",
      "     Covaxin       0.75      0.79      0.77       206\n",
      "  Covishield       0.36      0.33      0.34        75\n",
      "     Moderna       0.57      0.60      0.59       150\n",
      "      Pfizer       0.70      0.63      0.67       188\n",
      "     Sputnik       0.77      0.93      0.84        29\n",
      "\n",
      "    accuracy                           0.65       648\n",
      "   macro avg       0.63      0.66      0.64       648\n",
      "weighted avg       0.65      0.65      0.65       648\n",
      "\n"
     ]
    }
   ],
   "source": [
    "# Print a classification report\n",
    "print(metrics.classification_report(y_test,predictions_svc))"
   ]
  },
  {
   "cell_type": "code",
   "execution_count": 135,
   "metadata": {},
   "outputs": [
    {
     "name": "stdout",
     "output_type": "stream",
     "text": [
      "0.654320987654321\n"
     ]
    }
   ],
   "source": [
    "# Print the overall accuracy\n",
    "print(metrics.accuracy_score(y_test,predictions_svc))"
   ]
  },
  {
   "cell_type": "markdown",
   "metadata": {},
   "source": [
    "## ** Random Forest Classifier **"
   ]
  },
  {
   "cell_type": "code",
   "execution_count": 136,
   "metadata": {},
   "outputs": [],
   "source": [
    "#Random Forest Classifier\n",
    "from sklearn.ensemble import RandomForestClassifier"
   ]
  },
  {
   "cell_type": "code",
   "execution_count": 137,
   "metadata": {},
   "outputs": [],
   "source": [
    "# Classification Model (Random Forest):\n",
    "text_clf_rf = Pipeline([('tfidf', TfidfVectorizer()),\n",
    "                     ('clf', RandomForestClassifier()),\n",
    "])"
   ]
  },
  {
   "cell_type": "markdown",
   "metadata": {},
   "source": [
    "### Fitting the model"
   ]
  },
  {
   "cell_type": "code",
   "execution_count": 138,
   "metadata": {},
   "outputs": [
    {
     "data": {
      "text/plain": [
       "Pipeline(steps=[('tfidf', TfidfVectorizer()),\n",
       "                ('clf', RandomForestClassifier())])"
      ]
     },
     "execution_count": 138,
     "metadata": {},
     "output_type": "execute_result"
    }
   ],
   "source": [
    "#Fitting the model to the data\n",
    "text_clf_rf.fit(X_train, y_train)"
   ]
  },
  {
   "cell_type": "markdown",
   "metadata": {},
   "source": [
    "### Run predictions"
   ]
  },
  {
   "cell_type": "code",
   "execution_count": 139,
   "metadata": {},
   "outputs": [],
   "source": [
    "#Predicting the set\n",
    "predictions_rf = text_clf_rf.predict(X_test)"
   ]
  },
  {
   "cell_type": "code",
   "execution_count": 140,
   "metadata": {},
   "outputs": [
    {
     "name": "stdout",
     "output_type": "stream",
     "text": [
      "[[172  27   2   2   3]\n",
      " [ 52  13   5   5   0]\n",
      " [ 12   7  95  35   1]\n",
      " [ 15   2  67 103   1]\n",
      " [  0   0   4   1  24]]\n"
     ]
    }
   ],
   "source": [
    "# Report the confusion matrix\n",
    "from sklearn import metrics\n",
    "print(metrics.confusion_matrix(y_test,predictions_rf))"
   ]
  },
  {
   "cell_type": "code",
   "execution_count": 141,
   "metadata": {},
   "outputs": [
    {
     "name": "stdout",
     "output_type": "stream",
     "text": [
      "              precision    recall  f1-score   support\n",
      "\n",
      "     Covaxin       0.69      0.83      0.75       206\n",
      "  Covishield       0.27      0.17      0.21        75\n",
      "     Moderna       0.55      0.63      0.59       150\n",
      "      Pfizer       0.71      0.55      0.62       188\n",
      "     Sputnik       0.83      0.83      0.83        29\n",
      "\n",
      "    accuracy                           0.63       648\n",
      "   macro avg       0.61      0.60      0.60       648\n",
      "weighted avg       0.62      0.63      0.62       648\n",
      "\n"
     ]
    }
   ],
   "source": [
    "# Print a classification report\n",
    "print(metrics.classification_report(y_test,predictions_rf))"
   ]
  },
  {
   "cell_type": "code",
   "execution_count": 142,
   "metadata": {},
   "outputs": [
    {
     "name": "stdout",
     "output_type": "stream",
     "text": [
      "0.6280864197530864\n"
     ]
    }
   ],
   "source": [
    "# Print the overall accuracy\n",
    "print(metrics.accuracy_score(y_test,predictions_rf))"
   ]
  },
  {
   "cell_type": "markdown",
   "metadata": {},
   "source": [
    "## ** XgBoost Classifier **"
   ]
  },
  {
   "cell_type": "code",
   "execution_count": 143,
   "metadata": {},
   "outputs": [],
   "source": [
    "import xgboost\n",
    "from xgboost import XGBClassifier"
   ]
  },
  {
   "cell_type": "code",
   "execution_count": 144,
   "metadata": {},
   "outputs": [],
   "source": [
    "# Classification Model (XgBoost):\n",
    "text_clf_xgb = Pipeline([('tfidf', TfidfVectorizer()),\n",
    "                     ('clf', XGBClassifier()),\n",
    "])"
   ]
  },
  {
   "cell_type": "markdown",
   "metadata": {},
   "source": [
    "### Fitting the model"
   ]
  },
  {
   "cell_type": "code",
   "execution_count": 145,
   "metadata": {},
   "outputs": [
    {
     "name": "stderr",
     "output_type": "stream",
     "text": [
      "C:\\Users\\DELL\\anaconda3\\lib\\site-packages\\xgboost\\sklearn.py:888: UserWarning: The use of label encoder in XGBClassifier is deprecated and will be removed in a future release. To remove this warning, do the following: 1) Pass option use_label_encoder=False when constructing XGBClassifier object; and 2) Encode your labels (y) as integers starting with 0, i.e. 0, 1, 2, ..., [num_class - 1].\n",
      "  warnings.warn(label_encoder_deprecation_msg, UserWarning)\n"
     ]
    },
    {
     "name": "stdout",
     "output_type": "stream",
     "text": [
      "[10:30:54] WARNING: C:/Users/Administrator/workspace/xgboost-win64_release_1.3.0/src/learner.cc:1061: Starting in XGBoost 1.3.0, the default evaluation metric used with the objective 'multi:softprob' was changed from 'merror' to 'mlogloss'. Explicitly set eval_metric if you'd like to restore the old behavior.\n"
     ]
    },
    {
     "data": {
      "text/plain": [
       "Pipeline(steps=[('tfidf', TfidfVectorizer()),\n",
       "                ('clf',\n",
       "                 XGBClassifier(base_score=0.5, booster='gbtree',\n",
       "                               colsample_bylevel=1, colsample_bynode=1,\n",
       "                               colsample_bytree=1, gamma=0, gpu_id=-1,\n",
       "                               importance_type='gain',\n",
       "                               interaction_constraints='',\n",
       "                               learning_rate=0.300000012, max_delta_step=0,\n",
       "                               max_depth=6, min_child_weight=1, missing=nan,\n",
       "                               monotone_constraints='()', n_estimators=100,\n",
       "                               n_jobs=8, num_parallel_tree=1,\n",
       "                               objective='multi:softprob', random_state=0,\n",
       "                               reg_alpha=0, reg_lambda=1, scale_pos_weight=None,\n",
       "                               subsample=1, tree_method='exact',\n",
       "                               validate_parameters=1, verbosity=None))])"
      ]
     },
     "execution_count": 145,
     "metadata": {},
     "output_type": "execute_result"
    }
   ],
   "source": [
    "#Fitting the model to the data\n",
    "text_clf_xgb.fit(X_train, y_train)"
   ]
  },
  {
   "cell_type": "markdown",
   "metadata": {},
   "source": [
    "### Run predictions"
   ]
  },
  {
   "cell_type": "code",
   "execution_count": 146,
   "metadata": {},
   "outputs": [],
   "source": [
    "#Predicting the set\n",
    "predictions_xg = text_clf_xgb.predict(X_test)"
   ]
  },
  {
   "cell_type": "code",
   "execution_count": 147,
   "metadata": {},
   "outputs": [
    {
     "name": "stdout",
     "output_type": "stream",
     "text": [
      "[[167  34   0   3   2]\n",
      " [ 33  34   3   5   0]\n",
      " [  5   8  96  37   4]\n",
      " [  4   1  65 116   2]\n",
      " [  0   0   0   0  29]]\n"
     ]
    }
   ],
   "source": [
    "# Report the confusion matrix\n",
    "from sklearn import metrics\n",
    "print(metrics.confusion_matrix(y_test,predictions_xg))"
   ]
  },
  {
   "cell_type": "code",
   "execution_count": 148,
   "metadata": {},
   "outputs": [
    {
     "name": "stdout",
     "output_type": "stream",
     "text": [
      "              precision    recall  f1-score   support\n",
      "\n",
      "     Covaxin       0.80      0.81      0.80       206\n",
      "  Covishield       0.44      0.45      0.45        75\n",
      "     Moderna       0.59      0.64      0.61       150\n",
      "      Pfizer       0.72      0.62      0.66       188\n",
      "     Sputnik       0.78      1.00      0.88        29\n",
      "\n",
      "    accuracy                           0.68       648\n",
      "   macro avg       0.67      0.70      0.68       648\n",
      "weighted avg       0.68      0.68      0.68       648\n",
      "\n"
     ]
    }
   ],
   "source": [
    "# Print a classification report\n",
    "print(metrics.classification_report(y_test,predictions_xg))"
   ]
  },
  {
   "cell_type": "code",
   "execution_count": 149,
   "metadata": {},
   "outputs": [
    {
     "name": "stdout",
     "output_type": "stream",
     "text": [
      "0.6820987654320988\n"
     ]
    }
   ],
   "source": [
    "# Print the overall accuracy\n",
    "print(metrics.accuracy_score(y_test,predictions_xg))"
   ]
  },
  {
   "cell_type": "code",
   "execution_count": 150,
   "metadata": {},
   "outputs": [
    {
     "data": {
      "text/plain": [
       "Pipeline(steps=[('tfidf', TfidfVectorizer()),\n",
       "                ('clf',\n",
       "                 XGBClassifier(base_score=0.5, booster='gbtree',\n",
       "                               colsample_bylevel=1, colsample_bynode=1,\n",
       "                               colsample_bytree=1, gamma=0, gpu_id=-1,\n",
       "                               importance_type='gain',\n",
       "                               interaction_constraints='',\n",
       "                               learning_rate=0.300000012, max_delta_step=0,\n",
       "                               max_depth=6, min_child_weight=1, missing=nan,\n",
       "                               monotone_constraints='()', n_estimators=100,\n",
       "                               n_jobs=8, num_parallel_tree=1,\n",
       "                               objective='multi:softprob', random_state=0,\n",
       "                               reg_alpha=0, reg_lambda=1, scale_pos_weight=None,\n",
       "                               subsample=1, tree_method='exact',\n",
       "                               validate_parameters=1, verbosity=None))])"
      ]
     },
     "execution_count": 150,
     "metadata": {},
     "output_type": "execute_result"
    }
   ],
   "source": [
    "text_clf_xgb"
   ]
  },
  {
   "cell_type": "markdown",
   "metadata": {},
   "source": [
    "## Model Comparison"
   ]
  },
  {
   "cell_type": "code",
   "execution_count": 151,
   "metadata": {},
   "outputs": [],
   "source": [
    "#Creating dictionary for model scores\n",
    "model_scores={'Naive Bayes':metrics.accuracy_score(y_test,predictions_nb),\n",
    "              'Linear SVC':metrics.accuracy_score(y_test,predictions_svc),\n",
    "             'Random Forest':metrics.accuracy_score(y_test,predictions_rf),\n",
    "             'XgBoost':metrics.accuracy_score(y_test,predictions_xg)}"
   ]
  },
  {
   "cell_type": "code",
   "execution_count": 152,
   "metadata": {},
   "outputs": [
    {
     "data": {
      "text/html": [
       "<div>\n",
       "<style scoped>\n",
       "    .dataframe tbody tr th:only-of-type {\n",
       "        vertical-align: middle;\n",
       "    }\n",
       "\n",
       "    .dataframe tbody tr th {\n",
       "        vertical-align: top;\n",
       "    }\n",
       "\n",
       "    .dataframe thead th {\n",
       "        text-align: right;\n",
       "    }\n",
       "</style>\n",
       "<table border=\"1\" class=\"dataframe\">\n",
       "  <thead>\n",
       "    <tr style=\"text-align: right;\">\n",
       "      <th></th>\n",
       "      <th>Naive Bayes</th>\n",
       "      <th>Linear SVC</th>\n",
       "      <th>Random Forest</th>\n",
       "      <th>XgBoost</th>\n",
       "    </tr>\n",
       "  </thead>\n",
       "  <tbody>\n",
       "    <tr>\n",
       "      <th>accuracy</th>\n",
       "      <td>0.598765</td>\n",
       "      <td>0.654321</td>\n",
       "      <td>0.628086</td>\n",
       "      <td>0.682099</td>\n",
       "    </tr>\n",
       "  </tbody>\n",
       "</table>\n",
       "</div>"
      ],
      "text/plain": [
       "          Naive Bayes  Linear SVC  Random Forest   XgBoost\n",
       "accuracy     0.598765    0.654321       0.628086  0.682099"
      ]
     },
     "execution_count": 152,
     "metadata": {},
     "output_type": "execute_result"
    }
   ],
   "source": [
    "#Based on accuracy\n",
    "model_compare=pd.DataFrame(model_scores,index=['accuracy'])\n",
    "model_compare"
   ]
  },
  {
   "cell_type": "code",
   "execution_count": 153,
   "metadata": {},
   "outputs": [
    {
     "data": {
      "text/plain": [
       "<AxesSubplot:>"
      ]
     },
     "execution_count": 153,
     "metadata": {},
     "output_type": "execute_result"
    },
    {
     "data": {
      "image/png": "[encoded data removed]",
      "text/plain": [
       "<Figure size 432x288 with 1 Axes>"
      ]
     },
     "metadata": {
      "needs_background": "light"
     },
     "output_type": "display_data"
    }
   ],
   "source": [
    "model_compare.T.plot(kind='bar') # (T is here for transpose)"
   ]
  },
  {
   "cell_type": "markdown",
   "metadata": {},
   "source": [
    "We can see here that XgBoost has performed better than the other model. <br>\n",
    "So now, we will be hypertuning XgBoost"
   ]
  },
  {
   "cell_type": "markdown",
   "metadata": {},
   "source": [
    "### HyperParameter Tuning of XgBoost Classifier"
   ]
  },
  {
   "cell_type": "code",
   "execution_count": 155,
   "metadata": {},
   "outputs": [],
   "source": [
    "#Using Randomized Search CV\n",
    "from sklearn.model_selection import RandomizedSearchCV"
   ]
  },
  {
   "cell_type": "code",
   "execution_count": 156,
   "metadata": {},
   "outputs": [],
   "source": [
    "#Param Grid\n",
    "xgb_params = {\n",
    "            'clf__learning_rate' : [0.05,0.10,0.15,0.20,0.25,0.30],\n",
    "            'clf__max_depth'     : [3,4,5,6,8,10,12,15],\n",
    "            'clf__min_child_weight' : [1,3,5,7],\n",
    "            'clf__gamma' : [0.0,0.1,0.2,0.3,0.4],\n",
    "            'clf__colsample_bytree' : [0.3,0.4,0.5,0.7]    \n",
    "            }"
   ]
  },
  {
   "cell_type": "code",
   "execution_count": 158,
   "metadata": {},
   "outputs": [],
   "source": [
    "#Randomized Search CV\n",
    "pipeline = RandomizedSearchCV(\n",
    "            Pipeline([('tfidf', TfidfVectorizer()),\n",
    "                     ('clf', XGBClassifier()),\n",
    "                    ]) ,\n",
    "            xgb_params,n_iter=50,scoring = 'accuracy',cv=5,verbose=2)"
   ]
  },
  {
   "cell_type": "code",
   "execution_count": 159,
   "metadata": {
    "scrolled": true
   },
   "outputs": [
    {
     "name": "stdout",
     "output_type": "stream",
     "text": [
      "Fitting 5 folds for each of 50 candidates, totalling 250 fits\n",
      "[CV] clf__min_child_weight=7, clf__max_depth=15, clf__learning_rate=0.05, clf__gamma=0.3, clf__colsample_bytree=0.7 \n"
     ]
    },
    {
     "name": "stderr",
     "output_type": "stream",
     "text": [
      "[Parallel(n_jobs=1)]: Using backend SequentialBackend with 1 concurrent workers.\n",
      "C:\\Users\\DELL\\anaconda3\\lib\\site-packages\\xgboost\\sklearn.py:888: UserWarning: The use of label encoder in XGBClassifier is deprecated and will be removed in a future release. To remove this warning, do the following: 1) Pass option use_label_encoder=False when constructing XGBClassifier object; and 2) Encode your labels (y) as integers starting with 0, i.e. 0, 1, 2, ..., [num_class - 1].\n",
      "  warnings.warn(label_encoder_deprecation_msg, UserWarning)\n"
     ]
    },
    {
     "name": "stdout",
     "output_type": "stream",
     "text": [
      "[10:35:16] WARNING: C:/Users/Administrator/workspace/xgboost-win64_release_1.3.0/src/learner.cc:1061: Starting in XGBoost 1.3.0, the default evaluation metric used with the objective 'multi:softprob' was changed from 'merror' to 'mlogloss'. Explicitly set eval_metric if you'd like to restore the old behavior.\n",
      "[CV]  clf__min_child_weight=7, clf__max_depth=15, clf__learning_rate=0.05, clf__gamma=0.3, clf__colsample_bytree=0.7, total=  16.0s\n",
      "[CV] clf__min_child_weight=7, clf__max_depth=15, clf__learning_rate=0.05, clf__gamma=0.3, clf__colsample_bytree=0.7 \n"
     ]
    },
    {
     "name": "stderr",
     "output_type": "stream",
     "text": [
      "[Parallel(n_jobs=1)]: Done   1 out of   1 | elapsed:   15.9s remaining:    0.0s\n"
     ]
    },
    {
     "name": "stdout",
     "output_type": "stream",
     "text": [
      "[10:35:31] WARNING: C:/Users/Administrator/workspace/xgboost-win64_release_1.3.0/src/learner.cc:1061: Starting in XGBoost 1.3.0, the default evaluation metric used with the objective 'multi:softprob' was changed from 'merror' to 'mlogloss'. Explicitly set eval_metric if you'd like to restore the old behavior.\n",
      "[CV]  clf__min_child_weight=7, clf__max_depth=15, clf__learning_rate=0.05, clf__gamma=0.3, clf__colsample_bytree=0.7, total=  17.7s\n",
      "[CV] clf__min_child_weight=7, clf__max_depth=15, clf__learning_rate=0.05, clf__gamma=0.3, clf__colsample_bytree=0.7 \n",
      "[10:35:49] WARNING: C:/Users/Administrator/workspace/xgboost-win64_release_1.3.0/src/learner.cc:1061: Starting in XGBoost 1.3.0, the default evaluation metric used with the objective 'multi:softprob' was changed from 'merror' to 'mlogloss'. Explicitly set eval_metric if you'd like to restore the old behavior.\n",
      "[CV]  clf__min_child_weight=7, clf__max_depth=15, clf__learning_rate=0.05, clf__gamma=0.3, clf__colsample_bytree=0.7, total=  19.4s\n",
      "[CV] clf__min_child_weight=7, clf__max_depth=15, clf__learning_rate=0.05, clf__gamma=0.3, clf__colsample_bytree=0.7 \n",
      "[10:36:08] WARNING: C:/Users/Administrator/workspace/xgboost-win64_release_1.3.0/src/learner.cc:1061: Starting in XGBoost 1.3.0, the default evaluation metric used with the objective 'multi:softprob' was changed from 'merror' to 'mlogloss'. Explicitly set eval_metric if you'd like to restore the old behavior.\n",
      "[CV]  clf__min_child_weight=7, clf__max_depth=15, clf__learning_rate=0.05, clf__gamma=0.3, clf__colsample_bytree=0.7, total=  20.0s\n",
      "[CV] clf__min_child_weight=7, clf__max_depth=15, clf__learning_rate=0.05, clf__gamma=0.3, clf__colsample_bytree=0.7 \n",
      "[10:36:28] WARNING: C:/Users/Administrator/workspace/xgboost-win64_release_1.3.0/src/learner.cc:1061: Starting in XGBoost 1.3.0, the default evaluation metric used with the objective 'multi:softprob' was changed from 'merror' to 'mlogloss'. Explicitly set eval_metric if you'd like to restore the old behavior.\n",
      "[CV]  clf__min_child_weight=7, clf__max_depth=15, clf__learning_rate=0.05, clf__gamma=0.3, clf__colsample_bytree=0.7, total=  20.5s\n",
      "[CV] clf__min_child_weight=5, clf__max_depth=6, clf__learning_rate=0.1, clf__gamma=0.2, clf__colsample_bytree=0.7 \n",
      "[10:36:49] WARNING: C:/Users/Administrator/workspace/xgboost-win64_release_1.3.0/src/learner.cc:1061: Starting in XGBoost 1.3.0, the default evaluation metric used with the objective 'multi:softprob' was changed from 'merror' to 'mlogloss'. Explicitly set eval_metric if you'd like to restore the old behavior.\n",
      "[CV]  clf__min_child_weight=5, clf__max_depth=6, clf__learning_rate=0.1, clf__gamma=0.2, clf__colsample_bytree=0.7, total=  14.4s\n",
      "[CV] clf__min_child_weight=5, clf__max_depth=6, clf__learning_rate=0.1, clf__gamma=0.2, clf__colsample_bytree=0.7 \n",
      "[10:37:03] WARNING: C:/Users/Administrator/workspace/xgboost-win64_release_1.3.0/src/learner.cc:1061: Starting in XGBoost 1.3.0, the default evaluation metric used with the objective 'multi:softprob' was changed from 'merror' to 'mlogloss'. Explicitly set eval_metric if you'd like to restore the old behavior.\n",
      "[CV]  clf__min_child_weight=5, clf__max_depth=6, clf__learning_rate=0.1, clf__gamma=0.2, clf__colsample_bytree=0.7, total=  13.5s\n",
      "[CV] clf__min_child_weight=5, clf__max_depth=6, clf__learning_rate=0.1, clf__gamma=0.2, clf__colsample_bytree=0.7 \n",
      "[10:37:17] WARNING: C:/Users/Administrator/workspace/xgboost-win64_release_1.3.0/src/learner.cc:1061: Starting in XGBoost 1.3.0, the default evaluation metric used with the objective 'multi:softprob' was changed from 'merror' to 'mlogloss'. Explicitly set eval_metric if you'd like to restore the old behavior.\n",
      "[CV]  clf__min_child_weight=5, clf__max_depth=6, clf__learning_rate=0.1, clf__gamma=0.2, clf__colsample_bytree=0.7, total=  14.1s\n",
      "[CV] clf__min_child_weight=5, clf__max_depth=6, clf__learning_rate=0.1, clf__gamma=0.2, clf__colsample_bytree=0.7 \n",
      "[10:37:31] WARNING: C:/Users/Administrator/workspace/xgboost-win64_release_1.3.0/src/learner.cc:1061: Starting in XGBoost 1.3.0, the default evaluation metric used with the objective 'multi:softprob' was changed from 'merror' to 'mlogloss'. Explicitly set eval_metric if you'd like to restore the old behavior.\n",
      "[CV]  clf__min_child_weight=5, clf__max_depth=6, clf__learning_rate=0.1, clf__gamma=0.2, clf__colsample_bytree=0.7, total=  13.9s\n",
      "[CV] clf__min_child_weight=5, clf__max_depth=6, clf__learning_rate=0.1, clf__gamma=0.2, clf__colsample_bytree=0.7 \n",
      "[10:37:45] WARNING: C:/Users/Administrator/workspace/xgboost-win64_release_1.3.0/src/learner.cc:1061: Starting in XGBoost 1.3.0, the default evaluation metric used with the objective 'multi:softprob' was changed from 'merror' to 'mlogloss'. Explicitly set eval_metric if you'd like to restore the old behavior.\n",
      "[CV]  clf__min_child_weight=5, clf__max_depth=6, clf__learning_rate=0.1, clf__gamma=0.2, clf__colsample_bytree=0.7, total=  16.6s\n",
      "[CV] clf__min_child_weight=3, clf__max_depth=5, clf__learning_rate=0.25, clf__gamma=0.1, clf__colsample_bytree=0.5 \n",
      "[10:38:02] WARNING: C:/Users/Administrator/workspace/xgboost-win64_release_1.3.0/src/learner.cc:1061: Starting in XGBoost 1.3.0, the default evaluation metric used with the objective 'multi:softprob' was changed from 'merror' to 'mlogloss'. Explicitly set eval_metric if you'd like to restore the old behavior.\n",
      "[CV]  clf__min_child_weight=3, clf__max_depth=5, clf__learning_rate=0.25, clf__gamma=0.1, clf__colsample_bytree=0.5, total=  10.5s\n",
      "[CV] clf__min_child_weight=3, clf__max_depth=5, clf__learning_rate=0.25, clf__gamma=0.1, clf__colsample_bytree=0.5 \n",
      "[10:38:12] WARNING: C:/Users/Administrator/workspace/xgboost-win64_release_1.3.0/src/learner.cc:1061: Starting in XGBoost 1.3.0, the default evaluation metric used with the objective 'multi:softprob' was changed from 'merror' to 'mlogloss'. Explicitly set eval_metric if you'd like to restore the old behavior.\n",
      "[CV]  clf__min_child_weight=3, clf__max_depth=5, clf__learning_rate=0.25, clf__gamma=0.1, clf__colsample_bytree=0.5, total=  10.6s\n",
      "[CV] clf__min_child_weight=3, clf__max_depth=5, clf__learning_rate=0.25, clf__gamma=0.1, clf__colsample_bytree=0.5 \n",
      "[10:38:23] WARNING: C:/Users/Administrator/workspace/xgboost-win64_release_1.3.0/src/learner.cc:1061: Starting in XGBoost 1.3.0, the default evaluation metric used with the objective 'multi:softprob' was changed from 'merror' to 'mlogloss'. Explicitly set eval_metric if you'd like to restore the old behavior.\n",
      "[CV]  clf__min_child_weight=3, clf__max_depth=5, clf__learning_rate=0.25, clf__gamma=0.1, clf__colsample_bytree=0.5, total=  12.0s\n",
      "[CV] clf__min_child_weight=3, clf__max_depth=5, clf__learning_rate=0.25, clf__gamma=0.1, clf__colsample_bytree=0.5 \n",
      "[10:38:35] WARNING: C:/Users/Administrator/workspace/xgboost-win64_release_1.3.0/src/learner.cc:1061: Starting in XGBoost 1.3.0, the default evaluation metric used with the objective 'multi:softprob' was changed from 'merror' to 'mlogloss'. Explicitly set eval_metric if you'd like to restore the old behavior.\n",
      "[CV]  clf__min_child_weight=3, clf__max_depth=5, clf__learning_rate=0.25, clf__gamma=0.1, clf__colsample_bytree=0.5, total=  11.3s\n",
      "[CV] clf__min_child_weight=3, clf__max_depth=5, clf__learning_rate=0.25, clf__gamma=0.1, clf__colsample_bytree=0.5 \n",
      "[10:38:46] WARNING: C:/Users/Administrator/workspace/xgboost-win64_release_1.3.0/src/learner.cc:1061: Starting in XGBoost 1.3.0, the default evaluation metric used with the objective 'multi:softprob' was changed from 'merror' to 'mlogloss'. Explicitly set eval_metric if you'd like to restore the old behavior.\n",
      "[CV]  clf__min_child_weight=3, clf__max_depth=5, clf__learning_rate=0.25, clf__gamma=0.1, clf__colsample_bytree=0.5, total=   9.6s\n",
      "[CV] clf__min_child_weight=1, clf__max_depth=3, clf__learning_rate=0.3, clf__gamma=0.0, clf__colsample_bytree=0.3 \n",
      "[10:38:56] WARNING: C:/Users/Administrator/workspace/xgboost-win64_release_1.3.0/src/learner.cc:1061: Starting in XGBoost 1.3.0, the default evaluation metric used with the objective 'multi:softprob' was changed from 'merror' to 'mlogloss'. Explicitly set eval_metric if you'd like to restore the old behavior.\n",
      "[CV]  clf__min_child_weight=1, clf__max_depth=3, clf__learning_rate=0.3, clf__gamma=0.0, clf__colsample_bytree=0.3, total=   7.7s\n",
      "[CV] clf__min_child_weight=1, clf__max_depth=3, clf__learning_rate=0.3, clf__gamma=0.0, clf__colsample_bytree=0.3 \n"
     ]
    },
    {
     "name": "stdout",
     "output_type": "stream",
     "text": [
      "[10:39:04] WARNING: C:/Users/Administrator/workspace/xgboost-win64_release_1.3.0/src/learner.cc:1061: Starting in XGBoost 1.3.0, the default evaluation metric used with the objective 'multi:softprob' was changed from 'merror' to 'mlogloss'. Explicitly set eval_metric if you'd like to restore the old behavior.\n",
      "[CV]  clf__min_child_weight=1, clf__max_depth=3, clf__learning_rate=0.3, clf__gamma=0.0, clf__colsample_bytree=0.3, total=   8.4s\n",
      "[CV] clf__min_child_weight=1, clf__max_depth=3, clf__learning_rate=0.3, clf__gamma=0.0, clf__colsample_bytree=0.3 \n",
      "[10:39:12] WARNING: C:/Users/Administrator/workspace/xgboost-win64_release_1.3.0/src/learner.cc:1061: Starting in XGBoost 1.3.0, the default evaluation metric used with the objective 'multi:softprob' was changed from 'merror' to 'mlogloss'. Explicitly set eval_metric if you'd like to restore the old behavior.\n",
      "[CV]  clf__min_child_weight=1, clf__max_depth=3, clf__learning_rate=0.3, clf__gamma=0.0, clf__colsample_bytree=0.3, total=   9.1s\n",
      "[CV] clf__min_child_weight=1, clf__max_depth=3, clf__learning_rate=0.3, clf__gamma=0.0, clf__colsample_bytree=0.3 \n",
      "[10:39:20] WARNING: C:/Users/Administrator/workspace/xgboost-win64_release_1.3.0/src/learner.cc:1061: Starting in XGBoost 1.3.0, the default evaluation metric used with the objective 'multi:softprob' was changed from 'merror' to 'mlogloss'. Explicitly set eval_metric if you'd like to restore the old behavior.\n",
      "[CV]  clf__min_child_weight=1, clf__max_depth=3, clf__learning_rate=0.3, clf__gamma=0.0, clf__colsample_bytree=0.3, total=   7.1s\n",
      "[CV] clf__min_child_weight=1, clf__max_depth=3, clf__learning_rate=0.3, clf__gamma=0.0, clf__colsample_bytree=0.3 \n",
      "[10:39:28] WARNING: C:/Users/Administrator/workspace/xgboost-win64_release_1.3.0/src/learner.cc:1061: Starting in XGBoost 1.3.0, the default evaluation metric used with the objective 'multi:softprob' was changed from 'merror' to 'mlogloss'. Explicitly set eval_metric if you'd like to restore the old behavior.\n",
      "[CV]  clf__min_child_weight=1, clf__max_depth=3, clf__learning_rate=0.3, clf__gamma=0.0, clf__colsample_bytree=0.3, total=   6.9s\n",
      "[CV] clf__min_child_weight=1, clf__max_depth=15, clf__learning_rate=0.2, clf__gamma=0.3, clf__colsample_bytree=0.3 \n",
      "[10:39:35] WARNING: C:/Users/Administrator/workspace/xgboost-win64_release_1.3.0/src/learner.cc:1061: Starting in XGBoost 1.3.0, the default evaluation metric used with the objective 'multi:softprob' was changed from 'merror' to 'mlogloss'. Explicitly set eval_metric if you'd like to restore the old behavior.\n",
      "[CV]  clf__min_child_weight=1, clf__max_depth=15, clf__learning_rate=0.2, clf__gamma=0.3, clf__colsample_bytree=0.3, total=  20.2s\n",
      "[CV] clf__min_child_weight=1, clf__max_depth=15, clf__learning_rate=0.2, clf__gamma=0.3, clf__colsample_bytree=0.3 \n",
      "[10:39:55] WARNING: C:/Users/Administrator/workspace/xgboost-win64_release_1.3.0/src/learner.cc:1061: Starting in XGBoost 1.3.0, the default evaluation metric used with the objective 'multi:softprob' was changed from 'merror' to 'mlogloss'. Explicitly set eval_metric if you'd like to restore the old behavior.\n",
      "[CV]  clf__min_child_weight=1, clf__max_depth=15, clf__learning_rate=0.2, clf__gamma=0.3, clf__colsample_bytree=0.3, total=  22.5s\n",
      "[CV] clf__min_child_weight=1, clf__max_depth=15, clf__learning_rate=0.2, clf__gamma=0.3, clf__colsample_bytree=0.3 \n",
      "[10:40:17] WARNING: C:/Users/Administrator/workspace/xgboost-win64_release_1.3.0/src/learner.cc:1061: Starting in XGBoost 1.3.0, the default evaluation metric used with the objective 'multi:softprob' was changed from 'merror' to 'mlogloss'. Explicitly set eval_metric if you'd like to restore the old behavior.\n",
      "[CV]  clf__min_child_weight=1, clf__max_depth=15, clf__learning_rate=0.2, clf__gamma=0.3, clf__colsample_bytree=0.3, total=  16.1s\n",
      "[CV] clf__min_child_weight=1, clf__max_depth=15, clf__learning_rate=0.2, clf__gamma=0.3, clf__colsample_bytree=0.3 \n",
      "[10:40:33] WARNING: C:/Users/Administrator/workspace/xgboost-win64_release_1.3.0/src/learner.cc:1061: Starting in XGBoost 1.3.0, the default evaluation metric used with the objective 'multi:softprob' was changed from 'merror' to 'mlogloss'. Explicitly set eval_metric if you'd like to restore the old behavior.\n",
      "[CV]  clf__min_child_weight=1, clf__max_depth=15, clf__learning_rate=0.2, clf__gamma=0.3, clf__colsample_bytree=0.3, total=  15.6s\n",
      "[CV] clf__min_child_weight=1, clf__max_depth=15, clf__learning_rate=0.2, clf__gamma=0.3, clf__colsample_bytree=0.3 \n",
      "[10:40:49] WARNING: C:/Users/Administrator/workspace/xgboost-win64_release_1.3.0/src/learner.cc:1061: Starting in XGBoost 1.3.0, the default evaluation metric used with the objective 'multi:softprob' was changed from 'merror' to 'mlogloss'. Explicitly set eval_metric if you'd like to restore the old behavior.\n",
      "[CV]  clf__min_child_weight=1, clf__max_depth=15, clf__learning_rate=0.2, clf__gamma=0.3, clf__colsample_bytree=0.3, total=  17.9s\n",
      "[CV] clf__min_child_weight=5, clf__max_depth=10, clf__learning_rate=0.1, clf__gamma=0.1, clf__colsample_bytree=0.7 \n",
      "[10:41:07] WARNING: C:/Users/Administrator/workspace/xgboost-win64_release_1.3.0/src/learner.cc:1061: Starting in XGBoost 1.3.0, the default evaluation metric used with the objective 'multi:softprob' was changed from 'merror' to 'mlogloss'. Explicitly set eval_metric if you'd like to restore the old behavior.\n",
      "[CV]  clf__min_child_weight=5, clf__max_depth=10, clf__learning_rate=0.1, clf__gamma=0.1, clf__colsample_bytree=0.7, total=  19.2s\n",
      "[CV] clf__min_child_weight=5, clf__max_depth=10, clf__learning_rate=0.1, clf__gamma=0.1, clf__colsample_bytree=0.7 \n",
      "[10:41:27] WARNING: C:/Users/Administrator/workspace/xgboost-win64_release_1.3.0/src/learner.cc:1061: Starting in XGBoost 1.3.0, the default evaluation metric used with the objective 'multi:softprob' was changed from 'merror' to 'mlogloss'. Explicitly set eval_metric if you'd like to restore the old behavior.\n",
      "[CV]  clf__min_child_weight=5, clf__max_depth=10, clf__learning_rate=0.1, clf__gamma=0.1, clf__colsample_bytree=0.7, total=  19.5s\n",
      "[CV] clf__min_child_weight=5, clf__max_depth=10, clf__learning_rate=0.1, clf__gamma=0.1, clf__colsample_bytree=0.7 \n",
      "[10:41:46] WARNING: C:/Users/Administrator/workspace/xgboost-win64_release_1.3.0/src/learner.cc:1061: Starting in XGBoost 1.3.0, the default evaluation metric used with the objective 'multi:softprob' was changed from 'merror' to 'mlogloss'. Explicitly set eval_metric if you'd like to restore the old behavior.\n",
      "[CV]  clf__min_child_weight=5, clf__max_depth=10, clf__learning_rate=0.1, clf__gamma=0.1, clf__colsample_bytree=0.7, total=  18.7s\n",
      "[CV] clf__min_child_weight=5, clf__max_depth=10, clf__learning_rate=0.1, clf__gamma=0.1, clf__colsample_bytree=0.7 \n",
      "[10:42:04] WARNING: C:/Users/Administrator/workspace/xgboost-win64_release_1.3.0/src/learner.cc:1061: Starting in XGBoost 1.3.0, the default evaluation metric used with the objective 'multi:softprob' was changed from 'merror' to 'mlogloss'. Explicitly set eval_metric if you'd like to restore the old behavior.\n",
      "[CV]  clf__min_child_weight=5, clf__max_depth=10, clf__learning_rate=0.1, clf__gamma=0.1, clf__colsample_bytree=0.7, total=  17.6s\n",
      "[CV] clf__min_child_weight=5, clf__max_depth=10, clf__learning_rate=0.1, clf__gamma=0.1, clf__colsample_bytree=0.7 \n",
      "[10:42:22] WARNING: C:/Users/Administrator/workspace/xgboost-win64_release_1.3.0/src/learner.cc:1061: Starting in XGBoost 1.3.0, the default evaluation metric used with the objective 'multi:softprob' was changed from 'merror' to 'mlogloss'. Explicitly set eval_metric if you'd like to restore the old behavior.\n",
      "[CV]  clf__min_child_weight=5, clf__max_depth=10, clf__learning_rate=0.1, clf__gamma=0.1, clf__colsample_bytree=0.7, total=  19.2s\n",
      "[CV] clf__min_child_weight=1, clf__max_depth=6, clf__learning_rate=0.25, clf__gamma=0.4, clf__colsample_bytree=0.4 \n",
      "[10:42:42] WARNING: C:/Users/Administrator/workspace/xgboost-win64_release_1.3.0/src/learner.cc:1061: Starting in XGBoost 1.3.0, the default evaluation metric used with the objective 'multi:softprob' was changed from 'merror' to 'mlogloss'. Explicitly set eval_metric if you'd like to restore the old behavior.\n",
      "[CV]  clf__min_child_weight=1, clf__max_depth=6, clf__learning_rate=0.25, clf__gamma=0.4, clf__colsample_bytree=0.4, total=  13.7s\n",
      "[CV] clf__min_child_weight=1, clf__max_depth=6, clf__learning_rate=0.25, clf__gamma=0.4, clf__colsample_bytree=0.4 \n"
     ]
    },
    {
     "name": "stdout",
     "output_type": "stream",
     "text": [
      "[10:42:55] WARNING: C:/Users/Administrator/workspace/xgboost-win64_release_1.3.0/src/learner.cc:1061: Starting in XGBoost 1.3.0, the default evaluation metric used with the objective 'multi:softprob' was changed from 'merror' to 'mlogloss'. Explicitly set eval_metric if you'd like to restore the old behavior.\n",
      "[CV]  clf__min_child_weight=1, clf__max_depth=6, clf__learning_rate=0.25, clf__gamma=0.4, clf__colsample_bytree=0.4, total=  11.0s\n",
      "[CV] clf__min_child_weight=1, clf__max_depth=6, clf__learning_rate=0.25, clf__gamma=0.4, clf__colsample_bytree=0.4 \n",
      "[10:43:06] WARNING: C:/Users/Administrator/workspace/xgboost-win64_release_1.3.0/src/learner.cc:1061: Starting in XGBoost 1.3.0, the default evaluation metric used with the objective 'multi:softprob' was changed from 'merror' to 'mlogloss'. Explicitly set eval_metric if you'd like to restore the old behavior.\n",
      "[CV]  clf__min_child_weight=1, clf__max_depth=6, clf__learning_rate=0.25, clf__gamma=0.4, clf__colsample_bytree=0.4, total=  13.0s\n",
      "[CV] clf__min_child_weight=1, clf__max_depth=6, clf__learning_rate=0.25, clf__gamma=0.4, clf__colsample_bytree=0.4 \n",
      "[10:43:19] WARNING: C:/Users/Administrator/workspace/xgboost-win64_release_1.3.0/src/learner.cc:1061: Starting in XGBoost 1.3.0, the default evaluation metric used with the objective 'multi:softprob' was changed from 'merror' to 'mlogloss'. Explicitly set eval_metric if you'd like to restore the old behavior.\n",
      "[CV]  clf__min_child_weight=1, clf__max_depth=6, clf__learning_rate=0.25, clf__gamma=0.4, clf__colsample_bytree=0.4, total=  11.4s\n",
      "[CV] clf__min_child_weight=1, clf__max_depth=6, clf__learning_rate=0.25, clf__gamma=0.4, clf__colsample_bytree=0.4 \n",
      "[10:43:30] WARNING: C:/Users/Administrator/workspace/xgboost-win64_release_1.3.0/src/learner.cc:1061: Starting in XGBoost 1.3.0, the default evaluation metric used with the objective 'multi:softprob' was changed from 'merror' to 'mlogloss'. Explicitly set eval_metric if you'd like to restore the old behavior.\n",
      "[CV]  clf__min_child_weight=1, clf__max_depth=6, clf__learning_rate=0.25, clf__gamma=0.4, clf__colsample_bytree=0.4, total=  15.9s\n",
      "[CV] clf__min_child_weight=3, clf__max_depth=10, clf__learning_rate=0.2, clf__gamma=0.4, clf__colsample_bytree=0.7 \n",
      "[10:43:47] WARNING: C:/Users/Administrator/workspace/xgboost-win64_release_1.3.0/src/learner.cc:1061: Starting in XGBoost 1.3.0, the default evaluation metric used with the objective 'multi:softprob' was changed from 'merror' to 'mlogloss'. Explicitly set eval_metric if you'd like to restore the old behavior.\n",
      "[CV]  clf__min_child_weight=3, clf__max_depth=10, clf__learning_rate=0.2, clf__gamma=0.4, clf__colsample_bytree=0.7, total=  21.9s\n",
      "[CV] clf__min_child_weight=3, clf__max_depth=10, clf__learning_rate=0.2, clf__gamma=0.4, clf__colsample_bytree=0.7 \n",
      "[10:44:08] WARNING: C:/Users/Administrator/workspace/xgboost-win64_release_1.3.0/src/learner.cc:1061: Starting in XGBoost 1.3.0, the default evaluation metric used with the objective 'multi:softprob' was changed from 'merror' to 'mlogloss'. Explicitly set eval_metric if you'd like to restore the old behavior.\n",
      "[CV]  clf__min_child_weight=3, clf__max_depth=10, clf__learning_rate=0.2, clf__gamma=0.4, clf__colsample_bytree=0.7, total=  22.4s\n",
      "[CV] clf__min_child_weight=3, clf__max_depth=10, clf__learning_rate=0.2, clf__gamma=0.4, clf__colsample_bytree=0.7 \n",
      "[10:44:31] WARNING: C:/Users/Administrator/workspace/xgboost-win64_release_1.3.0/src/learner.cc:1061: Starting in XGBoost 1.3.0, the default evaluation metric used with the objective 'multi:softprob' was changed from 'merror' to 'mlogloss'. Explicitly set eval_metric if you'd like to restore the old behavior.\n",
      "[CV]  clf__min_child_weight=3, clf__max_depth=10, clf__learning_rate=0.2, clf__gamma=0.4, clf__colsample_bytree=0.7, total=  21.8s\n",
      "[CV] clf__min_child_weight=3, clf__max_depth=10, clf__learning_rate=0.2, clf__gamma=0.4, clf__colsample_bytree=0.7 \n",
      "[10:44:52] WARNING: C:/Users/Administrator/workspace/xgboost-win64_release_1.3.0/src/learner.cc:1061: Starting in XGBoost 1.3.0, the default evaluation metric used with the objective 'multi:softprob' was changed from 'merror' to 'mlogloss'. Explicitly set eval_metric if you'd like to restore the old behavior.\n",
      "[CV]  clf__min_child_weight=3, clf__max_depth=10, clf__learning_rate=0.2, clf__gamma=0.4, clf__colsample_bytree=0.7, total=  25.8s\n",
      "[CV] clf__min_child_weight=3, clf__max_depth=10, clf__learning_rate=0.2, clf__gamma=0.4, clf__colsample_bytree=0.7 \n",
      "[10:45:18] WARNING: C:/Users/Administrator/workspace/xgboost-win64_release_1.3.0/src/learner.cc:1061: Starting in XGBoost 1.3.0, the default evaluation metric used with the objective 'multi:softprob' was changed from 'merror' to 'mlogloss'. Explicitly set eval_metric if you'd like to restore the old behavior.\n",
      "[CV]  clf__min_child_weight=3, clf__max_depth=10, clf__learning_rate=0.2, clf__gamma=0.4, clf__colsample_bytree=0.7, total=  20.3s\n",
      "[CV] clf__min_child_weight=1, clf__max_depth=5, clf__learning_rate=0.15, clf__gamma=0.2, clf__colsample_bytree=0.5 \n",
      "[10:45:39] WARNING: C:/Users/Administrator/workspace/xgboost-win64_release_1.3.0/src/learner.cc:1061: Starting in XGBoost 1.3.0, the default evaluation metric used with the objective 'multi:softprob' was changed from 'merror' to 'mlogloss'. Explicitly set eval_metric if you'd like to restore the old behavior.\n",
      "[CV]  clf__min_child_weight=1, clf__max_depth=5, clf__learning_rate=0.15, clf__gamma=0.2, clf__colsample_bytree=0.5, total=  14.3s\n",
      "[CV] clf__min_child_weight=1, clf__max_depth=5, clf__learning_rate=0.15, clf__gamma=0.2, clf__colsample_bytree=0.5 \n",
      "[10:45:53] WARNING: C:/Users/Administrator/workspace/xgboost-win64_release_1.3.0/src/learner.cc:1061: Starting in XGBoost 1.3.0, the default evaluation metric used with the objective 'multi:softprob' was changed from 'merror' to 'mlogloss'. Explicitly set eval_metric if you'd like to restore the old behavior.\n",
      "[CV]  clf__min_child_weight=1, clf__max_depth=5, clf__learning_rate=0.15, clf__gamma=0.2, clf__colsample_bytree=0.5, total=  15.0s\n",
      "[CV] clf__min_child_weight=1, clf__max_depth=5, clf__learning_rate=0.15, clf__gamma=0.2, clf__colsample_bytree=0.5 \n",
      "[10:46:07] WARNING: C:/Users/Administrator/workspace/xgboost-win64_release_1.3.0/src/learner.cc:1061: Starting in XGBoost 1.3.0, the default evaluation metric used with the objective 'multi:softprob' was changed from 'merror' to 'mlogloss'. Explicitly set eval_metric if you'd like to restore the old behavior.\n",
      "[CV]  clf__min_child_weight=1, clf__max_depth=5, clf__learning_rate=0.15, clf__gamma=0.2, clf__colsample_bytree=0.5, total=  13.9s\n",
      "[CV] clf__min_child_weight=1, clf__max_depth=5, clf__learning_rate=0.15, clf__gamma=0.2, clf__colsample_bytree=0.5 \n",
      "[10:46:22] WARNING: C:/Users/Administrator/workspace/xgboost-win64_release_1.3.0/src/learner.cc:1061: Starting in XGBoost 1.3.0, the default evaluation metric used with the objective 'multi:softprob' was changed from 'merror' to 'mlogloss'. Explicitly set eval_metric if you'd like to restore the old behavior.\n",
      "[CV]  clf__min_child_weight=1, clf__max_depth=5, clf__learning_rate=0.15, clf__gamma=0.2, clf__colsample_bytree=0.5, total=  14.3s\n",
      "[CV] clf__min_child_weight=1, clf__max_depth=5, clf__learning_rate=0.15, clf__gamma=0.2, clf__colsample_bytree=0.5 \n",
      "[10:46:36] WARNING: C:/Users/Administrator/workspace/xgboost-win64_release_1.3.0/src/learner.cc:1061: Starting in XGBoost 1.3.0, the default evaluation metric used with the objective 'multi:softprob' was changed from 'merror' to 'mlogloss'. Explicitly set eval_metric if you'd like to restore the old behavior.\n",
      "[CV]  clf__min_child_weight=1, clf__max_depth=5, clf__learning_rate=0.15, clf__gamma=0.2, clf__colsample_bytree=0.5, total=  12.0s\n",
      "[CV] clf__min_child_weight=5, clf__max_depth=10, clf__learning_rate=0.15, clf__gamma=0.3, clf__colsample_bytree=0.3 \n",
      "[10:46:48] WARNING: C:/Users/Administrator/workspace/xgboost-win64_release_1.3.0/src/learner.cc:1061: Starting in XGBoost 1.3.0, the default evaluation metric used with the objective 'multi:softprob' was changed from 'merror' to 'mlogloss'. Explicitly set eval_metric if you'd like to restore the old behavior.\n",
      "[CV]  clf__min_child_weight=5, clf__max_depth=10, clf__learning_rate=0.15, clf__gamma=0.3, clf__colsample_bytree=0.3, total=  12.0s\n",
      "[CV] clf__min_child_weight=5, clf__max_depth=10, clf__learning_rate=0.15, clf__gamma=0.3, clf__colsample_bytree=0.3 \n"
     ]
    },
    {
     "name": "stdout",
     "output_type": "stream",
     "text": [
      "[10:47:00] WARNING: C:/Users/Administrator/workspace/xgboost-win64_release_1.3.0/src/learner.cc:1061: Starting in XGBoost 1.3.0, the default evaluation metric used with the objective 'multi:softprob' was changed from 'merror' to 'mlogloss'. Explicitly set eval_metric if you'd like to restore the old behavior.\n",
      "[CV]  clf__min_child_weight=5, clf__max_depth=10, clf__learning_rate=0.15, clf__gamma=0.3, clf__colsample_bytree=0.3, total=   9.7s\n",
      "[CV] clf__min_child_weight=5, clf__max_depth=10, clf__learning_rate=0.15, clf__gamma=0.3, clf__colsample_bytree=0.3 \n",
      "[10:47:10] WARNING: C:/Users/Administrator/workspace/xgboost-win64_release_1.3.0/src/learner.cc:1061: Starting in XGBoost 1.3.0, the default evaluation metric used with the objective 'multi:softprob' was changed from 'merror' to 'mlogloss'. Explicitly set eval_metric if you'd like to restore the old behavior.\n",
      "[CV]  clf__min_child_weight=5, clf__max_depth=10, clf__learning_rate=0.15, clf__gamma=0.3, clf__colsample_bytree=0.3, total=  11.7s\n",
      "[CV] clf__min_child_weight=5, clf__max_depth=10, clf__learning_rate=0.15, clf__gamma=0.3, clf__colsample_bytree=0.3 \n",
      "[10:47:22] WARNING: C:/Users/Administrator/workspace/xgboost-win64_release_1.3.0/src/learner.cc:1061: Starting in XGBoost 1.3.0, the default evaluation metric used with the objective 'multi:softprob' was changed from 'merror' to 'mlogloss'. Explicitly set eval_metric if you'd like to restore the old behavior.\n",
      "[CV]  clf__min_child_weight=5, clf__max_depth=10, clf__learning_rate=0.15, clf__gamma=0.3, clf__colsample_bytree=0.3, total=  11.1s\n",
      "[CV] clf__min_child_weight=5, clf__max_depth=10, clf__learning_rate=0.15, clf__gamma=0.3, clf__colsample_bytree=0.3 \n",
      "[10:47:32] WARNING: C:/Users/Administrator/workspace/xgboost-win64_release_1.3.0/src/learner.cc:1061: Starting in XGBoost 1.3.0, the default evaluation metric used with the objective 'multi:softprob' was changed from 'merror' to 'mlogloss'. Explicitly set eval_metric if you'd like to restore the old behavior.\n",
      "[CV]  clf__min_child_weight=5, clf__max_depth=10, clf__learning_rate=0.15, clf__gamma=0.3, clf__colsample_bytree=0.3, total=   8.9s\n",
      "[CV] clf__min_child_weight=1, clf__max_depth=12, clf__learning_rate=0.3, clf__gamma=0.0, clf__colsample_bytree=0.3 \n",
      "[10:47:42] WARNING: C:/Users/Administrator/workspace/xgboost-win64_release_1.3.0/src/learner.cc:1061: Starting in XGBoost 1.3.0, the default evaluation metric used with the objective 'multi:softprob' was changed from 'merror' to 'mlogloss'. Explicitly set eval_metric if you'd like to restore the old behavior.\n",
      "[CV]  clf__min_child_weight=1, clf__max_depth=12, clf__learning_rate=0.3, clf__gamma=0.0, clf__colsample_bytree=0.3, total=  14.9s\n",
      "[CV] clf__min_child_weight=1, clf__max_depth=12, clf__learning_rate=0.3, clf__gamma=0.0, clf__colsample_bytree=0.3 \n",
      "[10:47:56] WARNING: C:/Users/Administrator/workspace/xgboost-win64_release_1.3.0/src/learner.cc:1061: Starting in XGBoost 1.3.0, the default evaluation metric used with the objective 'multi:softprob' was changed from 'merror' to 'mlogloss'. Explicitly set eval_metric if you'd like to restore the old behavior.\n",
      "[CV]  clf__min_child_weight=1, clf__max_depth=12, clf__learning_rate=0.3, clf__gamma=0.0, clf__colsample_bytree=0.3, total=  12.6s\n",
      "[CV] clf__min_child_weight=1, clf__max_depth=12, clf__learning_rate=0.3, clf__gamma=0.0, clf__colsample_bytree=0.3 \n",
      "[10:48:09] WARNING: C:/Users/Administrator/workspace/xgboost-win64_release_1.3.0/src/learner.cc:1061: Starting in XGBoost 1.3.0, the default evaluation metric used with the objective 'multi:softprob' was changed from 'merror' to 'mlogloss'. Explicitly set eval_metric if you'd like to restore the old behavior.\n",
      "[CV]  clf__min_child_weight=1, clf__max_depth=12, clf__learning_rate=0.3, clf__gamma=0.0, clf__colsample_bytree=0.3, total=  15.5s\n",
      "[CV] clf__min_child_weight=1, clf__max_depth=12, clf__learning_rate=0.3, clf__gamma=0.0, clf__colsample_bytree=0.3 \n",
      "[10:48:24] WARNING: C:/Users/Administrator/workspace/xgboost-win64_release_1.3.0/src/learner.cc:1061: Starting in XGBoost 1.3.0, the default evaluation metric used with the objective 'multi:softprob' was changed from 'merror' to 'mlogloss'. Explicitly set eval_metric if you'd like to restore the old behavior.\n",
      "[CV]  clf__min_child_weight=1, clf__max_depth=12, clf__learning_rate=0.3, clf__gamma=0.0, clf__colsample_bytree=0.3, total=  13.4s\n",
      "[CV] clf__min_child_weight=1, clf__max_depth=12, clf__learning_rate=0.3, clf__gamma=0.0, clf__colsample_bytree=0.3 \n",
      "[10:48:38] WARNING: C:/Users/Administrator/workspace/xgboost-win64_release_1.3.0/src/learner.cc:1061: Starting in XGBoost 1.3.0, the default evaluation metric used with the objective 'multi:softprob' was changed from 'merror' to 'mlogloss'. Explicitly set eval_metric if you'd like to restore the old behavior.\n",
      "[CV]  clf__min_child_weight=1, clf__max_depth=12, clf__learning_rate=0.3, clf__gamma=0.0, clf__colsample_bytree=0.3, total=  15.3s\n",
      "[CV] clf__min_child_weight=3, clf__max_depth=4, clf__learning_rate=0.2, clf__gamma=0.2, clf__colsample_bytree=0.7 \n",
      "[10:48:53] WARNING: C:/Users/Administrator/workspace/xgboost-win64_release_1.3.0/src/learner.cc:1061: Starting in XGBoost 1.3.0, the default evaluation metric used with the objective 'multi:softprob' was changed from 'merror' to 'mlogloss'. Explicitly set eval_metric if you'd like to restore the old behavior.\n",
      "[CV]  clf__min_child_weight=3, clf__max_depth=4, clf__learning_rate=0.2, clf__gamma=0.2, clf__colsample_bytree=0.7, total=  13.2s\n",
      "[CV] clf__min_child_weight=3, clf__max_depth=4, clf__learning_rate=0.2, clf__gamma=0.2, clf__colsample_bytree=0.7 \n",
      "[10:49:07] WARNING: C:/Users/Administrator/workspace/xgboost-win64_release_1.3.0/src/learner.cc:1061: Starting in XGBoost 1.3.0, the default evaluation metric used with the objective 'multi:softprob' was changed from 'merror' to 'mlogloss'. Explicitly set eval_metric if you'd like to restore the old behavior.\n",
      "[CV]  clf__min_child_weight=3, clf__max_depth=4, clf__learning_rate=0.2, clf__gamma=0.2, clf__colsample_bytree=0.7, total=  13.1s\n",
      "[CV] clf__min_child_weight=3, clf__max_depth=4, clf__learning_rate=0.2, clf__gamma=0.2, clf__colsample_bytree=0.7 \n",
      "[10:49:20] WARNING: C:/Users/Administrator/workspace/xgboost-win64_release_1.3.0/src/learner.cc:1061: Starting in XGBoost 1.3.0, the default evaluation metric used with the objective 'multi:softprob' was changed from 'merror' to 'mlogloss'. Explicitly set eval_metric if you'd like to restore the old behavior.\n",
      "[CV]  clf__min_child_weight=3, clf__max_depth=4, clf__learning_rate=0.2, clf__gamma=0.2, clf__colsample_bytree=0.7, total=  17.2s\n",
      "[CV] clf__min_child_weight=3, clf__max_depth=4, clf__learning_rate=0.2, clf__gamma=0.2, clf__colsample_bytree=0.7 \n",
      "[10:49:37] WARNING: C:/Users/Administrator/workspace/xgboost-win64_release_1.3.0/src/learner.cc:1061: Starting in XGBoost 1.3.0, the default evaluation metric used with the objective 'multi:softprob' was changed from 'merror' to 'mlogloss'. Explicitly set eval_metric if you'd like to restore the old behavior.\n",
      "[CV]  clf__min_child_weight=3, clf__max_depth=4, clf__learning_rate=0.2, clf__gamma=0.2, clf__colsample_bytree=0.7, total=  13.9s\n",
      "[CV] clf__min_child_weight=3, clf__max_depth=4, clf__learning_rate=0.2, clf__gamma=0.2, clf__colsample_bytree=0.7 \n",
      "[10:49:51] WARNING: C:/Users/Administrator/workspace/xgboost-win64_release_1.3.0/src/learner.cc:1061: Starting in XGBoost 1.3.0, the default evaluation metric used with the objective 'multi:softprob' was changed from 'merror' to 'mlogloss'. Explicitly set eval_metric if you'd like to restore the old behavior.\n",
      "[CV]  clf__min_child_weight=3, clf__max_depth=4, clf__learning_rate=0.2, clf__gamma=0.2, clf__colsample_bytree=0.7, total=  14.4s\n",
      "[CV] clf__min_child_weight=1, clf__max_depth=3, clf__learning_rate=0.2, clf__gamma=0.0, clf__colsample_bytree=0.5 \n",
      "[10:50:05] WARNING: C:/Users/Administrator/workspace/xgboost-win64_release_1.3.0/src/learner.cc:1061: Starting in XGBoost 1.3.0, the default evaluation metric used with the objective 'multi:softprob' was changed from 'merror' to 'mlogloss'. Explicitly set eval_metric if you'd like to restore the old behavior.\n",
      "[CV]  clf__min_child_weight=1, clf__max_depth=3, clf__learning_rate=0.2, clf__gamma=0.0, clf__colsample_bytree=0.5, total=  11.6s\n",
      "[CV] clf__min_child_weight=1, clf__max_depth=3, clf__learning_rate=0.2, clf__gamma=0.0, clf__colsample_bytree=0.5 \n"
     ]
    },
    {
     "name": "stdout",
     "output_type": "stream",
     "text": [
      "[10:50:17] WARNING: C:/Users/Administrator/workspace/xgboost-win64_release_1.3.0/src/learner.cc:1061: Starting in XGBoost 1.3.0, the default evaluation metric used with the objective 'multi:softprob' was changed from 'merror' to 'mlogloss'. Explicitly set eval_metric if you'd like to restore the old behavior.\n",
      "[CV]  clf__min_child_weight=1, clf__max_depth=3, clf__learning_rate=0.2, clf__gamma=0.0, clf__colsample_bytree=0.5, total=   9.0s\n",
      "[CV] clf__min_child_weight=1, clf__max_depth=3, clf__learning_rate=0.2, clf__gamma=0.0, clf__colsample_bytree=0.5 \n",
      "[10:50:26] WARNING: C:/Users/Administrator/workspace/xgboost-win64_release_1.3.0/src/learner.cc:1061: Starting in XGBoost 1.3.0, the default evaluation metric used with the objective 'multi:softprob' was changed from 'merror' to 'mlogloss'. Explicitly set eval_metric if you'd like to restore the old behavior.\n",
      "[CV]  clf__min_child_weight=1, clf__max_depth=3, clf__learning_rate=0.2, clf__gamma=0.0, clf__colsample_bytree=0.5, total=  10.7s\n",
      "[CV] clf__min_child_weight=1, clf__max_depth=3, clf__learning_rate=0.2, clf__gamma=0.0, clf__colsample_bytree=0.5 \n",
      "[10:50:37] WARNING: C:/Users/Administrator/workspace/xgboost-win64_release_1.3.0/src/learner.cc:1061: Starting in XGBoost 1.3.0, the default evaluation metric used with the objective 'multi:softprob' was changed from 'merror' to 'mlogloss'. Explicitly set eval_metric if you'd like to restore the old behavior.\n",
      "[CV]  clf__min_child_weight=1, clf__max_depth=3, clf__learning_rate=0.2, clf__gamma=0.0, clf__colsample_bytree=0.5, total=  11.1s\n",
      "[CV] clf__min_child_weight=1, clf__max_depth=3, clf__learning_rate=0.2, clf__gamma=0.0, clf__colsample_bytree=0.5 \n",
      "[10:50:48] WARNING: C:/Users/Administrator/workspace/xgboost-win64_release_1.3.0/src/learner.cc:1061: Starting in XGBoost 1.3.0, the default evaluation metric used with the objective 'multi:softprob' was changed from 'merror' to 'mlogloss'. Explicitly set eval_metric if you'd like to restore the old behavior.\n",
      "[CV]  clf__min_child_weight=1, clf__max_depth=3, clf__learning_rate=0.2, clf__gamma=0.0, clf__colsample_bytree=0.5, total=  11.0s\n",
      "[CV] clf__min_child_weight=5, clf__max_depth=6, clf__learning_rate=0.1, clf__gamma=0.4, clf__colsample_bytree=0.3 \n",
      "[10:50:58] WARNING: C:/Users/Administrator/workspace/xgboost-win64_release_1.3.0/src/learner.cc:1061: Starting in XGBoost 1.3.0, the default evaluation metric used with the objective 'multi:softprob' was changed from 'merror' to 'mlogloss'. Explicitly set eval_metric if you'd like to restore the old behavior.\n",
      "[CV]  clf__min_child_weight=5, clf__max_depth=6, clf__learning_rate=0.1, clf__gamma=0.4, clf__colsample_bytree=0.3, total=   8.0s\n",
      "[CV] clf__min_child_weight=5, clf__max_depth=6, clf__learning_rate=0.1, clf__gamma=0.4, clf__colsample_bytree=0.3 \n",
      "[10:51:07] WARNING: C:/Users/Administrator/workspace/xgboost-win64_release_1.3.0/src/learner.cc:1061: Starting in XGBoost 1.3.0, the default evaluation metric used with the objective 'multi:softprob' was changed from 'merror' to 'mlogloss'. Explicitly set eval_metric if you'd like to restore the old behavior.\n",
      "[CV]  clf__min_child_weight=5, clf__max_depth=6, clf__learning_rate=0.1, clf__gamma=0.4, clf__colsample_bytree=0.3, total=   9.5s\n",
      "[CV] clf__min_child_weight=5, clf__max_depth=6, clf__learning_rate=0.1, clf__gamma=0.4, clf__colsample_bytree=0.3 \n",
      "[10:51:16] WARNING: C:/Users/Administrator/workspace/xgboost-win64_release_1.3.0/src/learner.cc:1061: Starting in XGBoost 1.3.0, the default evaluation metric used with the objective 'multi:softprob' was changed from 'merror' to 'mlogloss'. Explicitly set eval_metric if you'd like to restore the old behavior.\n",
      "[CV]  clf__min_child_weight=5, clf__max_depth=6, clf__learning_rate=0.1, clf__gamma=0.4, clf__colsample_bytree=0.3, total=   8.2s\n",
      "[CV] clf__min_child_weight=5, clf__max_depth=6, clf__learning_rate=0.1, clf__gamma=0.4, clf__colsample_bytree=0.3 \n",
      "[10:51:24] WARNING: C:/Users/Administrator/workspace/xgboost-win64_release_1.3.0/src/learner.cc:1061: Starting in XGBoost 1.3.0, the default evaluation metric used with the objective 'multi:softprob' was changed from 'merror' to 'mlogloss'. Explicitly set eval_metric if you'd like to restore the old behavior.\n",
      "[CV]  clf__min_child_weight=5, clf__max_depth=6, clf__learning_rate=0.1, clf__gamma=0.4, clf__colsample_bytree=0.3, total=   9.4s\n",
      "[CV] clf__min_child_weight=5, clf__max_depth=6, clf__learning_rate=0.1, clf__gamma=0.4, clf__colsample_bytree=0.3 \n",
      "[10:51:34] WARNING: C:/Users/Administrator/workspace/xgboost-win64_release_1.3.0/src/learner.cc:1061: Starting in XGBoost 1.3.0, the default evaluation metric used with the objective 'multi:softprob' was changed from 'merror' to 'mlogloss'. Explicitly set eval_metric if you'd like to restore the old behavior.\n",
      "[CV]  clf__min_child_weight=5, clf__max_depth=6, clf__learning_rate=0.1, clf__gamma=0.4, clf__colsample_bytree=0.3, total=   9.4s\n",
      "[CV] clf__min_child_weight=7, clf__max_depth=4, clf__learning_rate=0.15, clf__gamma=0.2, clf__colsample_bytree=0.5 \n",
      "[10:51:43] WARNING: C:/Users/Administrator/workspace/xgboost-win64_release_1.3.0/src/learner.cc:1061: Starting in XGBoost 1.3.0, the default evaluation metric used with the objective 'multi:softprob' was changed from 'merror' to 'mlogloss'. Explicitly set eval_metric if you'd like to restore the old behavior.\n",
      "[CV]  clf__min_child_weight=7, clf__max_depth=4, clf__learning_rate=0.15, clf__gamma=0.2, clf__colsample_bytree=0.5, total=   8.0s\n",
      "[CV] clf__min_child_weight=7, clf__max_depth=4, clf__learning_rate=0.15, clf__gamma=0.2, clf__colsample_bytree=0.5 \n",
      "[10:51:51] WARNING: C:/Users/Administrator/workspace/xgboost-win64_release_1.3.0/src/learner.cc:1061: Starting in XGBoost 1.3.0, the default evaluation metric used with the objective 'multi:softprob' was changed from 'merror' to 'mlogloss'. Explicitly set eval_metric if you'd like to restore the old behavior.\n",
      "[CV]  clf__min_child_weight=7, clf__max_depth=4, clf__learning_rate=0.15, clf__gamma=0.2, clf__colsample_bytree=0.5, total=   9.0s\n",
      "[CV] clf__min_child_weight=7, clf__max_depth=4, clf__learning_rate=0.15, clf__gamma=0.2, clf__colsample_bytree=0.5 \n",
      "[10:52:00] WARNING: C:/Users/Administrator/workspace/xgboost-win64_release_1.3.0/src/learner.cc:1061: Starting in XGBoost 1.3.0, the default evaluation metric used with the objective 'multi:softprob' was changed from 'merror' to 'mlogloss'. Explicitly set eval_metric if you'd like to restore the old behavior.\n",
      "[CV]  clf__min_child_weight=7, clf__max_depth=4, clf__learning_rate=0.15, clf__gamma=0.2, clf__colsample_bytree=0.5, total=   9.0s\n",
      "[CV] clf__min_child_weight=7, clf__max_depth=4, clf__learning_rate=0.15, clf__gamma=0.2, clf__colsample_bytree=0.5 \n",
      "[10:52:09] WARNING: C:/Users/Administrator/workspace/xgboost-win64_release_1.3.0/src/learner.cc:1061: Starting in XGBoost 1.3.0, the default evaluation metric used with the objective 'multi:softprob' was changed from 'merror' to 'mlogloss'. Explicitly set eval_metric if you'd like to restore the old behavior.\n",
      "[CV]  clf__min_child_weight=7, clf__max_depth=4, clf__learning_rate=0.15, clf__gamma=0.2, clf__colsample_bytree=0.5, total=  10.1s\n",
      "[CV] clf__min_child_weight=7, clf__max_depth=4, clf__learning_rate=0.15, clf__gamma=0.2, clf__colsample_bytree=0.5 \n",
      "[10:52:19] WARNING: C:/Users/Administrator/workspace/xgboost-win64_release_1.3.0/src/learner.cc:1061: Starting in XGBoost 1.3.0, the default evaluation metric used with the objective 'multi:softprob' was changed from 'merror' to 'mlogloss'. Explicitly set eval_metric if you'd like to restore the old behavior.\n",
      "[CV]  clf__min_child_weight=7, clf__max_depth=4, clf__learning_rate=0.15, clf__gamma=0.2, clf__colsample_bytree=0.5, total=   8.2s\n",
      "[CV] clf__min_child_weight=3, clf__max_depth=5, clf__learning_rate=0.1, clf__gamma=0.4, clf__colsample_bytree=0.4 \n",
      "[10:52:27] WARNING: C:/Users/Administrator/workspace/xgboost-win64_release_1.3.0/src/learner.cc:1061: Starting in XGBoost 1.3.0, the default evaluation metric used with the objective 'multi:softprob' was changed from 'merror' to 'mlogloss'. Explicitly set eval_metric if you'd like to restore the old behavior.\n",
      "[CV]  clf__min_child_weight=3, clf__max_depth=5, clf__learning_rate=0.1, clf__gamma=0.4, clf__colsample_bytree=0.4, total=   9.4s\n",
      "[CV] clf__min_child_weight=3, clf__max_depth=5, clf__learning_rate=0.1, clf__gamma=0.4, clf__colsample_bytree=0.4 \n"
     ]
    },
    {
     "name": "stdout",
     "output_type": "stream",
     "text": [
      "[10:52:37] WARNING: C:/Users/Administrator/workspace/xgboost-win64_release_1.3.0/src/learner.cc:1061: Starting in XGBoost 1.3.0, the default evaluation metric used with the objective 'multi:softprob' was changed from 'merror' to 'mlogloss'. Explicitly set eval_metric if you'd like to restore the old behavior.\n",
      "[CV]  clf__min_child_weight=3, clf__max_depth=5, clf__learning_rate=0.1, clf__gamma=0.4, clf__colsample_bytree=0.4, total=  10.4s\n",
      "[CV] clf__min_child_weight=3, clf__max_depth=5, clf__learning_rate=0.1, clf__gamma=0.4, clf__colsample_bytree=0.4 \n",
      "[10:52:47] WARNING: C:/Users/Administrator/workspace/xgboost-win64_release_1.3.0/src/learner.cc:1061: Starting in XGBoost 1.3.0, the default evaluation metric used with the objective 'multi:softprob' was changed from 'merror' to 'mlogloss'. Explicitly set eval_metric if you'd like to restore the old behavior.\n",
      "[CV]  clf__min_child_weight=3, clf__max_depth=5, clf__learning_rate=0.1, clf__gamma=0.4, clf__colsample_bytree=0.4, total=   9.1s\n",
      "[CV] clf__min_child_weight=3, clf__max_depth=5, clf__learning_rate=0.1, clf__gamma=0.4, clf__colsample_bytree=0.4 \n",
      "[10:52:56] WARNING: C:/Users/Administrator/workspace/xgboost-win64_release_1.3.0/src/learner.cc:1061: Starting in XGBoost 1.3.0, the default evaluation metric used with the objective 'multi:softprob' was changed from 'merror' to 'mlogloss'. Explicitly set eval_metric if you'd like to restore the old behavior.\n",
      "[CV]  clf__min_child_weight=3, clf__max_depth=5, clf__learning_rate=0.1, clf__gamma=0.4, clf__colsample_bytree=0.4, total=  10.5s\n",
      "[CV] clf__min_child_weight=3, clf__max_depth=5, clf__learning_rate=0.1, clf__gamma=0.4, clf__colsample_bytree=0.4 \n",
      "[10:53:07] WARNING: C:/Users/Administrator/workspace/xgboost-win64_release_1.3.0/src/learner.cc:1061: Starting in XGBoost 1.3.0, the default evaluation metric used with the objective 'multi:softprob' was changed from 'merror' to 'mlogloss'. Explicitly set eval_metric if you'd like to restore the old behavior.\n",
      "[CV]  clf__min_child_weight=3, clf__max_depth=5, clf__learning_rate=0.1, clf__gamma=0.4, clf__colsample_bytree=0.4, total=   9.0s\n",
      "[CV] clf__min_child_weight=7, clf__max_depth=5, clf__learning_rate=0.3, clf__gamma=0.0, clf__colsample_bytree=0.5 \n",
      "[10:53:16] WARNING: C:/Users/Administrator/workspace/xgboost-win64_release_1.3.0/src/learner.cc:1061: Starting in XGBoost 1.3.0, the default evaluation metric used with the objective 'multi:softprob' was changed from 'merror' to 'mlogloss'. Explicitly set eval_metric if you'd like to restore the old behavior.\n",
      "[CV]  clf__min_child_weight=7, clf__max_depth=5, clf__learning_rate=0.3, clf__gamma=0.0, clf__colsample_bytree=0.5, total=  11.6s\n",
      "[CV] clf__min_child_weight=7, clf__max_depth=5, clf__learning_rate=0.3, clf__gamma=0.0, clf__colsample_bytree=0.5 \n",
      "[10:53:27] WARNING: C:/Users/Administrator/workspace/xgboost-win64_release_1.3.0/src/learner.cc:1061: Starting in XGBoost 1.3.0, the default evaluation metric used with the objective 'multi:softprob' was changed from 'merror' to 'mlogloss'. Explicitly set eval_metric if you'd like to restore the old behavior.\n",
      "[CV]  clf__min_child_weight=7, clf__max_depth=5, clf__learning_rate=0.3, clf__gamma=0.0, clf__colsample_bytree=0.5, total=  10.0s\n",
      "[CV] clf__min_child_weight=7, clf__max_depth=5, clf__learning_rate=0.3, clf__gamma=0.0, clf__colsample_bytree=0.5 \n",
      "[10:53:38] WARNING: C:/Users/Administrator/workspace/xgboost-win64_release_1.3.0/src/learner.cc:1061: Starting in XGBoost 1.3.0, the default evaluation metric used with the objective 'multi:softprob' was changed from 'merror' to 'mlogloss'. Explicitly set eval_metric if you'd like to restore the old behavior.\n",
      "[CV]  clf__min_child_weight=7, clf__max_depth=5, clf__learning_rate=0.3, clf__gamma=0.0, clf__colsample_bytree=0.5, total=  10.2s\n",
      "[CV] clf__min_child_weight=7, clf__max_depth=5, clf__learning_rate=0.3, clf__gamma=0.0, clf__colsample_bytree=0.5 \n",
      "[10:53:48] WARNING: C:/Users/Administrator/workspace/xgboost-win64_release_1.3.0/src/learner.cc:1061: Starting in XGBoost 1.3.0, the default evaluation metric used with the objective 'multi:softprob' was changed from 'merror' to 'mlogloss'. Explicitly set eval_metric if you'd like to restore the old behavior.\n",
      "[CV]  clf__min_child_weight=7, clf__max_depth=5, clf__learning_rate=0.3, clf__gamma=0.0, clf__colsample_bytree=0.5, total=  14.5s\n",
      "[CV] clf__min_child_weight=7, clf__max_depth=5, clf__learning_rate=0.3, clf__gamma=0.0, clf__colsample_bytree=0.5 \n",
      "[10:54:02] WARNING: C:/Users/Administrator/workspace/xgboost-win64_release_1.3.0/src/learner.cc:1061: Starting in XGBoost 1.3.0, the default evaluation metric used with the objective 'multi:softprob' was changed from 'merror' to 'mlogloss'. Explicitly set eval_metric if you'd like to restore the old behavior.\n",
      "[CV]  clf__min_child_weight=7, clf__max_depth=5, clf__learning_rate=0.3, clf__gamma=0.0, clf__colsample_bytree=0.5, total=  12.3s\n",
      "[CV] clf__min_child_weight=7, clf__max_depth=3, clf__learning_rate=0.15, clf__gamma=0.3, clf__colsample_bytree=0.4 \n",
      "[10:54:15] WARNING: C:/Users/Administrator/workspace/xgboost-win64_release_1.3.0/src/learner.cc:1061: Starting in XGBoost 1.3.0, the default evaluation metric used with the objective 'multi:softprob' was changed from 'merror' to 'mlogloss'. Explicitly set eval_metric if you'd like to restore the old behavior.\n",
      "[CV]  clf__min_child_weight=7, clf__max_depth=3, clf__learning_rate=0.15, clf__gamma=0.3, clf__colsample_bytree=0.4, total=   7.4s\n",
      "[CV] clf__min_child_weight=7, clf__max_depth=3, clf__learning_rate=0.15, clf__gamma=0.3, clf__colsample_bytree=0.4 \n",
      "[10:54:22] WARNING: C:/Users/Administrator/workspace/xgboost-win64_release_1.3.0/src/learner.cc:1061: Starting in XGBoost 1.3.0, the default evaluation metric used with the objective 'multi:softprob' was changed from 'merror' to 'mlogloss'. Explicitly set eval_metric if you'd like to restore the old behavior.\n",
      "[CV]  clf__min_child_weight=7, clf__max_depth=3, clf__learning_rate=0.15, clf__gamma=0.3, clf__colsample_bytree=0.4, total=   7.9s\n",
      "[CV] clf__min_child_weight=7, clf__max_depth=3, clf__learning_rate=0.15, clf__gamma=0.3, clf__colsample_bytree=0.4 \n",
      "[10:54:30] WARNING: C:/Users/Administrator/workspace/xgboost-win64_release_1.3.0/src/learner.cc:1061: Starting in XGBoost 1.3.0, the default evaluation metric used with the objective 'multi:softprob' was changed from 'merror' to 'mlogloss'. Explicitly set eval_metric if you'd like to restore the old behavior.\n",
      "[CV]  clf__min_child_weight=7, clf__max_depth=3, clf__learning_rate=0.15, clf__gamma=0.3, clf__colsample_bytree=0.4, total=   7.8s\n",
      "[CV] clf__min_child_weight=7, clf__max_depth=3, clf__learning_rate=0.15, clf__gamma=0.3, clf__colsample_bytree=0.4 \n",
      "[10:54:37] WARNING: C:/Users/Administrator/workspace/xgboost-win64_release_1.3.0/src/learner.cc:1061: Starting in XGBoost 1.3.0, the default evaluation metric used with the objective 'multi:softprob' was changed from 'merror' to 'mlogloss'. Explicitly set eval_metric if you'd like to restore the old behavior.\n",
      "[CV]  clf__min_child_weight=7, clf__max_depth=3, clf__learning_rate=0.15, clf__gamma=0.3, clf__colsample_bytree=0.4, total=   6.9s\n",
      "[CV] clf__min_child_weight=7, clf__max_depth=3, clf__learning_rate=0.15, clf__gamma=0.3, clf__colsample_bytree=0.4 \n",
      "[10:54:44] WARNING: C:/Users/Administrator/workspace/xgboost-win64_release_1.3.0/src/learner.cc:1061: Starting in XGBoost 1.3.0, the default evaluation metric used with the objective 'multi:softprob' was changed from 'merror' to 'mlogloss'. Explicitly set eval_metric if you'd like to restore the old behavior.\n",
      "[CV]  clf__min_child_weight=7, clf__max_depth=3, clf__learning_rate=0.15, clf__gamma=0.3, clf__colsample_bytree=0.4, total=   8.3s\n",
      "[CV] clf__min_child_weight=3, clf__max_depth=3, clf__learning_rate=0.25, clf__gamma=0.4, clf__colsample_bytree=0.3 \n",
      "[10:54:53] WARNING: C:/Users/Administrator/workspace/xgboost-win64_release_1.3.0/src/learner.cc:1061: Starting in XGBoost 1.3.0, the default evaluation metric used with the objective 'multi:softprob' was changed from 'merror' to 'mlogloss'. Explicitly set eval_metric if you'd like to restore the old behavior.\n",
      "[CV]  clf__min_child_weight=3, clf__max_depth=3, clf__learning_rate=0.25, clf__gamma=0.4, clf__colsample_bytree=0.3, total=   6.9s\n",
      "[CV] clf__min_child_weight=3, clf__max_depth=3, clf__learning_rate=0.25, clf__gamma=0.4, clf__colsample_bytree=0.3 \n"
     ]
    },
    {
     "name": "stdout",
     "output_type": "stream",
     "text": [
      "[10:54:59] WARNING: C:/Users/Administrator/workspace/xgboost-win64_release_1.3.0/src/learner.cc:1061: Starting in XGBoost 1.3.0, the default evaluation metric used with the objective 'multi:softprob' was changed from 'merror' to 'mlogloss'. Explicitly set eval_metric if you'd like to restore the old behavior.\n",
      "[CV]  clf__min_child_weight=3, clf__max_depth=3, clf__learning_rate=0.25, clf__gamma=0.4, clf__colsample_bytree=0.3, total=   5.8s\n",
      "[CV] clf__min_child_weight=3, clf__max_depth=3, clf__learning_rate=0.25, clf__gamma=0.4, clf__colsample_bytree=0.3 \n",
      "[10:55:05] WARNING: C:/Users/Administrator/workspace/xgboost-win64_release_1.3.0/src/learner.cc:1061: Starting in XGBoost 1.3.0, the default evaluation metric used with the objective 'multi:softprob' was changed from 'merror' to 'mlogloss'. Explicitly set eval_metric if you'd like to restore the old behavior.\n",
      "[CV]  clf__min_child_weight=3, clf__max_depth=3, clf__learning_rate=0.25, clf__gamma=0.4, clf__colsample_bytree=0.3, total=   6.8s\n",
      "[CV] clf__min_child_weight=3, clf__max_depth=3, clf__learning_rate=0.25, clf__gamma=0.4, clf__colsample_bytree=0.3 \n",
      "[10:55:12] WARNING: C:/Users/Administrator/workspace/xgboost-win64_release_1.3.0/src/learner.cc:1061: Starting in XGBoost 1.3.0, the default evaluation metric used with the objective 'multi:softprob' was changed from 'merror' to 'mlogloss'. Explicitly set eval_metric if you'd like to restore the old behavior.\n",
      "[CV]  clf__min_child_weight=3, clf__max_depth=3, clf__learning_rate=0.25, clf__gamma=0.4, clf__colsample_bytree=0.3, total=   6.6s\n",
      "[CV] clf__min_child_weight=3, clf__max_depth=3, clf__learning_rate=0.25, clf__gamma=0.4, clf__colsample_bytree=0.3 \n",
      "[10:55:19] WARNING: C:/Users/Administrator/workspace/xgboost-win64_release_1.3.0/src/learner.cc:1061: Starting in XGBoost 1.3.0, the default evaluation metric used with the objective 'multi:softprob' was changed from 'merror' to 'mlogloss'. Explicitly set eval_metric if you'd like to restore the old behavior.\n",
      "[CV]  clf__min_child_weight=3, clf__max_depth=3, clf__learning_rate=0.25, clf__gamma=0.4, clf__colsample_bytree=0.3, total=   7.4s\n",
      "[CV] clf__min_child_weight=7, clf__max_depth=12, clf__learning_rate=0.05, clf__gamma=0.4, clf__colsample_bytree=0.3 \n",
      "[10:55:26] WARNING: C:/Users/Administrator/workspace/xgboost-win64_release_1.3.0/src/learner.cc:1061: Starting in XGBoost 1.3.0, the default evaluation metric used with the objective 'multi:softprob' was changed from 'merror' to 'mlogloss'. Explicitly set eval_metric if you'd like to restore the old behavior.\n",
      "[CV]  clf__min_child_weight=7, clf__max_depth=12, clf__learning_rate=0.05, clf__gamma=0.4, clf__colsample_bytree=0.3, total=  11.0s\n",
      "[CV] clf__min_child_weight=7, clf__max_depth=12, clf__learning_rate=0.05, clf__gamma=0.4, clf__colsample_bytree=0.3 \n",
      "[10:55:38] WARNING: C:/Users/Administrator/workspace/xgboost-win64_release_1.3.0/src/learner.cc:1061: Starting in XGBoost 1.3.0, the default evaluation metric used with the objective 'multi:softprob' was changed from 'merror' to 'mlogloss'. Explicitly set eval_metric if you'd like to restore the old behavior.\n",
      "[CV]  clf__min_child_weight=7, clf__max_depth=12, clf__learning_rate=0.05, clf__gamma=0.4, clf__colsample_bytree=0.3, total=  10.3s\n",
      "[CV] clf__min_child_weight=7, clf__max_depth=12, clf__learning_rate=0.05, clf__gamma=0.4, clf__colsample_bytree=0.3 \n",
      "[10:55:48] WARNING: C:/Users/Administrator/workspace/xgboost-win64_release_1.3.0/src/learner.cc:1061: Starting in XGBoost 1.3.0, the default evaluation metric used with the objective 'multi:softprob' was changed from 'merror' to 'mlogloss'. Explicitly set eval_metric if you'd like to restore the old behavior.\n",
      "[CV]  clf__min_child_weight=7, clf__max_depth=12, clf__learning_rate=0.05, clf__gamma=0.4, clf__colsample_bytree=0.3, total=  11.9s\n",
      "[CV] clf__min_child_weight=7, clf__max_depth=12, clf__learning_rate=0.05, clf__gamma=0.4, clf__colsample_bytree=0.3 \n",
      "[10:56:00] WARNING: C:/Users/Administrator/workspace/xgboost-win64_release_1.3.0/src/learner.cc:1061: Starting in XGBoost 1.3.0, the default evaluation metric used with the objective 'multi:softprob' was changed from 'merror' to 'mlogloss'. Explicitly set eval_metric if you'd like to restore the old behavior.\n",
      "[CV]  clf__min_child_weight=7, clf__max_depth=12, clf__learning_rate=0.05, clf__gamma=0.4, clf__colsample_bytree=0.3, total=  10.7s\n",
      "[CV] clf__min_child_weight=7, clf__max_depth=12, clf__learning_rate=0.05, clf__gamma=0.4, clf__colsample_bytree=0.3 \n",
      "[10:56:10] WARNING: C:/Users/Administrator/workspace/xgboost-win64_release_1.3.0/src/learner.cc:1061: Starting in XGBoost 1.3.0, the default evaluation metric used with the objective 'multi:softprob' was changed from 'merror' to 'mlogloss'. Explicitly set eval_metric if you'd like to restore the old behavior.\n",
      "[CV]  clf__min_child_weight=7, clf__max_depth=12, clf__learning_rate=0.05, clf__gamma=0.4, clf__colsample_bytree=0.3, total=  11.9s\n",
      "[CV] clf__min_child_weight=1, clf__max_depth=3, clf__learning_rate=0.3, clf__gamma=0.1, clf__colsample_bytree=0.4 \n",
      "[10:56:22] WARNING: C:/Users/Administrator/workspace/xgboost-win64_release_1.3.0/src/learner.cc:1061: Starting in XGBoost 1.3.0, the default evaluation metric used with the objective 'multi:softprob' was changed from 'merror' to 'mlogloss'. Explicitly set eval_metric if you'd like to restore the old behavior.\n",
      "[CV]  clf__min_child_weight=1, clf__max_depth=3, clf__learning_rate=0.3, clf__gamma=0.1, clf__colsample_bytree=0.4, total=   9.6s\n",
      "[CV] clf__min_child_weight=1, clf__max_depth=3, clf__learning_rate=0.3, clf__gamma=0.1, clf__colsample_bytree=0.4 \n",
      "[10:56:32] WARNING: C:/Users/Administrator/workspace/xgboost-win64_release_1.3.0/src/learner.cc:1061: Starting in XGBoost 1.3.0, the default evaluation metric used with the objective 'multi:softprob' was changed from 'merror' to 'mlogloss'. Explicitly set eval_metric if you'd like to restore the old behavior.\n",
      "[CV]  clf__min_child_weight=1, clf__max_depth=3, clf__learning_rate=0.3, clf__gamma=0.1, clf__colsample_bytree=0.4, total=   6.7s\n",
      "[CV] clf__min_child_weight=1, clf__max_depth=3, clf__learning_rate=0.3, clf__gamma=0.1, clf__colsample_bytree=0.4 \n",
      "[10:56:38] WARNING: C:/Users/Administrator/workspace/xgboost-win64_release_1.3.0/src/learner.cc:1061: Starting in XGBoost 1.3.0, the default evaluation metric used with the objective 'multi:softprob' was changed from 'merror' to 'mlogloss'. Explicitly set eval_metric if you'd like to restore the old behavior.\n",
      "[CV]  clf__min_child_weight=1, clf__max_depth=3, clf__learning_rate=0.3, clf__gamma=0.1, clf__colsample_bytree=0.4, total=   8.2s\n",
      "[CV] clf__min_child_weight=1, clf__max_depth=3, clf__learning_rate=0.3, clf__gamma=0.1, clf__colsample_bytree=0.4 \n",
      "[10:56:47] WARNING: C:/Users/Administrator/workspace/xgboost-win64_release_1.3.0/src/learner.cc:1061: Starting in XGBoost 1.3.0, the default evaluation metric used with the objective 'multi:softprob' was changed from 'merror' to 'mlogloss'. Explicitly set eval_metric if you'd like to restore the old behavior.\n",
      "[CV]  clf__min_child_weight=1, clf__max_depth=3, clf__learning_rate=0.3, clf__gamma=0.1, clf__colsample_bytree=0.4, total=   9.1s\n",
      "[CV] clf__min_child_weight=1, clf__max_depth=3, clf__learning_rate=0.3, clf__gamma=0.1, clf__colsample_bytree=0.4 \n",
      "[10:56:56] WARNING: C:/Users/Administrator/workspace/xgboost-win64_release_1.3.0/src/learner.cc:1061: Starting in XGBoost 1.3.0, the default evaluation metric used with the objective 'multi:softprob' was changed from 'merror' to 'mlogloss'. Explicitly set eval_metric if you'd like to restore the old behavior.\n",
      "[CV]  clf__min_child_weight=1, clf__max_depth=3, clf__learning_rate=0.3, clf__gamma=0.1, clf__colsample_bytree=0.4, total=   7.5s\n",
      "[CV] clf__min_child_weight=3, clf__max_depth=15, clf__learning_rate=0.05, clf__gamma=0.1, clf__colsample_bytree=0.7 \n",
      "[10:57:04] WARNING: C:/Users/Administrator/workspace/xgboost-win64_release_1.3.0/src/learner.cc:1061: Starting in XGBoost 1.3.0, the default evaluation metric used with the objective 'multi:softprob' was changed from 'merror' to 'mlogloss'. Explicitly set eval_metric if you'd like to restore the old behavior.\n",
      "[CV]  clf__min_child_weight=3, clf__max_depth=15, clf__learning_rate=0.05, clf__gamma=0.1, clf__colsample_bytree=0.7, total=  27.0s\n",
      "[CV] clf__min_child_weight=3, clf__max_depth=15, clf__learning_rate=0.05, clf__gamma=0.1, clf__colsample_bytree=0.7 \n"
     ]
    },
    {
     "name": "stdout",
     "output_type": "stream",
     "text": [
      "[10:57:31] WARNING: C:/Users/Administrator/workspace/xgboost-win64_release_1.3.0/src/learner.cc:1061: Starting in XGBoost 1.3.0, the default evaluation metric used with the objective 'multi:softprob' was changed from 'merror' to 'mlogloss'. Explicitly set eval_metric if you'd like to restore the old behavior.\n",
      "[CV]  clf__min_child_weight=3, clf__max_depth=15, clf__learning_rate=0.05, clf__gamma=0.1, clf__colsample_bytree=0.7, total=  30.5s\n",
      "[CV] clf__min_child_weight=3, clf__max_depth=15, clf__learning_rate=0.05, clf__gamma=0.1, clf__colsample_bytree=0.7 \n",
      "[10:58:01] WARNING: C:/Users/Administrator/workspace/xgboost-win64_release_1.3.0/src/learner.cc:1061: Starting in XGBoost 1.3.0, the default evaluation metric used with the objective 'multi:softprob' was changed from 'merror' to 'mlogloss'. Explicitly set eval_metric if you'd like to restore the old behavior.\n",
      "[CV]  clf__min_child_weight=3, clf__max_depth=15, clf__learning_rate=0.05, clf__gamma=0.1, clf__colsample_bytree=0.7, total=  25.0s\n",
      "[CV] clf__min_child_weight=3, clf__max_depth=15, clf__learning_rate=0.05, clf__gamma=0.1, clf__colsample_bytree=0.7 \n",
      "[10:58:26] WARNING: C:/Users/Administrator/workspace/xgboost-win64_release_1.3.0/src/learner.cc:1061: Starting in XGBoost 1.3.0, the default evaluation metric used with the objective 'multi:softprob' was changed from 'merror' to 'mlogloss'. Explicitly set eval_metric if you'd like to restore the old behavior.\n",
      "[CV]  clf__min_child_weight=3, clf__max_depth=15, clf__learning_rate=0.05, clf__gamma=0.1, clf__colsample_bytree=0.7, total=  25.4s\n",
      "[CV] clf__min_child_weight=3, clf__max_depth=15, clf__learning_rate=0.05, clf__gamma=0.1, clf__colsample_bytree=0.7 \n",
      "[10:58:52] WARNING: C:/Users/Administrator/workspace/xgboost-win64_release_1.3.0/src/learner.cc:1061: Starting in XGBoost 1.3.0, the default evaluation metric used with the objective 'multi:softprob' was changed from 'merror' to 'mlogloss'. Explicitly set eval_metric if you'd like to restore the old behavior.\n",
      "[CV]  clf__min_child_weight=3, clf__max_depth=15, clf__learning_rate=0.05, clf__gamma=0.1, clf__colsample_bytree=0.7, total=  25.7s\n",
      "[CV] clf__min_child_weight=1, clf__max_depth=6, clf__learning_rate=0.3, clf__gamma=0.0, clf__colsample_bytree=0.4 \n",
      "[10:59:18] WARNING: C:/Users/Administrator/workspace/xgboost-win64_release_1.3.0/src/learner.cc:1061: Starting in XGBoost 1.3.0, the default evaluation metric used with the objective 'multi:softprob' was changed from 'merror' to 'mlogloss'. Explicitly set eval_metric if you'd like to restore the old behavior.\n",
      "[CV]  clf__min_child_weight=1, clf__max_depth=6, clf__learning_rate=0.3, clf__gamma=0.0, clf__colsample_bytree=0.4, total=  13.1s\n",
      "[CV] clf__min_child_weight=1, clf__max_depth=6, clf__learning_rate=0.3, clf__gamma=0.0, clf__colsample_bytree=0.4 \n",
      "[10:59:30] WARNING: C:/Users/Administrator/workspace/xgboost-win64_release_1.3.0/src/learner.cc:1061: Starting in XGBoost 1.3.0, the default evaluation metric used with the objective 'multi:softprob' was changed from 'merror' to 'mlogloss'. Explicitly set eval_metric if you'd like to restore the old behavior.\n",
      "[CV]  clf__min_child_weight=1, clf__max_depth=6, clf__learning_rate=0.3, clf__gamma=0.0, clf__colsample_bytree=0.4, total=  12.7s\n",
      "[CV] clf__min_child_weight=1, clf__max_depth=6, clf__learning_rate=0.3, clf__gamma=0.0, clf__colsample_bytree=0.4 \n",
      "[10:59:43] WARNING: C:/Users/Administrator/workspace/xgboost-win64_release_1.3.0/src/learner.cc:1061: Starting in XGBoost 1.3.0, the default evaluation metric used with the objective 'multi:softprob' was changed from 'merror' to 'mlogloss'. Explicitly set eval_metric if you'd like to restore the old behavior.\n",
      "[CV]  clf__min_child_weight=1, clf__max_depth=6, clf__learning_rate=0.3, clf__gamma=0.0, clf__colsample_bytree=0.4, total=   9.3s\n",
      "[CV] clf__min_child_weight=1, clf__max_depth=6, clf__learning_rate=0.3, clf__gamma=0.0, clf__colsample_bytree=0.4 \n",
      "[10:59:52] WARNING: C:/Users/Administrator/workspace/xgboost-win64_release_1.3.0/src/learner.cc:1061: Starting in XGBoost 1.3.0, the default evaluation metric used with the objective 'multi:softprob' was changed from 'merror' to 'mlogloss'. Explicitly set eval_metric if you'd like to restore the old behavior.\n",
      "[CV]  clf__min_child_weight=1, clf__max_depth=6, clf__learning_rate=0.3, clf__gamma=0.0, clf__colsample_bytree=0.4, total=  11.8s\n",
      "[CV] clf__min_child_weight=1, clf__max_depth=6, clf__learning_rate=0.3, clf__gamma=0.0, clf__colsample_bytree=0.4 \n",
      "[11:00:04] WARNING: C:/Users/Administrator/workspace/xgboost-win64_release_1.3.0/src/learner.cc:1061: Starting in XGBoost 1.3.0, the default evaluation metric used with the objective 'multi:softprob' was changed from 'merror' to 'mlogloss'. Explicitly set eval_metric if you'd like to restore the old behavior.\n",
      "[CV]  clf__min_child_weight=1, clf__max_depth=6, clf__learning_rate=0.3, clf__gamma=0.0, clf__colsample_bytree=0.4, total=  13.2s\n",
      "[CV] clf__min_child_weight=1, clf__max_depth=3, clf__learning_rate=0.3, clf__gamma=0.4, clf__colsample_bytree=0.7 \n",
      "[11:00:17] WARNING: C:/Users/Administrator/workspace/xgboost-win64_release_1.3.0/src/learner.cc:1061: Starting in XGBoost 1.3.0, the default evaluation metric used with the objective 'multi:softprob' was changed from 'merror' to 'mlogloss'. Explicitly set eval_metric if you'd like to restore the old behavior.\n",
      "[CV]  clf__min_child_weight=1, clf__max_depth=3, clf__learning_rate=0.3, clf__gamma=0.4, clf__colsample_bytree=0.7, total=  12.5s\n",
      "[CV] clf__min_child_weight=1, clf__max_depth=3, clf__learning_rate=0.3, clf__gamma=0.4, clf__colsample_bytree=0.7 \n",
      "[11:00:30] WARNING: C:/Users/Administrator/workspace/xgboost-win64_release_1.3.0/src/learner.cc:1061: Starting in XGBoost 1.3.0, the default evaluation metric used with the objective 'multi:softprob' was changed from 'merror' to 'mlogloss'. Explicitly set eval_metric if you'd like to restore the old behavior.\n",
      "[CV]  clf__min_child_weight=1, clf__max_depth=3, clf__learning_rate=0.3, clf__gamma=0.4, clf__colsample_bytree=0.7, total=  11.3s\n",
      "[CV] clf__min_child_weight=1, clf__max_depth=3, clf__learning_rate=0.3, clf__gamma=0.4, clf__colsample_bytree=0.7 \n",
      "[11:00:42] WARNING: C:/Users/Administrator/workspace/xgboost-win64_release_1.3.0/src/learner.cc:1061: Starting in XGBoost 1.3.0, the default evaluation metric used with the objective 'multi:softprob' was changed from 'merror' to 'mlogloss'. Explicitly set eval_metric if you'd like to restore the old behavior.\n",
      "[CV]  clf__min_child_weight=1, clf__max_depth=3, clf__learning_rate=0.3, clf__gamma=0.4, clf__colsample_bytree=0.7, total=  15.7s\n",
      "[CV] clf__min_child_weight=1, clf__max_depth=3, clf__learning_rate=0.3, clf__gamma=0.4, clf__colsample_bytree=0.7 \n",
      "[11:00:57] WARNING: C:/Users/Administrator/workspace/xgboost-win64_release_1.3.0/src/learner.cc:1061: Starting in XGBoost 1.3.0, the default evaluation metric used with the objective 'multi:softprob' was changed from 'merror' to 'mlogloss'. Explicitly set eval_metric if you'd like to restore the old behavior.\n",
      "[CV]  clf__min_child_weight=1, clf__max_depth=3, clf__learning_rate=0.3, clf__gamma=0.4, clf__colsample_bytree=0.7, total=  15.3s\n",
      "[CV] clf__min_child_weight=1, clf__max_depth=3, clf__learning_rate=0.3, clf__gamma=0.4, clf__colsample_bytree=0.7 \n",
      "[11:01:12] WARNING: C:/Users/Administrator/workspace/xgboost-win64_release_1.3.0/src/learner.cc:1061: Starting in XGBoost 1.3.0, the default evaluation metric used with the objective 'multi:softprob' was changed from 'merror' to 'mlogloss'. Explicitly set eval_metric if you'd like to restore the old behavior.\n",
      "[CV]  clf__min_child_weight=1, clf__max_depth=3, clf__learning_rate=0.3, clf__gamma=0.4, clf__colsample_bytree=0.7, total=  11.1s\n",
      "[CV] clf__min_child_weight=1, clf__max_depth=8, clf__learning_rate=0.25, clf__gamma=0.3, clf__colsample_bytree=0.5 \n",
      "[11:01:23] WARNING: C:/Users/Administrator/workspace/xgboost-win64_release_1.3.0/src/learner.cc:1061: Starting in XGBoost 1.3.0, the default evaluation metric used with the objective 'multi:softprob' was changed from 'merror' to 'mlogloss'. Explicitly set eval_metric if you'd like to restore the old behavior.\n",
      "[CV]  clf__min_child_weight=1, clf__max_depth=8, clf__learning_rate=0.25, clf__gamma=0.3, clf__colsample_bytree=0.5, total=  17.4s\n",
      "[CV] clf__min_child_weight=1, clf__max_depth=8, clf__learning_rate=0.25, clf__gamma=0.3, clf__colsample_bytree=0.5 \n"
     ]
    },
    {
     "name": "stdout",
     "output_type": "stream",
     "text": [
      "[11:01:41] WARNING: C:/Users/Administrator/workspace/xgboost-win64_release_1.3.0/src/learner.cc:1061: Starting in XGBoost 1.3.0, the default evaluation metric used with the objective 'multi:softprob' was changed from 'merror' to 'mlogloss'. Explicitly set eval_metric if you'd like to restore the old behavior.\n",
      "[CV]  clf__min_child_weight=1, clf__max_depth=8, clf__learning_rate=0.25, clf__gamma=0.3, clf__colsample_bytree=0.5, total=  16.0s\n",
      "[CV] clf__min_child_weight=1, clf__max_depth=8, clf__learning_rate=0.25, clf__gamma=0.3, clf__colsample_bytree=0.5 \n",
      "[11:01:56] WARNING: C:/Users/Administrator/workspace/xgboost-win64_release_1.3.0/src/learner.cc:1061: Starting in XGBoost 1.3.0, the default evaluation metric used with the objective 'multi:softprob' was changed from 'merror' to 'mlogloss'. Explicitly set eval_metric if you'd like to restore the old behavior.\n",
      "[CV]  clf__min_child_weight=1, clf__max_depth=8, clf__learning_rate=0.25, clf__gamma=0.3, clf__colsample_bytree=0.5, total=  16.6s\n",
      "[CV] clf__min_child_weight=1, clf__max_depth=8, clf__learning_rate=0.25, clf__gamma=0.3, clf__colsample_bytree=0.5 \n",
      "[11:02:13] WARNING: C:/Users/Administrator/workspace/xgboost-win64_release_1.3.0/src/learner.cc:1061: Starting in XGBoost 1.3.0, the default evaluation metric used with the objective 'multi:softprob' was changed from 'merror' to 'mlogloss'. Explicitly set eval_metric if you'd like to restore the old behavior.\n",
      "[CV]  clf__min_child_weight=1, clf__max_depth=8, clf__learning_rate=0.25, clf__gamma=0.3, clf__colsample_bytree=0.5, total=  18.4s\n",
      "[CV] clf__min_child_weight=1, clf__max_depth=8, clf__learning_rate=0.25, clf__gamma=0.3, clf__colsample_bytree=0.5 \n",
      "[11:02:32] WARNING: C:/Users/Administrator/workspace/xgboost-win64_release_1.3.0/src/learner.cc:1061: Starting in XGBoost 1.3.0, the default evaluation metric used with the objective 'multi:softprob' was changed from 'merror' to 'mlogloss'. Explicitly set eval_metric if you'd like to restore the old behavior.\n",
      "[CV]  clf__min_child_weight=1, clf__max_depth=8, clf__learning_rate=0.25, clf__gamma=0.3, clf__colsample_bytree=0.5, total=  14.4s\n",
      "[CV] clf__min_child_weight=7, clf__max_depth=8, clf__learning_rate=0.15, clf__gamma=0.0, clf__colsample_bytree=0.5 \n",
      "[11:02:46] WARNING: C:/Users/Administrator/workspace/xgboost-win64_release_1.3.0/src/learner.cc:1061: Starting in XGBoost 1.3.0, the default evaluation metric used with the objective 'multi:softprob' was changed from 'merror' to 'mlogloss'. Explicitly set eval_metric if you'd like to restore the old behavior.\n",
      "[CV]  clf__min_child_weight=7, clf__max_depth=8, clf__learning_rate=0.15, clf__gamma=0.0, clf__colsample_bytree=0.5, total=  12.8s\n",
      "[CV] clf__min_child_weight=7, clf__max_depth=8, clf__learning_rate=0.15, clf__gamma=0.0, clf__colsample_bytree=0.5 \n",
      "[11:02:59] WARNING: C:/Users/Administrator/workspace/xgboost-win64_release_1.3.0/src/learner.cc:1061: Starting in XGBoost 1.3.0, the default evaluation metric used with the objective 'multi:softprob' was changed from 'merror' to 'mlogloss'. Explicitly set eval_metric if you'd like to restore the old behavior.\n",
      "[CV]  clf__min_child_weight=7, clf__max_depth=8, clf__learning_rate=0.15, clf__gamma=0.0, clf__colsample_bytree=0.5, total=  10.0s\n",
      "[CV] clf__min_child_weight=7, clf__max_depth=8, clf__learning_rate=0.15, clf__gamma=0.0, clf__colsample_bytree=0.5 \n",
      "[11:03:09] WARNING: C:/Users/Administrator/workspace/xgboost-win64_release_1.3.0/src/learner.cc:1061: Starting in XGBoost 1.3.0, the default evaluation metric used with the objective 'multi:softprob' was changed from 'merror' to 'mlogloss'. Explicitly set eval_metric if you'd like to restore the old behavior.\n",
      "[CV]  clf__min_child_weight=7, clf__max_depth=8, clf__learning_rate=0.15, clf__gamma=0.0, clf__colsample_bytree=0.5, total=  12.2s\n",
      "[CV] clf__min_child_weight=7, clf__max_depth=8, clf__learning_rate=0.15, clf__gamma=0.0, clf__colsample_bytree=0.5 \n",
      "[11:03:22] WARNING: C:/Users/Administrator/workspace/xgboost-win64_release_1.3.0/src/learner.cc:1061: Starting in XGBoost 1.3.0, the default evaluation metric used with the objective 'multi:softprob' was changed from 'merror' to 'mlogloss'. Explicitly set eval_metric if you'd like to restore the old behavior.\n",
      "[CV]  clf__min_child_weight=7, clf__max_depth=8, clf__learning_rate=0.15, clf__gamma=0.0, clf__colsample_bytree=0.5, total=  15.7s\n",
      "[CV] clf__min_child_weight=7, clf__max_depth=8, clf__learning_rate=0.15, clf__gamma=0.0, clf__colsample_bytree=0.5 \n",
      "[11:03:36] WARNING: C:/Users/Administrator/workspace/xgboost-win64_release_1.3.0/src/learner.cc:1061: Starting in XGBoost 1.3.0, the default evaluation metric used with the objective 'multi:softprob' was changed from 'merror' to 'mlogloss'. Explicitly set eval_metric if you'd like to restore the old behavior.\n",
      "[CV]  clf__min_child_weight=7, clf__max_depth=8, clf__learning_rate=0.15, clf__gamma=0.0, clf__colsample_bytree=0.5, total=  10.9s\n",
      "[CV] clf__min_child_weight=1, clf__max_depth=10, clf__learning_rate=0.2, clf__gamma=0.3, clf__colsample_bytree=0.4 \n",
      "[11:03:48] WARNING: C:/Users/Administrator/workspace/xgboost-win64_release_1.3.0/src/learner.cc:1061: Starting in XGBoost 1.3.0, the default evaluation metric used with the objective 'multi:softprob' was changed from 'merror' to 'mlogloss'. Explicitly set eval_metric if you'd like to restore the old behavior.\n",
      "[CV]  clf__min_child_weight=1, clf__max_depth=10, clf__learning_rate=0.2, clf__gamma=0.3, clf__colsample_bytree=0.4, total=  20.8s\n",
      "[CV] clf__min_child_weight=1, clf__max_depth=10, clf__learning_rate=0.2, clf__gamma=0.3, clf__colsample_bytree=0.4 \n",
      "[11:04:09] WARNING: C:/Users/Administrator/workspace/xgboost-win64_release_1.3.0/src/learner.cc:1061: Starting in XGBoost 1.3.0, the default evaluation metric used with the objective 'multi:softprob' was changed from 'merror' to 'mlogloss'. Explicitly set eval_metric if you'd like to restore the old behavior.\n",
      "[CV]  clf__min_child_weight=1, clf__max_depth=10, clf__learning_rate=0.2, clf__gamma=0.3, clf__colsample_bytree=0.4, total=  22.9s\n",
      "[CV] clf__min_child_weight=1, clf__max_depth=10, clf__learning_rate=0.2, clf__gamma=0.3, clf__colsample_bytree=0.4 \n",
      "[11:04:31] WARNING: C:/Users/Administrator/workspace/xgboost-win64_release_1.3.0/src/learner.cc:1061: Starting in XGBoost 1.3.0, the default evaluation metric used with the objective 'multi:softprob' was changed from 'merror' to 'mlogloss'. Explicitly set eval_metric if you'd like to restore the old behavior.\n",
      "[CV]  clf__min_child_weight=1, clf__max_depth=10, clf__learning_rate=0.2, clf__gamma=0.3, clf__colsample_bytree=0.4, total=  16.6s\n",
      "[CV] clf__min_child_weight=1, clf__max_depth=10, clf__learning_rate=0.2, clf__gamma=0.3, clf__colsample_bytree=0.4 \n",
      "[11:04:48] WARNING: C:/Users/Administrator/workspace/xgboost-win64_release_1.3.0/src/learner.cc:1061: Starting in XGBoost 1.3.0, the default evaluation metric used with the objective 'multi:softprob' was changed from 'merror' to 'mlogloss'. Explicitly set eval_metric if you'd like to restore the old behavior.\n",
      "[CV]  clf__min_child_weight=1, clf__max_depth=10, clf__learning_rate=0.2, clf__gamma=0.3, clf__colsample_bytree=0.4, total=  13.5s\n",
      "[CV] clf__min_child_weight=1, clf__max_depth=10, clf__learning_rate=0.2, clf__gamma=0.3, clf__colsample_bytree=0.4 \n",
      "[11:05:02] WARNING: C:/Users/Administrator/workspace/xgboost-win64_release_1.3.0/src/learner.cc:1061: Starting in XGBoost 1.3.0, the default evaluation metric used with the objective 'multi:softprob' was changed from 'merror' to 'mlogloss'. Explicitly set eval_metric if you'd like to restore the old behavior.\n",
      "[CV]  clf__min_child_weight=1, clf__max_depth=10, clf__learning_rate=0.2, clf__gamma=0.3, clf__colsample_bytree=0.4, total=  18.2s\n",
      "[CV] clf__min_child_weight=3, clf__max_depth=15, clf__learning_rate=0.2, clf__gamma=0.3, clf__colsample_bytree=0.5 \n",
      "[11:05:20] WARNING: C:/Users/Administrator/workspace/xgboost-win64_release_1.3.0/src/learner.cc:1061: Starting in XGBoost 1.3.0, the default evaluation metric used with the objective 'multi:softprob' was changed from 'merror' to 'mlogloss'. Explicitly set eval_metric if you'd like to restore the old behavior.\n",
      "[CV]  clf__min_child_weight=3, clf__max_depth=15, clf__learning_rate=0.2, clf__gamma=0.3, clf__colsample_bytree=0.5, total=  19.5s\n",
      "[CV] clf__min_child_weight=3, clf__max_depth=15, clf__learning_rate=0.2, clf__gamma=0.3, clf__colsample_bytree=0.5 \n"
     ]
    },
    {
     "name": "stdout",
     "output_type": "stream",
     "text": [
      "[11:05:40] WARNING: C:/Users/Administrator/workspace/xgboost-win64_release_1.3.0/src/learner.cc:1061: Starting in XGBoost 1.3.0, the default evaluation metric used with the objective 'multi:softprob' was changed from 'merror' to 'mlogloss'. Explicitly set eval_metric if you'd like to restore the old behavior.\n",
      "[CV]  clf__min_child_weight=3, clf__max_depth=15, clf__learning_rate=0.2, clf__gamma=0.3, clf__colsample_bytree=0.5, total=  18.6s\n",
      "[CV] clf__min_child_weight=3, clf__max_depth=15, clf__learning_rate=0.2, clf__gamma=0.3, clf__colsample_bytree=0.5 \n",
      "[11:05:58] WARNING: C:/Users/Administrator/workspace/xgboost-win64_release_1.3.0/src/learner.cc:1061: Starting in XGBoost 1.3.0, the default evaluation metric used with the objective 'multi:softprob' was changed from 'merror' to 'mlogloss'. Explicitly set eval_metric if you'd like to restore the old behavior.\n",
      "[CV]  clf__min_child_weight=3, clf__max_depth=15, clf__learning_rate=0.2, clf__gamma=0.3, clf__colsample_bytree=0.5, total=  18.3s\n",
      "[CV] clf__min_child_weight=3, clf__max_depth=15, clf__learning_rate=0.2, clf__gamma=0.3, clf__colsample_bytree=0.5 \n",
      "[11:06:16] WARNING: C:/Users/Administrator/workspace/xgboost-win64_release_1.3.0/src/learner.cc:1061: Starting in XGBoost 1.3.0, the default evaluation metric used with the objective 'multi:softprob' was changed from 'merror' to 'mlogloss'. Explicitly set eval_metric if you'd like to restore the old behavior.\n",
      "[CV]  clf__min_child_weight=3, clf__max_depth=15, clf__learning_rate=0.2, clf__gamma=0.3, clf__colsample_bytree=0.5, total=  17.0s\n",
      "[CV] clf__min_child_weight=3, clf__max_depth=15, clf__learning_rate=0.2, clf__gamma=0.3, clf__colsample_bytree=0.5 \n",
      "[11:06:34] WARNING: C:/Users/Administrator/workspace/xgboost-win64_release_1.3.0/src/learner.cc:1061: Starting in XGBoost 1.3.0, the default evaluation metric used with the objective 'multi:softprob' was changed from 'merror' to 'mlogloss'. Explicitly set eval_metric if you'd like to restore the old behavior.\n",
      "[CV]  clf__min_child_weight=3, clf__max_depth=15, clf__learning_rate=0.2, clf__gamma=0.3, clf__colsample_bytree=0.5, total=  17.4s\n",
      "[CV] clf__min_child_weight=7, clf__max_depth=10, clf__learning_rate=0.1, clf__gamma=0.0, clf__colsample_bytree=0.4 \n",
      "[11:06:51] WARNING: C:/Users/Administrator/workspace/xgboost-win64_release_1.3.0/src/learner.cc:1061: Starting in XGBoost 1.3.0, the default evaluation metric used with the objective 'multi:softprob' was changed from 'merror' to 'mlogloss'. Explicitly set eval_metric if you'd like to restore the old behavior.\n",
      "[CV]  clf__min_child_weight=7, clf__max_depth=10, clf__learning_rate=0.1, clf__gamma=0.0, clf__colsample_bytree=0.4, total=  11.0s\n",
      "[CV] clf__min_child_weight=7, clf__max_depth=10, clf__learning_rate=0.1, clf__gamma=0.0, clf__colsample_bytree=0.4 \n",
      "[11:07:02] WARNING: C:/Users/Administrator/workspace/xgboost-win64_release_1.3.0/src/learner.cc:1061: Starting in XGBoost 1.3.0, the default evaluation metric used with the objective 'multi:softprob' was changed from 'merror' to 'mlogloss'. Explicitly set eval_metric if you'd like to restore the old behavior.\n",
      "[CV]  clf__min_child_weight=7, clf__max_depth=10, clf__learning_rate=0.1, clf__gamma=0.0, clf__colsample_bytree=0.4, total=  13.3s\n",
      "[CV] clf__min_child_weight=7, clf__max_depth=10, clf__learning_rate=0.1, clf__gamma=0.0, clf__colsample_bytree=0.4 \n",
      "[11:07:15] WARNING: C:/Users/Administrator/workspace/xgboost-win64_release_1.3.0/src/learner.cc:1061: Starting in XGBoost 1.3.0, the default evaluation metric used with the objective 'multi:softprob' was changed from 'merror' to 'mlogloss'. Explicitly set eval_metric if you'd like to restore the old behavior.\n",
      "[CV]  clf__min_child_weight=7, clf__max_depth=10, clf__learning_rate=0.1, clf__gamma=0.0, clf__colsample_bytree=0.4, total=  12.1s\n",
      "[CV] clf__min_child_weight=7, clf__max_depth=10, clf__learning_rate=0.1, clf__gamma=0.0, clf__colsample_bytree=0.4 \n",
      "[11:07:27] WARNING: C:/Users/Administrator/workspace/xgboost-win64_release_1.3.0/src/learner.cc:1061: Starting in XGBoost 1.3.0, the default evaluation metric used with the objective 'multi:softprob' was changed from 'merror' to 'mlogloss'. Explicitly set eval_metric if you'd like to restore the old behavior.\n",
      "[CV]  clf__min_child_weight=7, clf__max_depth=10, clf__learning_rate=0.1, clf__gamma=0.0, clf__colsample_bytree=0.4, total=  13.6s\n",
      "[CV] clf__min_child_weight=7, clf__max_depth=10, clf__learning_rate=0.1, clf__gamma=0.0, clf__colsample_bytree=0.4 \n",
      "[11:07:41] WARNING: C:/Users/Administrator/workspace/xgboost-win64_release_1.3.0/src/learner.cc:1061: Starting in XGBoost 1.3.0, the default evaluation metric used with the objective 'multi:softprob' was changed from 'merror' to 'mlogloss'. Explicitly set eval_metric if you'd like to restore the old behavior.\n",
      "[CV]  clf__min_child_weight=7, clf__max_depth=10, clf__learning_rate=0.1, clf__gamma=0.0, clf__colsample_bytree=0.4, total=  13.7s\n",
      "[CV] clf__min_child_weight=3, clf__max_depth=10, clf__learning_rate=0.1, clf__gamma=0.4, clf__colsample_bytree=0.3 \n",
      "[11:07:54] WARNING: C:/Users/Administrator/workspace/xgboost-win64_release_1.3.0/src/learner.cc:1061: Starting in XGBoost 1.3.0, the default evaluation metric used with the objective 'multi:softprob' was changed from 'merror' to 'mlogloss'. Explicitly set eval_metric if you'd like to restore the old behavior.\n",
      "[CV]  clf__min_child_weight=3, clf__max_depth=10, clf__learning_rate=0.1, clf__gamma=0.4, clf__colsample_bytree=0.3, total=  11.7s\n",
      "[CV] clf__min_child_weight=3, clf__max_depth=10, clf__learning_rate=0.1, clf__gamma=0.4, clf__colsample_bytree=0.3 \n",
      "[11:08:06] WARNING: C:/Users/Administrator/workspace/xgboost-win64_release_1.3.0/src/learner.cc:1061: Starting in XGBoost 1.3.0, the default evaluation metric used with the objective 'multi:softprob' was changed from 'merror' to 'mlogloss'. Explicitly set eval_metric if you'd like to restore the old behavior.\n",
      "[CV]  clf__min_child_weight=3, clf__max_depth=10, clf__learning_rate=0.1, clf__gamma=0.4, clf__colsample_bytree=0.3, total=  11.8s\n",
      "[CV] clf__min_child_weight=3, clf__max_depth=10, clf__learning_rate=0.1, clf__gamma=0.4, clf__colsample_bytree=0.3 \n",
      "[11:08:18] WARNING: C:/Users/Administrator/workspace/xgboost-win64_release_1.3.0/src/learner.cc:1061: Starting in XGBoost 1.3.0, the default evaluation metric used with the objective 'multi:softprob' was changed from 'merror' to 'mlogloss'. Explicitly set eval_metric if you'd like to restore the old behavior.\n",
      "[CV]  clf__min_child_weight=3, clf__max_depth=10, clf__learning_rate=0.1, clf__gamma=0.4, clf__colsample_bytree=0.3, total=  13.1s\n",
      "[CV] clf__min_child_weight=3, clf__max_depth=10, clf__learning_rate=0.1, clf__gamma=0.4, clf__colsample_bytree=0.3 \n",
      "[11:08:31] WARNING: C:/Users/Administrator/workspace/xgboost-win64_release_1.3.0/src/learner.cc:1061: Starting in XGBoost 1.3.0, the default evaluation metric used with the objective 'multi:softprob' was changed from 'merror' to 'mlogloss'. Explicitly set eval_metric if you'd like to restore the old behavior.\n",
      "[CV]  clf__min_child_weight=3, clf__max_depth=10, clf__learning_rate=0.1, clf__gamma=0.4, clf__colsample_bytree=0.3, total=  11.2s\n",
      "[CV] clf__min_child_weight=3, clf__max_depth=10, clf__learning_rate=0.1, clf__gamma=0.4, clf__colsample_bytree=0.3 \n",
      "[11:08:42] WARNING: C:/Users/Administrator/workspace/xgboost-win64_release_1.3.0/src/learner.cc:1061: Starting in XGBoost 1.3.0, the default evaluation metric used with the objective 'multi:softprob' was changed from 'merror' to 'mlogloss'. Explicitly set eval_metric if you'd like to restore the old behavior.\n",
      "[CV]  clf__min_child_weight=3, clf__max_depth=10, clf__learning_rate=0.1, clf__gamma=0.4, clf__colsample_bytree=0.3, total=  13.0s\n",
      "[CV] clf__min_child_weight=7, clf__max_depth=12, clf__learning_rate=0.3, clf__gamma=0.3, clf__colsample_bytree=0.4 \n",
      "[11:08:56] WARNING: C:/Users/Administrator/workspace/xgboost-win64_release_1.3.0/src/learner.cc:1061: Starting in XGBoost 1.3.0, the default evaluation metric used with the objective 'multi:softprob' was changed from 'merror' to 'mlogloss'. Explicitly set eval_metric if you'd like to restore the old behavior.\n",
      "[CV]  clf__min_child_weight=7, clf__max_depth=12, clf__learning_rate=0.3, clf__gamma=0.3, clf__colsample_bytree=0.4, total=   9.0s\n",
      "[CV] clf__min_child_weight=7, clf__max_depth=12, clf__learning_rate=0.3, clf__gamma=0.3, clf__colsample_bytree=0.4 \n"
     ]
    },
    {
     "name": "stdout",
     "output_type": "stream",
     "text": [
      "[11:09:05] WARNING: C:/Users/Administrator/workspace/xgboost-win64_release_1.3.0/src/learner.cc:1061: Starting in XGBoost 1.3.0, the default evaluation metric used with the objective 'multi:softprob' was changed from 'merror' to 'mlogloss'. Explicitly set eval_metric if you'd like to restore the old behavior.\n",
      "[CV]  clf__min_child_weight=7, clf__max_depth=12, clf__learning_rate=0.3, clf__gamma=0.3, clf__colsample_bytree=0.4, total=  12.2s\n",
      "[CV] clf__min_child_weight=7, clf__max_depth=12, clf__learning_rate=0.3, clf__gamma=0.3, clf__colsample_bytree=0.4 \n",
      "[11:09:17] WARNING: C:/Users/Administrator/workspace/xgboost-win64_release_1.3.0/src/learner.cc:1061: Starting in XGBoost 1.3.0, the default evaluation metric used with the objective 'multi:softprob' was changed from 'merror' to 'mlogloss'. Explicitly set eval_metric if you'd like to restore the old behavior.\n",
      "[CV]  clf__min_child_weight=7, clf__max_depth=12, clf__learning_rate=0.3, clf__gamma=0.3, clf__colsample_bytree=0.4, total=  16.7s\n",
      "[CV] clf__min_child_weight=7, clf__max_depth=12, clf__learning_rate=0.3, clf__gamma=0.3, clf__colsample_bytree=0.4 \n",
      "[11:09:33] WARNING: C:/Users/Administrator/workspace/xgboost-win64_release_1.3.0/src/learner.cc:1061: Starting in XGBoost 1.3.0, the default evaluation metric used with the objective 'multi:softprob' was changed from 'merror' to 'mlogloss'. Explicitly set eval_metric if you'd like to restore the old behavior.\n",
      "[CV]  clf__min_child_weight=7, clf__max_depth=12, clf__learning_rate=0.3, clf__gamma=0.3, clf__colsample_bytree=0.4, total=  11.6s\n",
      "[CV] clf__min_child_weight=7, clf__max_depth=12, clf__learning_rate=0.3, clf__gamma=0.3, clf__colsample_bytree=0.4 \n",
      "[11:09:45] WARNING: C:/Users/Administrator/workspace/xgboost-win64_release_1.3.0/src/learner.cc:1061: Starting in XGBoost 1.3.0, the default evaluation metric used with the objective 'multi:softprob' was changed from 'merror' to 'mlogloss'. Explicitly set eval_metric if you'd like to restore the old behavior.\n",
      "[CV]  clf__min_child_weight=7, clf__max_depth=12, clf__learning_rate=0.3, clf__gamma=0.3, clf__colsample_bytree=0.4, total=  11.0s\n",
      "[CV] clf__min_child_weight=1, clf__max_depth=4, clf__learning_rate=0.1, clf__gamma=0.4, clf__colsample_bytree=0.7 \n",
      "[11:09:56] WARNING: C:/Users/Administrator/workspace/xgboost-win64_release_1.3.0/src/learner.cc:1061: Starting in XGBoost 1.3.0, the default evaluation metric used with the objective 'multi:softprob' was changed from 'merror' to 'mlogloss'. Explicitly set eval_metric if you'd like to restore the old behavior.\n",
      "[CV]  clf__min_child_weight=1, clf__max_depth=4, clf__learning_rate=0.1, clf__gamma=0.4, clf__colsample_bytree=0.7, total=  14.0s\n",
      "[CV] clf__min_child_weight=1, clf__max_depth=4, clf__learning_rate=0.1, clf__gamma=0.4, clf__colsample_bytree=0.7 \n",
      "[11:10:10] WARNING: C:/Users/Administrator/workspace/xgboost-win64_release_1.3.0/src/learner.cc:1061: Starting in XGBoost 1.3.0, the default evaluation metric used with the objective 'multi:softprob' was changed from 'merror' to 'mlogloss'. Explicitly set eval_metric if you'd like to restore the old behavior.\n",
      "[CV]  clf__min_child_weight=1, clf__max_depth=4, clf__learning_rate=0.1, clf__gamma=0.4, clf__colsample_bytree=0.7, total=  17.1s\n",
      "[CV] clf__min_child_weight=1, clf__max_depth=4, clf__learning_rate=0.1, clf__gamma=0.4, clf__colsample_bytree=0.7 \n",
      "[11:10:27] WARNING: C:/Users/Administrator/workspace/xgboost-win64_release_1.3.0/src/learner.cc:1061: Starting in XGBoost 1.3.0, the default evaluation metric used with the objective 'multi:softprob' was changed from 'merror' to 'mlogloss'. Explicitly set eval_metric if you'd like to restore the old behavior.\n",
      "[CV]  clf__min_child_weight=1, clf__max_depth=4, clf__learning_rate=0.1, clf__gamma=0.4, clf__colsample_bytree=0.7, total=  18.3s\n",
      "[CV] clf__min_child_weight=1, clf__max_depth=4, clf__learning_rate=0.1, clf__gamma=0.4, clf__colsample_bytree=0.7 \n",
      "[11:10:46] WARNING: C:/Users/Administrator/workspace/xgboost-win64_release_1.3.0/src/learner.cc:1061: Starting in XGBoost 1.3.0, the default evaluation metric used with the objective 'multi:softprob' was changed from 'merror' to 'mlogloss'. Explicitly set eval_metric if you'd like to restore the old behavior.\n",
      "[CV]  clf__min_child_weight=1, clf__max_depth=4, clf__learning_rate=0.1, clf__gamma=0.4, clf__colsample_bytree=0.7, total=  17.8s\n",
      "[CV] clf__min_child_weight=1, clf__max_depth=4, clf__learning_rate=0.1, clf__gamma=0.4, clf__colsample_bytree=0.7 \n",
      "[11:11:03] WARNING: C:/Users/Administrator/workspace/xgboost-win64_release_1.3.0/src/learner.cc:1061: Starting in XGBoost 1.3.0, the default evaluation metric used with the objective 'multi:softprob' was changed from 'merror' to 'mlogloss'. Explicitly set eval_metric if you'd like to restore the old behavior.\n",
      "[CV]  clf__min_child_weight=1, clf__max_depth=4, clf__learning_rate=0.1, clf__gamma=0.4, clf__colsample_bytree=0.7, total=  14.1s\n",
      "[CV] clf__min_child_weight=1, clf__max_depth=5, clf__learning_rate=0.15, clf__gamma=0.0, clf__colsample_bytree=0.5 \n",
      "[11:11:17] WARNING: C:/Users/Administrator/workspace/xgboost-win64_release_1.3.0/src/learner.cc:1061: Starting in XGBoost 1.3.0, the default evaluation metric used with the objective 'multi:softprob' was changed from 'merror' to 'mlogloss'. Explicitly set eval_metric if you'd like to restore the old behavior.\n",
      "[CV]  clf__min_child_weight=1, clf__max_depth=5, clf__learning_rate=0.15, clf__gamma=0.0, clf__colsample_bytree=0.5, total=  14.4s\n",
      "[CV] clf__min_child_weight=1, clf__max_depth=5, clf__learning_rate=0.15, clf__gamma=0.0, clf__colsample_bytree=0.5 \n",
      "[11:11:31] WARNING: C:/Users/Administrator/workspace/xgboost-win64_release_1.3.0/src/learner.cc:1061: Starting in XGBoost 1.3.0, the default evaluation metric used with the objective 'multi:softprob' was changed from 'merror' to 'mlogloss'. Explicitly set eval_metric if you'd like to restore the old behavior.\n",
      "[CV]  clf__min_child_weight=1, clf__max_depth=5, clf__learning_rate=0.15, clf__gamma=0.0, clf__colsample_bytree=0.5, total=  13.0s\n",
      "[CV] clf__min_child_weight=1, clf__max_depth=5, clf__learning_rate=0.15, clf__gamma=0.0, clf__colsample_bytree=0.5 \n",
      "[11:11:45] WARNING: C:/Users/Administrator/workspace/xgboost-win64_release_1.3.0/src/learner.cc:1061: Starting in XGBoost 1.3.0, the default evaluation metric used with the objective 'multi:softprob' was changed from 'merror' to 'mlogloss'. Explicitly set eval_metric if you'd like to restore the old behavior.\n",
      "[CV]  clf__min_child_weight=1, clf__max_depth=5, clf__learning_rate=0.15, clf__gamma=0.0, clf__colsample_bytree=0.5, total=  11.6s\n",
      "[CV] clf__min_child_weight=1, clf__max_depth=5, clf__learning_rate=0.15, clf__gamma=0.0, clf__colsample_bytree=0.5 \n",
      "[11:11:56] WARNING: C:/Users/Administrator/workspace/xgboost-win64_release_1.3.0/src/learner.cc:1061: Starting in XGBoost 1.3.0, the default evaluation metric used with the objective 'multi:softprob' was changed from 'merror' to 'mlogloss'. Explicitly set eval_metric if you'd like to restore the old behavior.\n",
      "[CV]  clf__min_child_weight=1, clf__max_depth=5, clf__learning_rate=0.15, clf__gamma=0.0, clf__colsample_bytree=0.5, total=  16.1s\n",
      "[CV] clf__min_child_weight=1, clf__max_depth=5, clf__learning_rate=0.15, clf__gamma=0.0, clf__colsample_bytree=0.5 \n",
      "[11:12:13] WARNING: C:/Users/Administrator/workspace/xgboost-win64_release_1.3.0/src/learner.cc:1061: Starting in XGBoost 1.3.0, the default evaluation metric used with the objective 'multi:softprob' was changed from 'merror' to 'mlogloss'. Explicitly set eval_metric if you'd like to restore the old behavior.\n",
      "[CV]  clf__min_child_weight=1, clf__max_depth=5, clf__learning_rate=0.15, clf__gamma=0.0, clf__colsample_bytree=0.5, total=  12.3s\n",
      "[CV] clf__min_child_weight=3, clf__max_depth=10, clf__learning_rate=0.05, clf__gamma=0.1, clf__colsample_bytree=0.5 \n",
      "[11:12:25] WARNING: C:/Users/Administrator/workspace/xgboost-win64_release_1.3.0/src/learner.cc:1061: Starting in XGBoost 1.3.0, the default evaluation metric used with the objective 'multi:softprob' was changed from 'merror' to 'mlogloss'. Explicitly set eval_metric if you'd like to restore the old behavior.\n",
      "[CV]  clf__min_child_weight=3, clf__max_depth=10, clf__learning_rate=0.05, clf__gamma=0.1, clf__colsample_bytree=0.5, total=  19.4s\n",
      "[CV] clf__min_child_weight=3, clf__max_depth=10, clf__learning_rate=0.05, clf__gamma=0.1, clf__colsample_bytree=0.5 \n"
     ]
    },
    {
     "name": "stdout",
     "output_type": "stream",
     "text": [
      "[11:12:44] WARNING: C:/Users/Administrator/workspace/xgboost-win64_release_1.3.0/src/learner.cc:1061: Starting in XGBoost 1.3.0, the default evaluation metric used with the objective 'multi:softprob' was changed from 'merror' to 'mlogloss'. Explicitly set eval_metric if you'd like to restore the old behavior.\n",
      "[CV]  clf__min_child_weight=3, clf__max_depth=10, clf__learning_rate=0.05, clf__gamma=0.1, clf__colsample_bytree=0.5, total=  19.4s\n",
      "[CV] clf__min_child_weight=3, clf__max_depth=10, clf__learning_rate=0.05, clf__gamma=0.1, clf__colsample_bytree=0.5 \n",
      "[11:13:04] WARNING: C:/Users/Administrator/workspace/xgboost-win64_release_1.3.0/src/learner.cc:1061: Starting in XGBoost 1.3.0, the default evaluation metric used with the objective 'multi:softprob' was changed from 'merror' to 'mlogloss'. Explicitly set eval_metric if you'd like to restore the old behavior.\n",
      "[CV]  clf__min_child_weight=3, clf__max_depth=10, clf__learning_rate=0.05, clf__gamma=0.1, clf__colsample_bytree=0.5, total=  18.2s\n",
      "[CV] clf__min_child_weight=3, clf__max_depth=10, clf__learning_rate=0.05, clf__gamma=0.1, clf__colsample_bytree=0.5 \n",
      "[11:13:22] WARNING: C:/Users/Administrator/workspace/xgboost-win64_release_1.3.0/src/learner.cc:1061: Starting in XGBoost 1.3.0, the default evaluation metric used with the objective 'multi:softprob' was changed from 'merror' to 'mlogloss'. Explicitly set eval_metric if you'd like to restore the old behavior.\n",
      "[CV]  clf__min_child_weight=3, clf__max_depth=10, clf__learning_rate=0.05, clf__gamma=0.1, clf__colsample_bytree=0.5, total=  19.3s\n",
      "[CV] clf__min_child_weight=3, clf__max_depth=10, clf__learning_rate=0.05, clf__gamma=0.1, clf__colsample_bytree=0.5 \n",
      "[11:13:41] WARNING: C:/Users/Administrator/workspace/xgboost-win64_release_1.3.0/src/learner.cc:1061: Starting in XGBoost 1.3.0, the default evaluation metric used with the objective 'multi:softprob' was changed from 'merror' to 'mlogloss'. Explicitly set eval_metric if you'd like to restore the old behavior.\n",
      "[CV]  clf__min_child_weight=3, clf__max_depth=10, clf__learning_rate=0.05, clf__gamma=0.1, clf__colsample_bytree=0.5, total=  18.0s\n",
      "[CV] clf__min_child_weight=5, clf__max_depth=10, clf__learning_rate=0.25, clf__gamma=0.2, clf__colsample_bytree=0.3 \n",
      "[11:13:59] WARNING: C:/Users/Administrator/workspace/xgboost-win64_release_1.3.0/src/learner.cc:1061: Starting in XGBoost 1.3.0, the default evaluation metric used with the objective 'multi:softprob' was changed from 'merror' to 'mlogloss'. Explicitly set eval_metric if you'd like to restore the old behavior.\n",
      "[CV]  clf__min_child_weight=5, clf__max_depth=10, clf__learning_rate=0.25, clf__gamma=0.2, clf__colsample_bytree=0.3, total=  12.7s\n",
      "[CV] clf__min_child_weight=5, clf__max_depth=10, clf__learning_rate=0.25, clf__gamma=0.2, clf__colsample_bytree=0.3 \n",
      "[11:14:12] WARNING: C:/Users/Administrator/workspace/xgboost-win64_release_1.3.0/src/learner.cc:1061: Starting in XGBoost 1.3.0, the default evaluation metric used with the objective 'multi:softprob' was changed from 'merror' to 'mlogloss'. Explicitly set eval_metric if you'd like to restore the old behavior.\n",
      "[CV]  clf__min_child_weight=5, clf__max_depth=10, clf__learning_rate=0.25, clf__gamma=0.2, clf__colsample_bytree=0.3, total=  14.1s\n",
      "[CV] clf__min_child_weight=5, clf__max_depth=10, clf__learning_rate=0.25, clf__gamma=0.2, clf__colsample_bytree=0.3 \n",
      "[11:14:26] WARNING: C:/Users/Administrator/workspace/xgboost-win64_release_1.3.0/src/learner.cc:1061: Starting in XGBoost 1.3.0, the default evaluation metric used with the objective 'multi:softprob' was changed from 'merror' to 'mlogloss'. Explicitly set eval_metric if you'd like to restore the old behavior.\n",
      "[CV]  clf__min_child_weight=5, clf__max_depth=10, clf__learning_rate=0.25, clf__gamma=0.2, clf__colsample_bytree=0.3, total=   9.5s\n",
      "[CV] clf__min_child_weight=5, clf__max_depth=10, clf__learning_rate=0.25, clf__gamma=0.2, clf__colsample_bytree=0.3 \n",
      "[11:14:35] WARNING: C:/Users/Administrator/workspace/xgboost-win64_release_1.3.0/src/learner.cc:1061: Starting in XGBoost 1.3.0, the default evaluation metric used with the objective 'multi:softprob' was changed from 'merror' to 'mlogloss'. Explicitly set eval_metric if you'd like to restore the old behavior.\n",
      "[CV]  clf__min_child_weight=5, clf__max_depth=10, clf__learning_rate=0.25, clf__gamma=0.2, clf__colsample_bytree=0.3, total=  10.8s\n",
      "[CV] clf__min_child_weight=5, clf__max_depth=10, clf__learning_rate=0.25, clf__gamma=0.2, clf__colsample_bytree=0.3 \n",
      "[11:14:46] WARNING: C:/Users/Administrator/workspace/xgboost-win64_release_1.3.0/src/learner.cc:1061: Starting in XGBoost 1.3.0, the default evaluation metric used with the objective 'multi:softprob' was changed from 'merror' to 'mlogloss'. Explicitly set eval_metric if you'd like to restore the old behavior.\n",
      "[CV]  clf__min_child_weight=5, clf__max_depth=10, clf__learning_rate=0.25, clf__gamma=0.2, clf__colsample_bytree=0.3, total=  10.3s\n",
      "[CV] clf__min_child_weight=1, clf__max_depth=5, clf__learning_rate=0.25, clf__gamma=0.4, clf__colsample_bytree=0.7 \n",
      "[11:14:57] WARNING: C:/Users/Administrator/workspace/xgboost-win64_release_1.3.0/src/learner.cc:1061: Starting in XGBoost 1.3.0, the default evaluation metric used with the objective 'multi:softprob' was changed from 'merror' to 'mlogloss'. Explicitly set eval_metric if you'd like to restore the old behavior.\n",
      "[CV]  clf__min_child_weight=1, clf__max_depth=5, clf__learning_rate=0.25, clf__gamma=0.4, clf__colsample_bytree=0.7, total=  16.6s\n",
      "[CV] clf__min_child_weight=1, clf__max_depth=5, clf__learning_rate=0.25, clf__gamma=0.4, clf__colsample_bytree=0.7 \n",
      "[11:15:13] WARNING: C:/Users/Administrator/workspace/xgboost-win64_release_1.3.0/src/learner.cc:1061: Starting in XGBoost 1.3.0, the default evaluation metric used with the objective 'multi:softprob' was changed from 'merror' to 'mlogloss'. Explicitly set eval_metric if you'd like to restore the old behavior.\n",
      "[CV]  clf__min_child_weight=1, clf__max_depth=5, clf__learning_rate=0.25, clf__gamma=0.4, clf__colsample_bytree=0.7, total=  15.3s\n",
      "[CV] clf__min_child_weight=1, clf__max_depth=5, clf__learning_rate=0.25, clf__gamma=0.4, clf__colsample_bytree=0.7 \n",
      "[11:15:29] WARNING: C:/Users/Administrator/workspace/xgboost-win64_release_1.3.0/src/learner.cc:1061: Starting in XGBoost 1.3.0, the default evaluation metric used with the objective 'multi:softprob' was changed from 'merror' to 'mlogloss'. Explicitly set eval_metric if you'd like to restore the old behavior.\n",
      "[CV]  clf__min_child_weight=1, clf__max_depth=5, clf__learning_rate=0.25, clf__gamma=0.4, clf__colsample_bytree=0.7, total=  18.9s\n",
      "[CV] clf__min_child_weight=1, clf__max_depth=5, clf__learning_rate=0.25, clf__gamma=0.4, clf__colsample_bytree=0.7 \n",
      "[11:15:48] WARNING: C:/Users/Administrator/workspace/xgboost-win64_release_1.3.0/src/learner.cc:1061: Starting in XGBoost 1.3.0, the default evaluation metric used with the objective 'multi:softprob' was changed from 'merror' to 'mlogloss'. Explicitly set eval_metric if you'd like to restore the old behavior.\n",
      "[CV]  clf__min_child_weight=1, clf__max_depth=5, clf__learning_rate=0.25, clf__gamma=0.4, clf__colsample_bytree=0.7, total=  16.8s\n",
      "[CV] clf__min_child_weight=1, clf__max_depth=5, clf__learning_rate=0.25, clf__gamma=0.4, clf__colsample_bytree=0.7 \n",
      "[11:16:04] WARNING: C:/Users/Administrator/workspace/xgboost-win64_release_1.3.0/src/learner.cc:1061: Starting in XGBoost 1.3.0, the default evaluation metric used with the objective 'multi:softprob' was changed from 'merror' to 'mlogloss'. Explicitly set eval_metric if you'd like to restore the old behavior.\n",
      "[CV]  clf__min_child_weight=1, clf__max_depth=5, clf__learning_rate=0.25, clf__gamma=0.4, clf__colsample_bytree=0.7, total=  15.3s\n",
      "[CV] clf__min_child_weight=7, clf__max_depth=15, clf__learning_rate=0.2, clf__gamma=0.1, clf__colsample_bytree=0.3 \n",
      "[11:16:20] WARNING: C:/Users/Administrator/workspace/xgboost-win64_release_1.3.0/src/learner.cc:1061: Starting in XGBoost 1.3.0, the default evaluation metric used with the objective 'multi:softprob' was changed from 'merror' to 'mlogloss'. Explicitly set eval_metric if you'd like to restore the old behavior.\n",
      "[CV]  clf__min_child_weight=7, clf__max_depth=15, clf__learning_rate=0.2, clf__gamma=0.1, clf__colsample_bytree=0.3, total=  12.6s\n",
      "[CV] clf__min_child_weight=7, clf__max_depth=15, clf__learning_rate=0.2, clf__gamma=0.1, clf__colsample_bytree=0.3 \n"
     ]
    },
    {
     "name": "stdout",
     "output_type": "stream",
     "text": [
      "[11:16:32] WARNING: C:/Users/Administrator/workspace/xgboost-win64_release_1.3.0/src/learner.cc:1061: Starting in XGBoost 1.3.0, the default evaluation metric used with the objective 'multi:softprob' was changed from 'merror' to 'mlogloss'. Explicitly set eval_metric if you'd like to restore the old behavior.\n",
      "[CV]  clf__min_child_weight=7, clf__max_depth=15, clf__learning_rate=0.2, clf__gamma=0.1, clf__colsample_bytree=0.3, total=  11.4s\n",
      "[CV] clf__min_child_weight=7, clf__max_depth=15, clf__learning_rate=0.2, clf__gamma=0.1, clf__colsample_bytree=0.3 \n",
      "[11:16:44] WARNING: C:/Users/Administrator/workspace/xgboost-win64_release_1.3.0/src/learner.cc:1061: Starting in XGBoost 1.3.0, the default evaluation metric used with the objective 'multi:softprob' was changed from 'merror' to 'mlogloss'. Explicitly set eval_metric if you'd like to restore the old behavior.\n",
      "[CV]  clf__min_child_weight=7, clf__max_depth=15, clf__learning_rate=0.2, clf__gamma=0.1, clf__colsample_bytree=0.3, total=  12.9s\n",
      "[CV] clf__min_child_weight=7, clf__max_depth=15, clf__learning_rate=0.2, clf__gamma=0.1, clf__colsample_bytree=0.3 \n",
      "[11:16:56] WARNING: C:/Users/Administrator/workspace/xgboost-win64_release_1.3.0/src/learner.cc:1061: Starting in XGBoost 1.3.0, the default evaluation metric used with the objective 'multi:softprob' was changed from 'merror' to 'mlogloss'. Explicitly set eval_metric if you'd like to restore the old behavior.\n",
      "[CV]  clf__min_child_weight=7, clf__max_depth=15, clf__learning_rate=0.2, clf__gamma=0.1, clf__colsample_bytree=0.3, total=   9.4s\n",
      "[CV] clf__min_child_weight=7, clf__max_depth=15, clf__learning_rate=0.2, clf__gamma=0.1, clf__colsample_bytree=0.3 \n",
      "[11:17:06] WARNING: C:/Users/Administrator/workspace/xgboost-win64_release_1.3.0/src/learner.cc:1061: Starting in XGBoost 1.3.0, the default evaluation metric used with the objective 'multi:softprob' was changed from 'merror' to 'mlogloss'. Explicitly set eval_metric if you'd like to restore the old behavior.\n",
      "[CV]  clf__min_child_weight=7, clf__max_depth=15, clf__learning_rate=0.2, clf__gamma=0.1, clf__colsample_bytree=0.3, total=  10.6s\n",
      "[CV] clf__min_child_weight=7, clf__max_depth=15, clf__learning_rate=0.15, clf__gamma=0.1, clf__colsample_bytree=0.4 \n",
      "[11:17:17] WARNING: C:/Users/Administrator/workspace/xgboost-win64_release_1.3.0/src/learner.cc:1061: Starting in XGBoost 1.3.0, the default evaluation metric used with the objective 'multi:softprob' was changed from 'merror' to 'mlogloss'. Explicitly set eval_metric if you'd like to restore the old behavior.\n",
      "[CV]  clf__min_child_weight=7, clf__max_depth=15, clf__learning_rate=0.15, clf__gamma=0.1, clf__colsample_bytree=0.4, total=  12.4s\n",
      "[CV] clf__min_child_weight=7, clf__max_depth=15, clf__learning_rate=0.15, clf__gamma=0.1, clf__colsample_bytree=0.4 \n",
      "[11:17:29] WARNING: C:/Users/Administrator/workspace/xgboost-win64_release_1.3.0/src/learner.cc:1061: Starting in XGBoost 1.3.0, the default evaluation metric used with the objective 'multi:softprob' was changed from 'merror' to 'mlogloss'. Explicitly set eval_metric if you'd like to restore the old behavior.\n",
      "[CV]  clf__min_child_weight=7, clf__max_depth=15, clf__learning_rate=0.15, clf__gamma=0.1, clf__colsample_bytree=0.4, total=  13.5s\n",
      "[CV] clf__min_child_weight=7, clf__max_depth=15, clf__learning_rate=0.15, clf__gamma=0.1, clf__colsample_bytree=0.4 \n",
      "[11:17:43] WARNING: C:/Users/Administrator/workspace/xgboost-win64_release_1.3.0/src/learner.cc:1061: Starting in XGBoost 1.3.0, the default evaluation metric used with the objective 'multi:softprob' was changed from 'merror' to 'mlogloss'. Explicitly set eval_metric if you'd like to restore the old behavior.\n",
      "[CV]  clf__min_child_weight=7, clf__max_depth=15, clf__learning_rate=0.15, clf__gamma=0.1, clf__colsample_bytree=0.4, total=  10.3s\n",
      "[CV] clf__min_child_weight=7, clf__max_depth=15, clf__learning_rate=0.15, clf__gamma=0.1, clf__colsample_bytree=0.4 \n",
      "[11:17:53] WARNING: C:/Users/Administrator/workspace/xgboost-win64_release_1.3.0/src/learner.cc:1061: Starting in XGBoost 1.3.0, the default evaluation metric used with the objective 'multi:softprob' was changed from 'merror' to 'mlogloss'. Explicitly set eval_metric if you'd like to restore the old behavior.\n",
      "[CV]  clf__min_child_weight=7, clf__max_depth=15, clf__learning_rate=0.15, clf__gamma=0.1, clf__colsample_bytree=0.4, total=  14.8s\n",
      "[CV] clf__min_child_weight=7, clf__max_depth=15, clf__learning_rate=0.15, clf__gamma=0.1, clf__colsample_bytree=0.4 \n",
      "[11:18:08] WARNING: C:/Users/Administrator/workspace/xgboost-win64_release_1.3.0/src/learner.cc:1061: Starting in XGBoost 1.3.0, the default evaluation metric used with the objective 'multi:softprob' was changed from 'merror' to 'mlogloss'. Explicitly set eval_metric if you'd like to restore the old behavior.\n",
      "[CV]  clf__min_child_weight=7, clf__max_depth=15, clf__learning_rate=0.15, clf__gamma=0.1, clf__colsample_bytree=0.4, total=  13.5s\n",
      "[CV] clf__min_child_weight=7, clf__max_depth=4, clf__learning_rate=0.05, clf__gamma=0.3, clf__colsample_bytree=0.4 \n",
      "[11:18:21] WARNING: C:/Users/Administrator/workspace/xgboost-win64_release_1.3.0/src/learner.cc:1061: Starting in XGBoost 1.3.0, the default evaluation metric used with the objective 'multi:softprob' was changed from 'merror' to 'mlogloss'. Explicitly set eval_metric if you'd like to restore the old behavior.\n",
      "[CV]  clf__min_child_weight=7, clf__max_depth=4, clf__learning_rate=0.05, clf__gamma=0.3, clf__colsample_bytree=0.4, total=   9.3s\n",
      "[CV] clf__min_child_weight=7, clf__max_depth=4, clf__learning_rate=0.05, clf__gamma=0.3, clf__colsample_bytree=0.4 \n",
      "[11:18:30] WARNING: C:/Users/Administrator/workspace/xgboost-win64_release_1.3.0/src/learner.cc:1061: Starting in XGBoost 1.3.0, the default evaluation metric used with the objective 'multi:softprob' was changed from 'merror' to 'mlogloss'. Explicitly set eval_metric if you'd like to restore the old behavior.\n",
      "[CV]  clf__min_child_weight=7, clf__max_depth=4, clf__learning_rate=0.05, clf__gamma=0.3, clf__colsample_bytree=0.4, total=  12.8s\n",
      "[CV] clf__min_child_weight=7, clf__max_depth=4, clf__learning_rate=0.05, clf__gamma=0.3, clf__colsample_bytree=0.4 \n",
      "[11:18:43] WARNING: C:/Users/Administrator/workspace/xgboost-win64_release_1.3.0/src/learner.cc:1061: Starting in XGBoost 1.3.0, the default evaluation metric used with the objective 'multi:softprob' was changed from 'merror' to 'mlogloss'. Explicitly set eval_metric if you'd like to restore the old behavior.\n",
      "[CV]  clf__min_child_weight=7, clf__max_depth=4, clf__learning_rate=0.05, clf__gamma=0.3, clf__colsample_bytree=0.4, total=  12.3s\n",
      "[CV] clf__min_child_weight=7, clf__max_depth=4, clf__learning_rate=0.05, clf__gamma=0.3, clf__colsample_bytree=0.4 \n",
      "[11:18:56] WARNING: C:/Users/Administrator/workspace/xgboost-win64_release_1.3.0/src/learner.cc:1061: Starting in XGBoost 1.3.0, the default evaluation metric used with the objective 'multi:softprob' was changed from 'merror' to 'mlogloss'. Explicitly set eval_metric if you'd like to restore the old behavior.\n",
      "[CV]  clf__min_child_weight=7, clf__max_depth=4, clf__learning_rate=0.05, clf__gamma=0.3, clf__colsample_bytree=0.4, total=  12.1s\n",
      "[CV] clf__min_child_weight=7, clf__max_depth=4, clf__learning_rate=0.05, clf__gamma=0.3, clf__colsample_bytree=0.4 \n",
      "[11:19:08] WARNING: C:/Users/Administrator/workspace/xgboost-win64_release_1.3.0/src/learner.cc:1061: Starting in XGBoost 1.3.0, the default evaluation metric used with the objective 'multi:softprob' was changed from 'merror' to 'mlogloss'. Explicitly set eval_metric if you'd like to restore the old behavior.\n",
      "[CV]  clf__min_child_weight=7, clf__max_depth=4, clf__learning_rate=0.05, clf__gamma=0.3, clf__colsample_bytree=0.4, total=   8.9s\n",
      "[CV] clf__min_child_weight=7, clf__max_depth=10, clf__learning_rate=0.3, clf__gamma=0.3, clf__colsample_bytree=0.5 \n",
      "[11:19:16] WARNING: C:/Users/Administrator/workspace/xgboost-win64_release_1.3.0/src/learner.cc:1061: Starting in XGBoost 1.3.0, the default evaluation metric used with the objective 'multi:softprob' was changed from 'merror' to 'mlogloss'. Explicitly set eval_metric if you'd like to restore the old behavior.\n",
      "[CV]  clf__min_child_weight=7, clf__max_depth=10, clf__learning_rate=0.3, clf__gamma=0.3, clf__colsample_bytree=0.5, total=  13.2s\n",
      "[CV] clf__min_child_weight=7, clf__max_depth=10, clf__learning_rate=0.3, clf__gamma=0.3, clf__colsample_bytree=0.5 \n"
     ]
    },
    {
     "name": "stdout",
     "output_type": "stream",
     "text": [
      "[11:19:30] WARNING: C:/Users/Administrator/workspace/xgboost-win64_release_1.3.0/src/learner.cc:1061: Starting in XGBoost 1.3.0, the default evaluation metric used with the objective 'multi:softprob' was changed from 'merror' to 'mlogloss'. Explicitly set eval_metric if you'd like to restore the old behavior.\n",
      "[CV]  clf__min_child_weight=7, clf__max_depth=10, clf__learning_rate=0.3, clf__gamma=0.3, clf__colsample_bytree=0.5, total=  13.7s\n",
      "[CV] clf__min_child_weight=7, clf__max_depth=10, clf__learning_rate=0.3, clf__gamma=0.3, clf__colsample_bytree=0.5 \n",
      "[11:19:43] WARNING: C:/Users/Administrator/workspace/xgboost-win64_release_1.3.0/src/learner.cc:1061: Starting in XGBoost 1.3.0, the default evaluation metric used with the objective 'multi:softprob' was changed from 'merror' to 'mlogloss'. Explicitly set eval_metric if you'd like to restore the old behavior.\n",
      "[CV]  clf__min_child_weight=7, clf__max_depth=10, clf__learning_rate=0.3, clf__gamma=0.3, clf__colsample_bytree=0.5, total=  15.4s\n",
      "[CV] clf__min_child_weight=7, clf__max_depth=10, clf__learning_rate=0.3, clf__gamma=0.3, clf__colsample_bytree=0.5 \n",
      "[11:19:59] WARNING: C:/Users/Administrator/workspace/xgboost-win64_release_1.3.0/src/learner.cc:1061: Starting in XGBoost 1.3.0, the default evaluation metric used with the objective 'multi:softprob' was changed from 'merror' to 'mlogloss'. Explicitly set eval_metric if you'd like to restore the old behavior.\n",
      "[CV]  clf__min_child_weight=7, clf__max_depth=10, clf__learning_rate=0.3, clf__gamma=0.3, clf__colsample_bytree=0.5, total=  15.3s\n",
      "[CV] clf__min_child_weight=7, clf__max_depth=10, clf__learning_rate=0.3, clf__gamma=0.3, clf__colsample_bytree=0.5 \n",
      "[11:20:14] WARNING: C:/Users/Administrator/workspace/xgboost-win64_release_1.3.0/src/learner.cc:1061: Starting in XGBoost 1.3.0, the default evaluation metric used with the objective 'multi:softprob' was changed from 'merror' to 'mlogloss'. Explicitly set eval_metric if you'd like to restore the old behavior.\n",
      "[CV]  clf__min_child_weight=7, clf__max_depth=10, clf__learning_rate=0.3, clf__gamma=0.3, clf__colsample_bytree=0.5, total=  13.2s\n",
      "[CV] clf__min_child_weight=5, clf__max_depth=6, clf__learning_rate=0.1, clf__gamma=0.3, clf__colsample_bytree=0.5 \n",
      "[11:20:28] WARNING: C:/Users/Administrator/workspace/xgboost-win64_release_1.3.0/src/learner.cc:1061: Starting in XGBoost 1.3.0, the default evaluation metric used with the objective 'multi:softprob' was changed from 'merror' to 'mlogloss'. Explicitly set eval_metric if you'd like to restore the old behavior.\n",
      "[CV]  clf__min_child_weight=5, clf__max_depth=6, clf__learning_rate=0.1, clf__gamma=0.3, clf__colsample_bytree=0.5, total=  13.8s\n",
      "[CV] clf__min_child_weight=5, clf__max_depth=6, clf__learning_rate=0.1, clf__gamma=0.3, clf__colsample_bytree=0.5 \n",
      "[11:20:41] WARNING: C:/Users/Administrator/workspace/xgboost-win64_release_1.3.0/src/learner.cc:1061: Starting in XGBoost 1.3.0, the default evaluation metric used with the objective 'multi:softprob' was changed from 'merror' to 'mlogloss'. Explicitly set eval_metric if you'd like to restore the old behavior.\n",
      "[CV]  clf__min_child_weight=5, clf__max_depth=6, clf__learning_rate=0.1, clf__gamma=0.3, clf__colsample_bytree=0.5, total=  12.9s\n",
      "[CV] clf__min_child_weight=5, clf__max_depth=6, clf__learning_rate=0.1, clf__gamma=0.3, clf__colsample_bytree=0.5 \n",
      "[11:20:54] WARNING: C:/Users/Administrator/workspace/xgboost-win64_release_1.3.0/src/learner.cc:1061: Starting in XGBoost 1.3.0, the default evaluation metric used with the objective 'multi:softprob' was changed from 'merror' to 'mlogloss'. Explicitly set eval_metric if you'd like to restore the old behavior.\n",
      "[CV]  clf__min_child_weight=5, clf__max_depth=6, clf__learning_rate=0.1, clf__gamma=0.3, clf__colsample_bytree=0.5, total=  10.6s\n",
      "[CV] clf__min_child_weight=5, clf__max_depth=6, clf__learning_rate=0.1, clf__gamma=0.3, clf__colsample_bytree=0.5 \n",
      "[11:21:04] WARNING: C:/Users/Administrator/workspace/xgboost-win64_release_1.3.0/src/learner.cc:1061: Starting in XGBoost 1.3.0, the default evaluation metric used with the objective 'multi:softprob' was changed from 'merror' to 'mlogloss'. Explicitly set eval_metric if you'd like to restore the old behavior.\n",
      "[CV]  clf__min_child_weight=5, clf__max_depth=6, clf__learning_rate=0.1, clf__gamma=0.3, clf__colsample_bytree=0.5, total=  12.4s\n",
      "[CV] clf__min_child_weight=5, clf__max_depth=6, clf__learning_rate=0.1, clf__gamma=0.3, clf__colsample_bytree=0.5 \n",
      "[11:21:17] WARNING: C:/Users/Administrator/workspace/xgboost-win64_release_1.3.0/src/learner.cc:1061: Starting in XGBoost 1.3.0, the default evaluation metric used with the objective 'multi:softprob' was changed from 'merror' to 'mlogloss'. Explicitly set eval_metric if you'd like to restore the old behavior.\n",
      "[CV]  clf__min_child_weight=5, clf__max_depth=6, clf__learning_rate=0.1, clf__gamma=0.3, clf__colsample_bytree=0.5, total=  12.2s\n",
      "[CV] clf__min_child_weight=3, clf__max_depth=15, clf__learning_rate=0.3, clf__gamma=0.2, clf__colsample_bytree=0.4 \n",
      "[11:21:29] WARNING: C:/Users/Administrator/workspace/xgboost-win64_release_1.3.0/src/learner.cc:1061: Starting in XGBoost 1.3.0, the default evaluation metric used with the objective 'multi:softprob' was changed from 'merror' to 'mlogloss'. Explicitly set eval_metric if you'd like to restore the old behavior.\n",
      "[CV]  clf__min_child_weight=3, clf__max_depth=15, clf__learning_rate=0.3, clf__gamma=0.2, clf__colsample_bytree=0.4, total=  16.7s\n",
      "[CV] clf__min_child_weight=3, clf__max_depth=15, clf__learning_rate=0.3, clf__gamma=0.2, clf__colsample_bytree=0.4 \n",
      "[11:21:46] WARNING: C:/Users/Administrator/workspace/xgboost-win64_release_1.3.0/src/learner.cc:1061: Starting in XGBoost 1.3.0, the default evaluation metric used with the objective 'multi:softprob' was changed from 'merror' to 'mlogloss'. Explicitly set eval_metric if you'd like to restore the old behavior.\n",
      "[CV]  clf__min_child_weight=3, clf__max_depth=15, clf__learning_rate=0.3, clf__gamma=0.2, clf__colsample_bytree=0.4, total=  15.8s\n",
      "[CV] clf__min_child_weight=3, clf__max_depth=15, clf__learning_rate=0.3, clf__gamma=0.2, clf__colsample_bytree=0.4 \n",
      "[11:22:02] WARNING: C:/Users/Administrator/workspace/xgboost-win64_release_1.3.0/src/learner.cc:1061: Starting in XGBoost 1.3.0, the default evaluation metric used with the objective 'multi:softprob' was changed from 'merror' to 'mlogloss'. Explicitly set eval_metric if you'd like to restore the old behavior.\n",
      "[CV]  clf__min_child_weight=3, clf__max_depth=15, clf__learning_rate=0.3, clf__gamma=0.2, clf__colsample_bytree=0.4, total=  15.9s\n",
      "[CV] clf__min_child_weight=3, clf__max_depth=15, clf__learning_rate=0.3, clf__gamma=0.2, clf__colsample_bytree=0.4 \n",
      "[11:22:18] WARNING: C:/Users/Administrator/workspace/xgboost-win64_release_1.3.0/src/learner.cc:1061: Starting in XGBoost 1.3.0, the default evaluation metric used with the objective 'multi:softprob' was changed from 'merror' to 'mlogloss'. Explicitly set eval_metric if you'd like to restore the old behavior.\n",
      "[CV]  clf__min_child_weight=3, clf__max_depth=15, clf__learning_rate=0.3, clf__gamma=0.2, clf__colsample_bytree=0.4, total=  12.4s\n",
      "[CV] clf__min_child_weight=3, clf__max_depth=15, clf__learning_rate=0.3, clf__gamma=0.2, clf__colsample_bytree=0.4 \n",
      "[11:22:30] WARNING: C:/Users/Administrator/workspace/xgboost-win64_release_1.3.0/src/learner.cc:1061: Starting in XGBoost 1.3.0, the default evaluation metric used with the objective 'multi:softprob' was changed from 'merror' to 'mlogloss'. Explicitly set eval_metric if you'd like to restore the old behavior.\n",
      "[CV]  clf__min_child_weight=3, clf__max_depth=15, clf__learning_rate=0.3, clf__gamma=0.2, clf__colsample_bytree=0.4, total=  16.1s\n",
      "[CV] clf__min_child_weight=7, clf__max_depth=5, clf__learning_rate=0.05, clf__gamma=0.0, clf__colsample_bytree=0.7 \n",
      "[11:22:46] WARNING: C:/Users/Administrator/workspace/xgboost-win64_release_1.3.0/src/learner.cc:1061: Starting in XGBoost 1.3.0, the default evaluation metric used with the objective 'multi:softprob' was changed from 'merror' to 'mlogloss'. Explicitly set eval_metric if you'd like to restore the old behavior.\n",
      "[CV]  clf__min_child_weight=7, clf__max_depth=5, clf__learning_rate=0.05, clf__gamma=0.0, clf__colsample_bytree=0.7, total=  14.9s\n",
      "[CV] clf__min_child_weight=7, clf__max_depth=5, clf__learning_rate=0.05, clf__gamma=0.0, clf__colsample_bytree=0.7 \n"
     ]
    },
    {
     "name": "stdout",
     "output_type": "stream",
     "text": [
      "[11:23:01] WARNING: C:/Users/Administrator/workspace/xgboost-win64_release_1.3.0/src/learner.cc:1061: Starting in XGBoost 1.3.0, the default evaluation metric used with the objective 'multi:softprob' was changed from 'merror' to 'mlogloss'. Explicitly set eval_metric if you'd like to restore the old behavior.\n",
      "[CV]  clf__min_child_weight=7, clf__max_depth=5, clf__learning_rate=0.05, clf__gamma=0.0, clf__colsample_bytree=0.7, total=  22.5s\n",
      "[CV] clf__min_child_weight=7, clf__max_depth=5, clf__learning_rate=0.05, clf__gamma=0.0, clf__colsample_bytree=0.7 \n",
      "[11:23:24] WARNING: C:/Users/Administrator/workspace/xgboost-win64_release_1.3.0/src/learner.cc:1061: Starting in XGBoost 1.3.0, the default evaluation metric used with the objective 'multi:softprob' was changed from 'merror' to 'mlogloss'. Explicitly set eval_metric if you'd like to restore the old behavior.\n",
      "[CV]  clf__min_child_weight=7, clf__max_depth=5, clf__learning_rate=0.05, clf__gamma=0.0, clf__colsample_bytree=0.7, total=  17.4s\n",
      "[CV] clf__min_child_weight=7, clf__max_depth=5, clf__learning_rate=0.05, clf__gamma=0.0, clf__colsample_bytree=0.7 \n",
      "[11:23:41] WARNING: C:/Users/Administrator/workspace/xgboost-win64_release_1.3.0/src/learner.cc:1061: Starting in XGBoost 1.3.0, the default evaluation metric used with the objective 'multi:softprob' was changed from 'merror' to 'mlogloss'. Explicitly set eval_metric if you'd like to restore the old behavior.\n",
      "[CV]  clf__min_child_weight=7, clf__max_depth=5, clf__learning_rate=0.05, clf__gamma=0.0, clf__colsample_bytree=0.7, total=  11.8s\n",
      "[CV] clf__min_child_weight=7, clf__max_depth=5, clf__learning_rate=0.05, clf__gamma=0.0, clf__colsample_bytree=0.7 \n",
      "[11:23:53] WARNING: C:/Users/Administrator/workspace/xgboost-win64_release_1.3.0/src/learner.cc:1061: Starting in XGBoost 1.3.0, the default evaluation metric used with the objective 'multi:softprob' was changed from 'merror' to 'mlogloss'. Explicitly set eval_metric if you'd like to restore the old behavior.\n",
      "[CV]  clf__min_child_weight=7, clf__max_depth=5, clf__learning_rate=0.05, clf__gamma=0.0, clf__colsample_bytree=0.7, total=  14.4s\n",
      "[CV] clf__min_child_weight=5, clf__max_depth=10, clf__learning_rate=0.2, clf__gamma=0.0, clf__colsample_bytree=0.7 \n",
      "[11:24:08] WARNING: C:/Users/Administrator/workspace/xgboost-win64_release_1.3.0/src/learner.cc:1061: Starting in XGBoost 1.3.0, the default evaluation metric used with the objective 'multi:softprob' was changed from 'merror' to 'mlogloss'. Explicitly set eval_metric if you'd like to restore the old behavior.\n",
      "[CV]  clf__min_child_weight=5, clf__max_depth=10, clf__learning_rate=0.2, clf__gamma=0.0, clf__colsample_bytree=0.7, total=  18.2s\n",
      "[CV] clf__min_child_weight=5, clf__max_depth=10, clf__learning_rate=0.2, clf__gamma=0.0, clf__colsample_bytree=0.7 \n",
      "[11:24:25] WARNING: C:/Users/Administrator/workspace/xgboost-win64_release_1.3.0/src/learner.cc:1061: Starting in XGBoost 1.3.0, the default evaluation metric used with the objective 'multi:softprob' was changed from 'merror' to 'mlogloss'. Explicitly set eval_metric if you'd like to restore the old behavior.\n",
      "[CV]  clf__min_child_weight=5, clf__max_depth=10, clf__learning_rate=0.2, clf__gamma=0.0, clf__colsample_bytree=0.7, total=  16.1s\n",
      "[CV] clf__min_child_weight=5, clf__max_depth=10, clf__learning_rate=0.2, clf__gamma=0.0, clf__colsample_bytree=0.7 \n",
      "[11:24:42] WARNING: C:/Users/Administrator/workspace/xgboost-win64_release_1.3.0/src/learner.cc:1061: Starting in XGBoost 1.3.0, the default evaluation metric used with the objective 'multi:softprob' was changed from 'merror' to 'mlogloss'. Explicitly set eval_metric if you'd like to restore the old behavior.\n",
      "[CV]  clf__min_child_weight=5, clf__max_depth=10, clf__learning_rate=0.2, clf__gamma=0.0, clf__colsample_bytree=0.7, total=  19.1s\n",
      "[CV] clf__min_child_weight=5, clf__max_depth=10, clf__learning_rate=0.2, clf__gamma=0.0, clf__colsample_bytree=0.7 \n",
      "[11:25:01] WARNING: C:/Users/Administrator/workspace/xgboost-win64_release_1.3.0/src/learner.cc:1061: Starting in XGBoost 1.3.0, the default evaluation metric used with the objective 'multi:softprob' was changed from 'merror' to 'mlogloss'. Explicitly set eval_metric if you'd like to restore the old behavior.\n",
      "[CV]  clf__min_child_weight=5, clf__max_depth=10, clf__learning_rate=0.2, clf__gamma=0.0, clf__colsample_bytree=0.7, total=  17.7s\n",
      "[CV] clf__min_child_weight=5, clf__max_depth=10, clf__learning_rate=0.2, clf__gamma=0.0, clf__colsample_bytree=0.7 \n",
      "[11:25:18] WARNING: C:/Users/Administrator/workspace/xgboost-win64_release_1.3.0/src/learner.cc:1061: Starting in XGBoost 1.3.0, the default evaluation metric used with the objective 'multi:softprob' was changed from 'merror' to 'mlogloss'. Explicitly set eval_metric if you'd like to restore the old behavior.\n",
      "[CV]  clf__min_child_weight=5, clf__max_depth=10, clf__learning_rate=0.2, clf__gamma=0.0, clf__colsample_bytree=0.7, total=  17.0s\n",
      "[CV] clf__min_child_weight=3, clf__max_depth=8, clf__learning_rate=0.1, clf__gamma=0.0, clf__colsample_bytree=0.4 \n",
      "[11:25:35] WARNING: C:/Users/Administrator/workspace/xgboost-win64_release_1.3.0/src/learner.cc:1061: Starting in XGBoost 1.3.0, the default evaluation metric used with the objective 'multi:softprob' was changed from 'merror' to 'mlogloss'. Explicitly set eval_metric if you'd like to restore the old behavior.\n",
      "[CV]  clf__min_child_weight=3, clf__max_depth=8, clf__learning_rate=0.1, clf__gamma=0.0, clf__colsample_bytree=0.4, total=  12.6s\n",
      "[CV] clf__min_child_weight=3, clf__max_depth=8, clf__learning_rate=0.1, clf__gamma=0.0, clf__colsample_bytree=0.4 \n",
      "[11:25:48] WARNING: C:/Users/Administrator/workspace/xgboost-win64_release_1.3.0/src/learner.cc:1061: Starting in XGBoost 1.3.0, the default evaluation metric used with the objective 'multi:softprob' was changed from 'merror' to 'mlogloss'. Explicitly set eval_metric if you'd like to restore the old behavior.\n",
      "[CV]  clf__min_child_weight=3, clf__max_depth=8, clf__learning_rate=0.1, clf__gamma=0.0, clf__colsample_bytree=0.4, total=  14.0s\n",
      "[CV] clf__min_child_weight=3, clf__max_depth=8, clf__learning_rate=0.1, clf__gamma=0.0, clf__colsample_bytree=0.4 \n",
      "[11:26:02] WARNING: C:/Users/Administrator/workspace/xgboost-win64_release_1.3.0/src/learner.cc:1061: Starting in XGBoost 1.3.0, the default evaluation metric used with the objective 'multi:softprob' was changed from 'merror' to 'mlogloss'. Explicitly set eval_metric if you'd like to restore the old behavior.\n",
      "[CV]  clf__min_child_weight=3, clf__max_depth=8, clf__learning_rate=0.1, clf__gamma=0.0, clf__colsample_bytree=0.4, total=  13.4s\n",
      "[CV] clf__min_child_weight=3, clf__max_depth=8, clf__learning_rate=0.1, clf__gamma=0.0, clf__colsample_bytree=0.4 \n",
      "[11:26:15] WARNING: C:/Users/Administrator/workspace/xgboost-win64_release_1.3.0/src/learner.cc:1061: Starting in XGBoost 1.3.0, the default evaluation metric used with the objective 'multi:softprob' was changed from 'merror' to 'mlogloss'. Explicitly set eval_metric if you'd like to restore the old behavior.\n",
      "[CV]  clf__min_child_weight=3, clf__max_depth=8, clf__learning_rate=0.1, clf__gamma=0.0, clf__colsample_bytree=0.4, total=  13.1s\n",
      "[CV] clf__min_child_weight=3, clf__max_depth=8, clf__learning_rate=0.1, clf__gamma=0.0, clf__colsample_bytree=0.4 \n",
      "[11:26:28] WARNING: C:/Users/Administrator/workspace/xgboost-win64_release_1.3.0/src/learner.cc:1061: Starting in XGBoost 1.3.0, the default evaluation metric used with the objective 'multi:softprob' was changed from 'merror' to 'mlogloss'. Explicitly set eval_metric if you'd like to restore the old behavior.\n",
      "[CV]  clf__min_child_weight=3, clf__max_depth=8, clf__learning_rate=0.1, clf__gamma=0.0, clf__colsample_bytree=0.4, total=  16.9s\n",
      "[CV] clf__min_child_weight=7, clf__max_depth=8, clf__learning_rate=0.15, clf__gamma=0.2, clf__colsample_bytree=0.4 \n",
      "[11:26:46] WARNING: C:/Users/Administrator/workspace/xgboost-win64_release_1.3.0/src/learner.cc:1061: Starting in XGBoost 1.3.0, the default evaluation metric used with the objective 'multi:softprob' was changed from 'merror' to 'mlogloss'. Explicitly set eval_metric if you'd like to restore the old behavior.\n",
      "[CV]  clf__min_child_weight=7, clf__max_depth=8, clf__learning_rate=0.15, clf__gamma=0.2, clf__colsample_bytree=0.4, total=  15.7s\n",
      "[CV] clf__min_child_weight=7, clf__max_depth=8, clf__learning_rate=0.15, clf__gamma=0.2, clf__colsample_bytree=0.4 \n"
     ]
    },
    {
     "name": "stdout",
     "output_type": "stream",
     "text": [
      "[11:27:01] WARNING: C:/Users/Administrator/workspace/xgboost-win64_release_1.3.0/src/learner.cc:1061: Starting in XGBoost 1.3.0, the default evaluation metric used with the objective 'multi:softprob' was changed from 'merror' to 'mlogloss'. Explicitly set eval_metric if you'd like to restore the old behavior.\n",
      "[CV]  clf__min_child_weight=7, clf__max_depth=8, clf__learning_rate=0.15, clf__gamma=0.2, clf__colsample_bytree=0.4, total=  12.4s\n",
      "[CV] clf__min_child_weight=7, clf__max_depth=8, clf__learning_rate=0.15, clf__gamma=0.2, clf__colsample_bytree=0.4 \n",
      "[11:27:13] WARNING: C:/Users/Administrator/workspace/xgboost-win64_release_1.3.0/src/learner.cc:1061: Starting in XGBoost 1.3.0, the default evaluation metric used with the objective 'multi:softprob' was changed from 'merror' to 'mlogloss'. Explicitly set eval_metric if you'd like to restore the old behavior.\n",
      "[CV]  clf__min_child_weight=7, clf__max_depth=8, clf__learning_rate=0.15, clf__gamma=0.2, clf__colsample_bytree=0.4, total=  10.6s\n",
      "[CV] clf__min_child_weight=7, clf__max_depth=8, clf__learning_rate=0.15, clf__gamma=0.2, clf__colsample_bytree=0.4 \n",
      "[11:27:24] WARNING: C:/Users/Administrator/workspace/xgboost-win64_release_1.3.0/src/learner.cc:1061: Starting in XGBoost 1.3.0, the default evaluation metric used with the objective 'multi:softprob' was changed from 'merror' to 'mlogloss'. Explicitly set eval_metric if you'd like to restore the old behavior.\n",
      "[CV]  clf__min_child_weight=7, clf__max_depth=8, clf__learning_rate=0.15, clf__gamma=0.2, clf__colsample_bytree=0.4, total=  10.2s\n",
      "[CV] clf__min_child_weight=7, clf__max_depth=8, clf__learning_rate=0.15, clf__gamma=0.2, clf__colsample_bytree=0.4 \n",
      "[11:27:34] WARNING: C:/Users/Administrator/workspace/xgboost-win64_release_1.3.0/src/learner.cc:1061: Starting in XGBoost 1.3.0, the default evaluation metric used with the objective 'multi:softprob' was changed from 'merror' to 'mlogloss'. Explicitly set eval_metric if you'd like to restore the old behavior.\n",
      "[CV]  clf__min_child_weight=7, clf__max_depth=8, clf__learning_rate=0.15, clf__gamma=0.2, clf__colsample_bytree=0.4, total=  11.6s\n",
      "[CV] clf__min_child_weight=1, clf__max_depth=6, clf__learning_rate=0.25, clf__gamma=0.2, clf__colsample_bytree=0.3 \n",
      "[11:27:47] WARNING: C:/Users/Administrator/workspace/xgboost-win64_release_1.3.0/src/learner.cc:1061: Starting in XGBoost 1.3.0, the default evaluation metric used with the objective 'multi:softprob' was changed from 'merror' to 'mlogloss'. Explicitly set eval_metric if you'd like to restore the old behavior.\n",
      "[CV]  clf__min_child_weight=1, clf__max_depth=6, clf__learning_rate=0.25, clf__gamma=0.2, clf__colsample_bytree=0.3, total=  12.0s\n",
      "[CV] clf__min_child_weight=1, clf__max_depth=6, clf__learning_rate=0.25, clf__gamma=0.2, clf__colsample_bytree=0.3 \n",
      "[11:27:58] WARNING: C:/Users/Administrator/workspace/xgboost-win64_release_1.3.0/src/learner.cc:1061: Starting in XGBoost 1.3.0, the default evaluation metric used with the objective 'multi:softprob' was changed from 'merror' to 'mlogloss'. Explicitly set eval_metric if you'd like to restore the old behavior.\n",
      "[CV]  clf__min_child_weight=1, clf__max_depth=6, clf__learning_rate=0.25, clf__gamma=0.2, clf__colsample_bytree=0.3, total=   9.5s\n",
      "[CV] clf__min_child_weight=1, clf__max_depth=6, clf__learning_rate=0.25, clf__gamma=0.2, clf__colsample_bytree=0.3 \n",
      "[11:28:07] WARNING: C:/Users/Administrator/workspace/xgboost-win64_release_1.3.0/src/learner.cc:1061: Starting in XGBoost 1.3.0, the default evaluation metric used with the objective 'multi:softprob' was changed from 'merror' to 'mlogloss'. Explicitly set eval_metric if you'd like to restore the old behavior.\n",
      "[CV]  clf__min_child_weight=1, clf__max_depth=6, clf__learning_rate=0.25, clf__gamma=0.2, clf__colsample_bytree=0.3, total=  11.5s\n",
      "[CV] clf__min_child_weight=1, clf__max_depth=6, clf__learning_rate=0.25, clf__gamma=0.2, clf__colsample_bytree=0.3 \n",
      "[11:28:19] WARNING: C:/Users/Administrator/workspace/xgboost-win64_release_1.3.0/src/learner.cc:1061: Starting in XGBoost 1.3.0, the default evaluation metric used with the objective 'multi:softprob' was changed from 'merror' to 'mlogloss'. Explicitly set eval_metric if you'd like to restore the old behavior.\n",
      "[CV]  clf__min_child_weight=1, clf__max_depth=6, clf__learning_rate=0.25, clf__gamma=0.2, clf__colsample_bytree=0.3, total=   9.2s\n",
      "[CV] clf__min_child_weight=1, clf__max_depth=6, clf__learning_rate=0.25, clf__gamma=0.2, clf__colsample_bytree=0.3 \n",
      "[11:28:28] WARNING: C:/Users/Administrator/workspace/xgboost-win64_release_1.3.0/src/learner.cc:1061: Starting in XGBoost 1.3.0, the default evaluation metric used with the objective 'multi:softprob' was changed from 'merror' to 'mlogloss'. Explicitly set eval_metric if you'd like to restore the old behavior.\n",
      "[CV]  clf__min_child_weight=1, clf__max_depth=6, clf__learning_rate=0.25, clf__gamma=0.2, clf__colsample_bytree=0.3, total=  10.8s\n",
      "[CV] clf__min_child_weight=3, clf__max_depth=8, clf__learning_rate=0.2, clf__gamma=0.3, clf__colsample_bytree=0.5 \n",
      "[11:28:40] WARNING: C:/Users/Administrator/workspace/xgboost-win64_release_1.3.0/src/learner.cc:1061: Starting in XGBoost 1.3.0, the default evaluation metric used with the objective 'multi:softprob' was changed from 'merror' to 'mlogloss'. Explicitly set eval_metric if you'd like to restore the old behavior.\n",
      "[CV]  clf__min_child_weight=3, clf__max_depth=8, clf__learning_rate=0.2, clf__gamma=0.3, clf__colsample_bytree=0.5, total=  16.8s\n",
      "[CV] clf__min_child_weight=3, clf__max_depth=8, clf__learning_rate=0.2, clf__gamma=0.3, clf__colsample_bytree=0.5 \n",
      "[11:28:56] WARNING: C:/Users/Administrator/workspace/xgboost-win64_release_1.3.0/src/learner.cc:1061: Starting in XGBoost 1.3.0, the default evaluation metric used with the objective 'multi:softprob' was changed from 'merror' to 'mlogloss'. Explicitly set eval_metric if you'd like to restore the old behavior.\n",
      "[CV]  clf__min_child_weight=3, clf__max_depth=8, clf__learning_rate=0.2, clf__gamma=0.3, clf__colsample_bytree=0.5, total=  14.6s\n",
      "[CV] clf__min_child_weight=3, clf__max_depth=8, clf__learning_rate=0.2, clf__gamma=0.3, clf__colsample_bytree=0.5 \n",
      "[11:29:11] WARNING: C:/Users/Administrator/workspace/xgboost-win64_release_1.3.0/src/learner.cc:1061: Starting in XGBoost 1.3.0, the default evaluation metric used with the objective 'multi:softprob' was changed from 'merror' to 'mlogloss'. Explicitly set eval_metric if you'd like to restore the old behavior.\n",
      "[CV]  clf__min_child_weight=3, clf__max_depth=8, clf__learning_rate=0.2, clf__gamma=0.3, clf__colsample_bytree=0.5, total=  10.8s\n",
      "[CV] clf__min_child_weight=3, clf__max_depth=8, clf__learning_rate=0.2, clf__gamma=0.3, clf__colsample_bytree=0.5 \n",
      "[11:29:21] WARNING: C:/Users/Administrator/workspace/xgboost-win64_release_1.3.0/src/learner.cc:1061: Starting in XGBoost 1.3.0, the default evaluation metric used with the objective 'multi:softprob' was changed from 'merror' to 'mlogloss'. Explicitly set eval_metric if you'd like to restore the old behavior.\n",
      "[CV]  clf__min_child_weight=3, clf__max_depth=8, clf__learning_rate=0.2, clf__gamma=0.3, clf__colsample_bytree=0.5, total=  15.4s\n",
      "[CV] clf__min_child_weight=3, clf__max_depth=8, clf__learning_rate=0.2, clf__gamma=0.3, clf__colsample_bytree=0.5 \n",
      "[11:29:38] WARNING: C:/Users/Administrator/workspace/xgboost-win64_release_1.3.0/src/learner.cc:1061: Starting in XGBoost 1.3.0, the default evaluation metric used with the objective 'multi:softprob' was changed from 'merror' to 'mlogloss'. Explicitly set eval_metric if you'd like to restore the old behavior.\n",
      "[CV]  clf__min_child_weight=3, clf__max_depth=8, clf__learning_rate=0.2, clf__gamma=0.3, clf__colsample_bytree=0.5, total=  18.7s\n",
      "[CV] clf__min_child_weight=7, clf__max_depth=15, clf__learning_rate=0.1, clf__gamma=0.0, clf__colsample_bytree=0.3 \n",
      "[11:29:55] WARNING: C:/Users/Administrator/workspace/xgboost-win64_release_1.3.0/src/learner.cc:1061: Starting in XGBoost 1.3.0, the default evaluation metric used with the objective 'multi:softprob' was changed from 'merror' to 'mlogloss'. Explicitly set eval_metric if you'd like to restore the old behavior.\n",
      "[CV]  clf__min_child_weight=7, clf__max_depth=15, clf__learning_rate=0.1, clf__gamma=0.0, clf__colsample_bytree=0.3, total=  11.6s\n",
      "[CV] clf__min_child_weight=7, clf__max_depth=15, clf__learning_rate=0.1, clf__gamma=0.0, clf__colsample_bytree=0.3 \n"
     ]
    },
    {
     "name": "stdout",
     "output_type": "stream",
     "text": [
      "[11:30:07] WARNING: C:/Users/Administrator/workspace/xgboost-win64_release_1.3.0/src/learner.cc:1061: Starting in XGBoost 1.3.0, the default evaluation metric used with the objective 'multi:softprob' was changed from 'merror' to 'mlogloss'. Explicitly set eval_metric if you'd like to restore the old behavior.\n",
      "[CV]  clf__min_child_weight=7, clf__max_depth=15, clf__learning_rate=0.1, clf__gamma=0.0, clf__colsample_bytree=0.3, total=  10.1s\n",
      "[CV] clf__min_child_weight=7, clf__max_depth=15, clf__learning_rate=0.1, clf__gamma=0.0, clf__colsample_bytree=0.3 \n",
      "[11:30:17] WARNING: C:/Users/Administrator/workspace/xgboost-win64_release_1.3.0/src/learner.cc:1061: Starting in XGBoost 1.3.0, the default evaluation metric used with the objective 'multi:softprob' was changed from 'merror' to 'mlogloss'. Explicitly set eval_metric if you'd like to restore the old behavior.\n",
      "[CV]  clf__min_child_weight=7, clf__max_depth=15, clf__learning_rate=0.1, clf__gamma=0.0, clf__colsample_bytree=0.3, total=  16.9s\n",
      "[CV] clf__min_child_weight=7, clf__max_depth=15, clf__learning_rate=0.1, clf__gamma=0.0, clf__colsample_bytree=0.3 \n",
      "[11:30:35] WARNING: C:/Users/Administrator/workspace/xgboost-win64_release_1.3.0/src/learner.cc:1061: Starting in XGBoost 1.3.0, the default evaluation metric used with the objective 'multi:softprob' was changed from 'merror' to 'mlogloss'. Explicitly set eval_metric if you'd like to restore the old behavior.\n",
      "[CV]  clf__min_child_weight=7, clf__max_depth=15, clf__learning_rate=0.1, clf__gamma=0.0, clf__colsample_bytree=0.3, total=  16.5s\n",
      "[CV] clf__min_child_weight=7, clf__max_depth=15, clf__learning_rate=0.1, clf__gamma=0.0, clf__colsample_bytree=0.3 \n",
      "[11:30:50] WARNING: C:/Users/Administrator/workspace/xgboost-win64_release_1.3.0/src/learner.cc:1061: Starting in XGBoost 1.3.0, the default evaluation metric used with the objective 'multi:softprob' was changed from 'merror' to 'mlogloss'. Explicitly set eval_metric if you'd like to restore the old behavior.\n",
      "[CV]  clf__min_child_weight=7, clf__max_depth=15, clf__learning_rate=0.1, clf__gamma=0.0, clf__colsample_bytree=0.3, total=  12.4s\n",
      "[CV] clf__min_child_weight=1, clf__max_depth=5, clf__learning_rate=0.25, clf__gamma=0.1, clf__colsample_bytree=0.3 \n",
      "[11:31:03] WARNING: C:/Users/Administrator/workspace/xgboost-win64_release_1.3.0/src/learner.cc:1061: Starting in XGBoost 1.3.0, the default evaluation metric used with the objective 'multi:softprob' was changed from 'merror' to 'mlogloss'. Explicitly set eval_metric if you'd like to restore the old behavior.\n",
      "[CV]  clf__min_child_weight=1, clf__max_depth=5, clf__learning_rate=0.25, clf__gamma=0.1, clf__colsample_bytree=0.3, total=   8.8s\n",
      "[CV] clf__min_child_weight=1, clf__max_depth=5, clf__learning_rate=0.25, clf__gamma=0.1, clf__colsample_bytree=0.3 \n",
      "[11:31:12] WARNING: C:/Users/Administrator/workspace/xgboost-win64_release_1.3.0/src/learner.cc:1061: Starting in XGBoost 1.3.0, the default evaluation metric used with the objective 'multi:softprob' was changed from 'merror' to 'mlogloss'. Explicitly set eval_metric if you'd like to restore the old behavior.\n",
      "[CV]  clf__min_child_weight=1, clf__max_depth=5, clf__learning_rate=0.25, clf__gamma=0.1, clf__colsample_bytree=0.3, total=  10.3s\n",
      "[CV] clf__min_child_weight=1, clf__max_depth=5, clf__learning_rate=0.25, clf__gamma=0.1, clf__colsample_bytree=0.3 \n",
      "[11:31:22] WARNING: C:/Users/Administrator/workspace/xgboost-win64_release_1.3.0/src/learner.cc:1061: Starting in XGBoost 1.3.0, the default evaluation metric used with the objective 'multi:softprob' was changed from 'merror' to 'mlogloss'. Explicitly set eval_metric if you'd like to restore the old behavior.\n",
      "[CV]  clf__min_child_weight=1, clf__max_depth=5, clf__learning_rate=0.25, clf__gamma=0.1, clf__colsample_bytree=0.3, total=   9.5s\n",
      "[CV] clf__min_child_weight=1, clf__max_depth=5, clf__learning_rate=0.25, clf__gamma=0.1, clf__colsample_bytree=0.3 \n",
      "[11:31:32] WARNING: C:/Users/Administrator/workspace/xgboost-win64_release_1.3.0/src/learner.cc:1061: Starting in XGBoost 1.3.0, the default evaluation metric used with the objective 'multi:softprob' was changed from 'merror' to 'mlogloss'. Explicitly set eval_metric if you'd like to restore the old behavior.\n",
      "[CV]  clf__min_child_weight=1, clf__max_depth=5, clf__learning_rate=0.25, clf__gamma=0.1, clf__colsample_bytree=0.3, total=   8.2s\n",
      "[CV] clf__min_child_weight=1, clf__max_depth=5, clf__learning_rate=0.25, clf__gamma=0.1, clf__colsample_bytree=0.3 \n",
      "[11:31:40] WARNING: C:/Users/Administrator/workspace/xgboost-win64_release_1.3.0/src/learner.cc:1061: Starting in XGBoost 1.3.0, the default evaluation metric used with the objective 'multi:softprob' was changed from 'merror' to 'mlogloss'. Explicitly set eval_metric if you'd like to restore the old behavior.\n",
      "[CV]  clf__min_child_weight=1, clf__max_depth=5, clf__learning_rate=0.25, clf__gamma=0.1, clf__colsample_bytree=0.3, total=  10.4s\n"
     ]
    },
    {
     "name": "stderr",
     "output_type": "stream",
     "text": [
      "[Parallel(n_jobs=1)]: Done 250 out of 250 | elapsed: 56.6min finished\n"
     ]
    },
    {
     "name": "stdout",
     "output_type": "stream",
     "text": [
      "[11:31:50] WARNING: C:/Users/Administrator/workspace/xgboost-win64_release_1.3.0/src/learner.cc:1061: Starting in XGBoost 1.3.0, the default evaluation metric used with the objective 'multi:softprob' was changed from 'merror' to 'mlogloss'. Explicitly set eval_metric if you'd like to restore the old behavior.\n"
     ]
    },
    {
     "data": {
      "text/plain": [
       "RandomizedSearchCV(cv=5,\n",
       "                   estimator=Pipeline(steps=[('tfidf', TfidfVectorizer()),\n",
       "                                             ('clf',\n",
       "                                              XGBClassifier(base_score=None,\n",
       "                                                            booster=None,\n",
       "                                                            colsample_bylevel=None,\n",
       "                                                            colsample_bynode=None,\n",
       "                                                            colsample_bytree=None,\n",
       "                                                            gamma=None,\n",
       "                                                            gpu_id=None,\n",
       "                                                            importance_type='gain',\n",
       "                                                            interaction_constraints=None,\n",
       "                                                            learning_rate=None,\n",
       "                                                            max_delta_step=None,\n",
       "                                                            max_depth=None,\n",
       "                                                            min_child_weight=None,\n",
       "                                                            miss...\n",
       "                                                            scale_pos_weight=None,\n",
       "                                                            subsample=None,\n",
       "                                                            tree_method=None,\n",
       "                                                            validate_parameters=None,\n",
       "                                                            verbosity=None))]),\n",
       "                   n_iter=50,\n",
       "                   param_distributions={'clf__colsample_bytree': [0.3, 0.4, 0.5,\n",
       "                                                                  0.7],\n",
       "                                        'clf__gamma': [0.0, 0.1, 0.2, 0.3, 0.4],\n",
       "                                        'clf__learning_rate': [0.05, 0.1, 0.15,\n",
       "                                                               0.2, 0.25, 0.3],\n",
       "                                        'clf__max_depth': [3, 4, 5, 6, 8, 10,\n",
       "                                                           12, 15],\n",
       "                                        'clf__min_child_weight': [1, 3, 5, 7]},\n",
       "                   scoring='accuracy', verbose=2)"
      ]
     },
     "execution_count": 159,
     "metadata": {},
     "output_type": "execute_result"
    }
   ],
   "source": [
    "#Fitting the pipeline model\n",
    "pipeline.fit(X_train,y_train)"
   ]
  },
  {
   "cell_type": "code",
   "execution_count": 160,
   "metadata": {},
   "outputs": [
    {
     "data": {
      "text/plain": [
       "0.7498069498069497"
      ]
     },
     "execution_count": 160,
     "metadata": {},
     "output_type": "execute_result"
    }
   ],
   "source": [
    "#Best Score\n",
    "pipeline.best_score_"
   ]
  },
  {
   "cell_type": "markdown",
   "metadata": {},
   "source": [
    "**Our accuracy got increased from 68% to 75% by Hyperparameter tuning the model**"
   ]
  },
  {
   "cell_type": "code",
   "execution_count": 161,
   "metadata": {},
   "outputs": [
    {
     "data": {
      "text/plain": [
       "{'clf__min_child_weight': 7,\n",
       " 'clf__max_depth': 4,\n",
       " 'clf__learning_rate': 0.05,\n",
       " 'clf__gamma': 0.3,\n",
       " 'clf__colsample_bytree': 0.4}"
      ]
     },
     "execution_count": 161,
     "metadata": {},
     "output_type": "execute_result"
    }
   ],
   "source": [
    "#Best Parameters\n",
    "pipeline.best_params_"
   ]
  },
  {
   "cell_type": "markdown",
   "metadata": {},
   "source": [
    "## Training on the full data"
   ]
  },
  {
   "cell_type": "code",
   "execution_count": 162,
   "metadata": {},
   "outputs": [],
   "source": [
    "import xgboost\n",
    "from xgboost import XGBClassifier"
   ]
  },
  {
   "cell_type": "code",
   "execution_count": 163,
   "metadata": {},
   "outputs": [],
   "source": [
    "# Classification Model (XgBoost):\n",
    "text_clf_xgb = Pipeline([('tfidf', TfidfVectorizer()),\n",
    "                     ('clf', XGBClassifier(min_child_weight=7,max_depth=4,\n",
    "                                           learning_rate=0.05,gamma=0.2,\n",
    "                                           colsample_bytree=0.4))\n",
    "                        ])"
   ]
  },
  {
   "cell_type": "markdown",
   "metadata": {},
   "source": [
    "### Fitting the model"
   ]
  },
  {
   "cell_type": "code",
   "execution_count": 164,
   "metadata": {},
   "outputs": [
    {
     "name": "stdout",
     "output_type": "stream",
     "text": [
      "[11:32:04] WARNING: C:/Users/Administrator/workspace/xgboost-win64_release_1.3.0/src/learner.cc:1061: Starting in XGBoost 1.3.0, the default evaluation metric used with the objective 'multi:softprob' was changed from 'merror' to 'mlogloss'. Explicitly set eval_metric if you'd like to restore the old behavior.\n"
     ]
    },
    {
     "data": {
      "text/plain": [
       "Pipeline(steps=[('tfidf', TfidfVectorizer()),\n",
       "                ('clf',\n",
       "                 XGBClassifier(base_score=0.5, booster='gbtree',\n",
       "                               colsample_bylevel=1, colsample_bynode=1,\n",
       "                               colsample_bytree=0.4, gamma=0.2, gpu_id=-1,\n",
       "                               importance_type='gain',\n",
       "                               interaction_constraints='', learning_rate=0.05,\n",
       "                               max_delta_step=0, max_depth=4,\n",
       "                               min_child_weight=7, missing=nan,\n",
       "                               monotone_constraints='()', n_estimators=100,\n",
       "                               n_jobs=8, num_parallel_tree=1,\n",
       "                               objective='multi:softprob', random_state=0,\n",
       "                               reg_alpha=0, reg_lambda=1, scale_pos_weight=None,\n",
       "                               subsample=1, tree_method='exact',\n",
       "                               validate_parameters=1, verbosity=None))])"
      ]
     },
     "execution_count": 164,
     "metadata": {},
     "output_type": "execute_result"
    }
   ],
   "source": [
    "#Fitting the model to the whole data\n",
    "text_clf_xgb.fit(X, y)"
   ]
  },
  {
   "cell_type": "markdown",
   "metadata": {},
   "source": [
    "### Saving the model"
   ]
  },
  {
   "cell_type": "code",
   "execution_count": 165,
   "metadata": {},
   "outputs": [],
   "source": [
    "import pickle"
   ]
  },
  {
   "cell_type": "code",
   "execution_count": 166,
   "metadata": {},
   "outputs": [],
   "source": [
    "#saving the trained model into a pkl binary file\n",
    "file = open('article_classification.pkl','wb')\n",
    "pickle.dump(text_clf_xgb,file)"
   ]
  }
 ],
 "metadata": {
  "kernelspec": {
   "display_name": "Python 3",
   "language": "python",
   "name": "python3"
  },
  "language_info": {
   "codemirror_mode": {
    "name": "ipython",
    "version": 3
   },
   "file_extension": ".py",
   "mimetype": "text/x-python",
   "name": "python",
   "nbconvert_exporter": "python",
   "pygments_lexer": "ipython3",
   "version": "3.8.5"
  }
 },
 "nbformat": 4,
 "nbformat_minor": 4
}
